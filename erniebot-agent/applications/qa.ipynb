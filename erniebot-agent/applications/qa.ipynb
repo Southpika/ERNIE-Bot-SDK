{
 "cells": [
  {
   "cell_type": "code",
   "execution_count": 12,
   "metadata": {},
   "outputs": [],
   "source": [
    "import os\n",
    "\n",
    "os.environ[\"EB_AGENT_LOGGING_LEVEL\"] = \"INFO\"\n",
    "os.environ[\"EB_AGENT_ACCESS_TOKEN\"] = \"4ce50e3378f418d271c480c8ddfa818537071dbe\"\n",
    "\n",
    "from pydantic import Field\n",
    "from typing import Dict, Type, List, Any\n",
    "\n",
    "from erniebot_agent.chat_models import ERNIEBot\n",
    "from erniebot_agent.memory import HumanMessage, Message, AIMessage, FunctionMessage, SlidingWindowMemory\n",
    "from erniebot_agent.tools.base import Tool\n",
    "from erniebot_agent.tools.schema import ToolParameterView\n",
    "from erniebot_agent.agents import FunctionAgent\n",
    "from erniebot_agent.tools import RemoteToolkit\n",
    "from erniebot_agent.file import GlobalFileManagerHandler\n",
    "\n"
   ]
  },
  {
   "cell_type": "code",
   "execution_count": 15,
   "metadata": {},
   "outputs": [],
   "source": [
    "import os\n",
    "from erniebot_agent.agents.function_agent_with_retrieval import FunctionAgentWithRetrieval\n",
    "from erniebot_agent.memory.whole_memory import WholeMemory\n",
    "from erniebot_agent.chat_models.erniebot import ERNIEBot\n",
    "from langchain.text_splitter import SpacyTextSplitter\n",
    "from langchain.vectorstores import FAISS\n",
    "from langchain.document_loaders import UnstructuredMarkdownLoader\n",
    "from erniebot_agent.extensions.langchain.embeddings import ErnieEmbeddings\n",
    "from sklearn.metrics.pairwise import cosine_similarity\n",
    "from erniebot_agent.tools import RemoteToolkit\n",
    "\n",
    "embeddings = ErnieEmbeddings(aistudio_access_token=os.environ[\"EB_AGENT_ACCESS_TOKEN\"] , chunk_size=16)\n",
    "\n",
    "class FaissSearch:\n",
    "    def __init__(self, db, embeddings):\n",
    "        # 类的初始化方法，接收一个数据库实例并将其存储在类的实例变量 self.db 中，接收一个embeddings方法传到self.embeddings中\n",
    "        self.db = db\n",
    "        self.embeddings = embeddings\n",
    "\n",
    "    def search(self, query: str, top_k: int = 10, **kwargs):\n",
    "        # 定义一个搜索方法，接受一个查询字符串 'query' 和一个整数 'top_k'，默认为 10\n",
    "        docs = self.db.similarity_search(query, top_k)\n",
    "        # 调用数据库的 similarity_search 方法来获取与查询最相关的文档\n",
    "        para_result = self.embeddings.embed_documents([i.page_content for i in docs])\n",
    "        # 对获取的文档内容进行嵌入（embedding），以便进行相似性比较\n",
    "        query_result = self.embeddings.embed_query(query)\n",
    "        # 对查询字符串也进行嵌入\n",
    "        similarities = cosine_similarity([query_result], para_result).reshape((-1,))\n",
    "        # 计算查询嵌入和文档嵌入之间的余弦相似度\n",
    "        retrieval_results = []\n",
    "        for index, doc in enumerate(docs):\n",
    "            retrieval_results.append(\n",
    "                {\"content\": doc.page_content, \"score\": similarities[index], \"title\": doc.metadata[\"source\"]}\n",
    "            )\n",
    "        # 遍历每个文档，将内容、相似度得分和来源标题作为字典添加到结果列表中\n",
    "        return retrieval_results  # 返回包含搜索结果的列表"
   ]
  },
  {
   "cell_type": "code",
   "execution_count": 17,
   "metadata": {},
   "outputs": [
    {
     "ename": "TypeError",
     "evalue": "'UnstructuredMarkdownLoader' object is not iterable",
     "output_type": "error",
     "traceback": [
      "\u001b[0;31m---------------------------------------------------------------------------\u001b[0m",
      "\u001b[0;31mTypeError\u001b[0m                                 Traceback (most recent call last)",
      "\u001b[1;32m/Users/tanzhehao/Documents/ERINE/ERNIE-Bot-SDK/erniebot-agent/applications/qa.ipynb 单元格 3\u001b[0m line \u001b[0;36m4\n\u001b[1;32m      <a href='vscode-notebook-cell:/Users/tanzhehao/Documents/ERINE/ERNIE-Bot-SDK/erniebot-agent/applications/qa.ipynb#W6sZmlsZQ%3D%3D?line=1'>2</a>\u001b[0m documents \u001b[39m=\u001b[39m UnstructuredMarkdownLoader(md_file_path)\n\u001b[1;32m      <a href='vscode-notebook-cell:/Users/tanzhehao/Documents/ERINE/ERNIE-Bot-SDK/erniebot-agent/applications/qa.ipynb#W6sZmlsZQ%3D%3D?line=2'>3</a>\u001b[0m text_splitter \u001b[39m=\u001b[39m SpacyTextSplitter(pipeline\u001b[39m=\u001b[39m\u001b[39m\"\u001b[39m\u001b[39mzh_core_web_sm\u001b[39m\u001b[39m\"\u001b[39m, chunk_size\u001b[39m=\u001b[39m\u001b[39m320\u001b[39m, chunk_overlap\u001b[39m=\u001b[39m\u001b[39m0\u001b[39m)\n\u001b[0;32m----> <a href='vscode-notebook-cell:/Users/tanzhehao/Documents/ERINE/ERNIE-Bot-SDK/erniebot-agent/applications/qa.ipynb#W6sZmlsZQ%3D%3D?line=3'>4</a>\u001b[0m docs \u001b[39m=\u001b[39m text_splitter\u001b[39m.\u001b[39;49msplit_documents(documents)\n\u001b[1;32m      <a href='vscode-notebook-cell:/Users/tanzhehao/Documents/ERINE/ERNIE-Bot-SDK/erniebot-agent/applications/qa.ipynb#W6sZmlsZQ%3D%3D?line=4'>5</a>\u001b[0m db \u001b[39m=\u001b[39m FAISS\u001b[39m.\u001b[39mfrom_documents(docs, embeddings)\n",
      "File \u001b[0;32m/opt/anaconda3/envs/ernie/lib/python3.10/site-packages/langchain/text_splitter.py:159\u001b[0m, in \u001b[0;36mTextSplitter.split_documents\u001b[0;34m(self, documents)\u001b[0m\n\u001b[1;32m    157\u001b[0m \u001b[39m\u001b[39m\u001b[39m\"\"\"Split documents.\"\"\"\u001b[39;00m\n\u001b[1;32m    158\u001b[0m texts, metadatas \u001b[39m=\u001b[39m [], []\n\u001b[0;32m--> 159\u001b[0m \u001b[39mfor\u001b[39;00m doc \u001b[39min\u001b[39;00m documents:\n\u001b[1;32m    160\u001b[0m     texts\u001b[39m.\u001b[39mappend(doc\u001b[39m.\u001b[39mpage_content)\n\u001b[1;32m    161\u001b[0m     metadatas\u001b[39m.\u001b[39mappend(doc\u001b[39m.\u001b[39mmetadata)\n",
      "\u001b[0;31mTypeError\u001b[0m: 'UnstructuredMarkdownLoader' object is not iterable"
     ]
    }
   ],
   "source": [
    "md_file_path = '/Users/tanzhehao/Documents/ERINE/ERNIE-Bot-SDK/docs/modules/file.md'\n",
    "documents = UnstructuredMarkdownLoader(file_path=md_file_path)\n",
    "text_splitter = SpacyTextSplitter(pipeline=\"zh_core_web_sm\", chunk_size=320, chunk_overlap=0)\n",
    "docs = text_splitter.split_documents(documents)\n",
    "db = FAISS.from_documents(docs, embeddings)\n"
   ]
  },
  {
   "cell_type": "code",
   "execution_count": 9,
   "metadata": {},
   "outputs": [
    {
     "name": "stdout",
     "output_type": "stream",
     "text": [
      "# File 模块\n",
      "\n",
      "## 1. 模块简介\n",
      "\n",
      "文件管理模块提供了用于管理文件的一系列类，方便用户与Agent进行交互，其中包括 `File` 基类及其子类、`FileManager` 、`GlobalFileManagerHandler`以及与远程文件服务器交互的  `RemoteFileClient`。\n",
      "\n",
      "推荐使用  `GlobalFileManagerHandler`在事件循环开始时初始化 `FileManager`以及获取全局的 `FileManager`，之后只需通过这个全局的 `FileManager`对文件进行增、删、查等操作以及获取Agent产生的文件。\n",
      "\n",
      "!!! notes 注意\n",
      "\n",
      "    - **不推荐**用户自行操作 `File`类以免造成资源泄露。\n",
      "\n",
      "    - `FileManager`操作文件主要用于异步函数中，在同步函数中使用可能会无效。\n",
      "\n",
      "    - `FileManager`将作为此模块中生命周期最长的对象，它会在关闭时回收所有的持有对象（RemoteClient/temp local file），请不要随意关闭它。如果需要关闭，需要先停止对其中注册文件的使用。\n",
      "\n",
      "## 2. 核心类\n",
      "\n",
      "下面简单介绍 `File` 模块的核心类，详细接口请参考[API文档](../package/erniebot_agent/file.md)。\n",
      "\n",
      "### 2.1 File 基类\n",
      "\n",
      "`File` 类是文件管理模块的基础类，用于表示通用的文件对象（不建议自行创建 `File` 类以免无法被 `Agent`识别使用以及无法被回收）。它包含文件的基本属性，如文件ID、文件名、文件大小、创建时间、文件用途和文件元数据。\n",
      "\n",
      "此外， `File`类还定义了一系列抽象方法，比较常用的有：\n",
      "\n",
      "* 异步读取文件内容的 `read_contents`方法\n",
      "* 将文件内容写入本地路径的 `write_contents_to`方法\n",
      "\n",
      "以及一些辅助方法：\n",
      "\n",
      "* 生成文件的字符串表示形式\n",
      "* 转换为字典形式\n",
      "\n",
      "在File类的内部，其主要有两个继承子类，一个是 `Local File`，一个是 `Remote File`。\n",
      "\n",
      "以下是 `File` 基类的属性以及方法介绍：\n",
      "\n",
      "| 属性       | 类型           | 描述                                                      |\n",
      "| ---------- | -------------- | --------------------------------------------------------- |\n",
      "| id         | str            | 文件的唯一标识符                                          |\n",
      "| filename   | str            | 文件名                                                    |\n",
      "| byte_size  | int            | 文件大小（以字节为单位）                                  |\n",
      "| created_at | str            | 文件创建时间的时间戳                                      |\n",
      "| purpose    | str            | 文件的目的或用途，有\"assistants\", \"assistants_output\"两种 |\n",
      "| metadata   | Dict[str, Any] | 与文件相关的附加元数据                                    |\n",
      "\n",
      "| 方法              | 描述                           |\n",
      "| ----------------- | ------------------------------ |\n",
      "| read_contents     | 异步读取文件内容               |\n",
      "| write_contents_to | 异步将文件内容写入本地路径     |\n",
      "| get_file_repr     | 返回用于特定上下文的字符串表示 |\n",
      "| to_dict           | 将File对象转换为字典           |\n",
      "\n",
      "### 2.2 File 子类\n",
      "\n",
      "#### 2.2.1 LocalFile 类\n",
      "\n",
      "`LocalFile` 是 `File` 的子类，表示本地文件。除了继承自基类的属性外，它还添加了文件路径属性 `path`，用于表示文件在本地文件系统中的路径。\n",
      "\n",
      "#### 2.2.2 RemoteFile 类\n",
      "\n",
      "`RemoteFile` 也是 `File` 的子类，表示远程文件。它与 `LocalFile` 不同之处在于，它的文件内容存储在远程文件服务器交。`RemoteFile` 类还包含与远程文件服务器交互的相关逻辑。\n",
      "\n",
      "### 2.3 FileManager 类\n",
      "\n",
      "`FileManager` 类是一个高级文件管理工具，封装了文件的创建、上传、删除等操作，以及与 `Agent`进行交互，无论是  `LocalFile`还是 `RemoteFile`都可以使用它来统一管理。`FileManager`集成了与远程文件服务器交互的逻辑（通过 `RemoteFileClient`完成上传、下载、删除等文件操作）以及与本地文件交互的逻辑（从本地路径创建 `LocalFile`）。它依赖于 `FileRegistry` 来对文件进行用于在整个应用程序中管理文件的注册和查找。\n",
      "\n",
      "以下是相关的属性和方法\n",
      "\n",
      "| 属性               | 类型               | 描述                     |\n",
      "| ------------------ | ------------------ | ------------------------ |\n",
      "| remote_file_client | RemoteFileClient   | 远程文件客户端         |\n",
      "| save_dir           | Optional[FilePath] | 用于保存本地文件的目录 |\n",
      "| closed             | bool               | 文件管理器是否已关闭   |\n",
      "\n",
      "| 方法                         | 描述                                 |\n",
      "| ---------------------------- | ------------------------------------ |\n",
      "| create_file_from_path        | 从指定文件路径创建文件               |\n",
      "| create_local_file_from_path  | 从文件路径创建本地文件               |\n",
      "| create_remote_file_from_path | 从文件路径创建远程文件并上传至服务器 |\n",
      "| create_file_from_bytes       | 从字节创建文件                       |\n",
      "| retrieve_remote_file_by_id   | 通过ID获取远程文件                   |\n",
      "| look_up_file_by_id           | 通过ID查找本地文件                   |\n",
      "| list_remote_files            | 列出远程文件                         |\n",
      "\n",
      "!!! notes 注意\n",
      "\n",
      "    - `FileManager` 类不可被复制以免造成资源泄露。\n",
      "\n",
      "    - 如果未指定 `save_dir`，那么当 `FileManager`关闭时，所有与之关联的本地文件都会被回收。反之，都会被保存。\n",
      "\n",
      "    - 如果 `FileManager` 类有相关联的 `RemoteFileClient`，那么当 `FileManager`关闭时，相关联的 `RemoteFileClient`也会一起关闭。\n",
      "\n",
      "## 2.4 RemoteFileClient 类\n",
      "\n",
      "`RemoteFileClient` 是用于与远程文件服务器交互的类。它定义了文件上传、文件下载、文件删除等操作的方法。`AIStudioFileClient` 是 `RemoteFileClient` 的一个具体推荐实现，用于与文件服务交互，用户使用 `access token`作为参数用于身份验证，之后能够在AIStudio文件服务中上传、检索、列出文件，以及创建临时URL以访问文件。`RemoteFileClient`使用时被 `FileManager`持有，一旦 `FileManager`关闭，`RemoteFileClient`也会相应被关闭，其中的资源也会被相应释放。\n",
      "\n",
      "!!! notes 注意\n",
      "    * 一般情况下无需使用 `RemoteFile`，默认所有文件都为 `LocalFile`，如需使用，将 `GlobalFileManagerHandler`的`enable_remote_file`设置为True即可。\n",
      "\n",
      "## 3. 使用示例\n",
      "\n",
      "为了直观展示，我们举例进行说明，请先确保完成`ERNIE Bot Agent`的安装和鉴权步骤。\n",
      "\n",
      "1. 通过 `GlobalFileManagerHandler`获取全局的FileManager，通过它来控制所有文件，注：它的生命周期同整个事件循环。\n",
      "\n",
      "```python\n",
      "from erniebot_agent.file import GlobalFileManagerHandler\n",
      "\n",
      "async def demo_function():\n",
      "    file_manager = await GlobalFileManagerHandler().get()  \n",
      "```\n",
      "2. 通过 `GlobalFileManagerHandler`创建 `File`\n",
      "\n",
      "```python\n",
      "from erniebot_agent.file import GlobalFileManagerHandler\n",
      "\n",
      "async def demo_function():\n",
      "    file_manager = await GlobalFileManagerHandler().get()\n",
      "    # 从路径创建File, file_type可选择local或者remote file_purpose='assistant'代表用于给LLM输入使用\n",
      "    local_file = await file_manager.create_file_from_path(file_path='your_path', file_type='local')\n",
      "```\n",
      "3. 通过 `GlobalFileManagerHandler`搜索以及保存 `File`\n",
      "\n",
      "```python\n",
      "from erniebot_agent.file import GlobalFileManagerHandler\n",
      "\n",
      "async def demo_function():\n",
      "    file_manager = await GlobalFileManagerHandler().get()\n",
      "    # 通过fileid搜索文件\n",
      "    file = file_manager.look_up_file_by_id(file_id='your_file_id')\n",
      "    # 读取file内容(bytes)\n",
      "    file_content = await file.read_contents()\n",
      "    # 写出到指定位置\n",
      "    await local_file.write_contents_to('your_willing_path')\n",
      "```\n",
      "4. 配置 `GlobalFileManagerHandler`从而在Agent中直接获取相关文件\n",
      "\n",
      "```python\n",
      "from erniebot_agent.file import GlobalFileManagerHandler\n",
      "\n",
      "async def demo_function():\n",
      "    await GlobalFileManagerHandler().configure(save_dir='your_path') # 需要在事件循环最开始配置\n",
      "    ... # 此处省略agent创建过程\n",
      "    response = await agent.async_run('请帮我画一张北京市的图')\n",
      "    # 您可以通过AgentResponse.steps[-1]获取agent的最后一个步骤，然后最后一步的输出文件；或者在save_dir中找到所有文件\n",
      "    files = response.steps[-1].output_files\n",
      "```\n"
     ]
    }
   ],
   "source": [
    "def read_md_file(file_path):\n",
    "    try:\n",
    "        with open(file_path, 'r', encoding='utf-8') as file:\n",
    "            md_content = file.read()\n",
    "        return md_content\n",
    "    except FileNotFoundError:\n",
    "        print(f\"文件 '{file_path}' 不存在。\")\n",
    "        return None\n",
    "    except Exception as e:\n",
    "        print(f\"读取文件时出现错误： {e}\")\n",
    "        return None\n",
    "\n",
    "# 例子\n",
    "md_file_path = '/Users/tanzhehao/Documents/ERINE/ERNIE-Bot-SDK/docs/modules/file.md'\n",
    "content = read_md_file(md_file_path)\n",
    "\n",
    "if content:\n",
    "    print(content)\n"
   ]
  },
  {
   "cell_type": "code",
   "execution_count": 10,
   "metadata": {},
   "outputs": [
    {
     "data": {
      "text/plain": [
       "'# File 模块\\n\\n## 1. 模块简介\\n\\n文件管理模块提供了用于管理文件的一系列类，方便用户与Agent进行交互，其中包括 `File` 基类及其子类、`FileManager` 、`GlobalFileManagerHandler`以及与远程文件服务器交互的  `RemoteFileClient`。\\n\\n推荐使用  `GlobalFileManagerHandler`在事件循环开始时初始化 `FileManager`以及获取全局的 `FileManager`，之后只需通过这个全局的 `FileManager`对文件进行增、删、查等操作以及获取Agent产生的文件。\\n\\n!!! notes 注意\\n\\n    - **不推荐**用户自行操作 `File`类以免造成资源泄露。\\n\\n    - `FileManager`操作文件主要用于异步函数中，在同步函数中使用可能会无效。\\n\\n    - `FileManager`将作为此模块中生命周期最长的对象，它会在关闭时回收所有的持有对象（RemoteClient/temp local file），请不要随意关闭它。如果需要关闭，需要先停止对其中注册文件的使用。\\n\\n## 2. 核心类\\n\\n下面简单介绍 `File` 模块的核心类，详细接口请参考[API文档](../package/erniebot_agent/file.md)。\\n\\n### 2.1 File 基类\\n\\n`File` 类是文件管理模块的基础类，用于表示通用的文件对象（不建议自行创建 `File` 类以免无法被 `Agent`识别使用以及无法被回收）。它包含文件的基本属性，如文件ID、文件名、文件大小、创建时间、文件用途和文件元数据。\\n\\n此外， `File`类还定义了一系列抽象方法，比较常用的有：\\n\\n* 异步读取文件内容的 `read_contents`方法\\n* 将文件内容写入本地路径的 `write_contents_to`方法\\n\\n以及一些辅助方法：\\n\\n* 生成文件的字符串表示形式\\n* 转换为字典形式\\n\\n在File类的内部，其主要有两个继承子类，一个是 `Local File`，一个是 `Remote File`。\\n\\n以下是 `File` 基类的属性以及方法介绍：\\n\\n| 属性       | 类型           | 描述                                                      |\\n| ---------- | -------------- | --------------------------------------------------------- |\\n| id         | str            | 文件的唯一标识符                                          |\\n| filename   | str            | 文件名                                                    |\\n| byte_size  | int            | 文件大小（以字节为单位）                                  |\\n| created_at | str            | 文件创建时间的时间戳                                      |\\n| purpose    | str            | 文件的目的或用途，有\"assistants\", \"assistants_output\"两种 |\\n| metadata   | Dict[str, Any] | 与文件相关的附加元数据                                    |\\n\\n| 方法              | 描述                           |\\n| ----------------- | ------------------------------ |\\n| read_contents     | 异步读取文件内容               |\\n| write_contents_to | 异步将文件内容写入本地路径     |\\n| get_file_repr     | 返回用于特定上下文的字符串表示 |\\n| to_dict           | 将File对象转换为字典           |\\n\\n### 2.2 File 子类\\n\\n#### 2.2.1 LocalFile 类\\n\\n`LocalFile` 是 `File` 的子类，表示本地文件。除了继承自基类的属性外，它还添加了文件路径属性 `path`，用于表示文件在本地文件系统中的路径。\\n\\n#### 2.2.2 RemoteFile 类\\n\\n`RemoteFile` 也是 `File` 的子类，表示远程文件。它与 `LocalFile` 不同之处在于，它的文件内容存储在远程文件服务器交。`RemoteFile` 类还包含与远程文件服务器交互的相关逻辑。\\n\\n### 2.3 FileManager 类\\n\\n`FileManager` 类是一个高级文件管理工具，封装了文件的创建、上传、删除等操作，以及与 `Agent`进行交互，无论是  `LocalFile`还是 `RemoteFile`都可以使用它来统一管理。`FileManager`集成了与远程文件服务器交互的逻辑（通过 `RemoteFileClient`完成上传、下载、删除等文件操作）以及与本地文件交互的逻辑（从本地路径创建 `LocalFile`）。它依赖于 `FileRegistry` 来对文件进行用于在整个应用程序中管理文件的注册和查找。\\n\\n以下是相关的属性和方法\\n\\n| 属性               | 类型               | 描述                     |\\n| ------------------ | ------------------ | ------------------------ |\\n| remote_file_client | RemoteFileClient   | 远程文件客户端         |\\n| save_dir           | Optional[FilePath] | 用于保存本地文件的目录 |\\n| closed             | bool               | 文件管理器是否已关闭   |\\n\\n| 方法                         | 描述                                 |\\n| ---------------------------- | ------------------------------------ |\\n| create_file_from_path        | 从指定文件路径创建文件               |\\n| create_local_file_from_path  | 从文件路径创建本地文件               |\\n| create_remote_file_from_path | 从文件路径创建远程文件并上传至服务器 |\\n| create_file_from_bytes       | 从字节创建文件                       |\\n| retrieve_remote_file_by_id   | 通过ID获取远程文件                   |\\n| look_up_file_by_id           | 通过ID查找本地文件                   |\\n| list_remote_files            | 列出远程文件                         |\\n\\n!!! notes 注意\\n\\n    - `FileManager` 类不可被复制以免造成资源泄露。\\n\\n    - 如果未指定 `save_dir`，那么当 `FileManager`关闭时，所有与之关联的本地文件都会被回收。反之，都会被保存。\\n\\n    - 如果 `FileManager` 类有相关联的 `RemoteFileClient`，那么当 `FileManager`关闭时，相关联的 `RemoteFileClient`也会一起关闭。\\n\\n## 2.4 RemoteFileClient 类\\n\\n`RemoteFileClient` 是用于与远程文件服务器交互的类。它定义了文件上传、文件下载、文件删除等操作的方法。`AIStudioFileClient` 是 `RemoteFileClient` 的一个具体推荐实现，用于与文件服务交互，用户使用 `access token`作为参数用于身份验证，之后能够在AIStudio文件服务中上传、检索、列出文件，以及创建临时URL以访问文件。`RemoteFileClient`使用时被 `FileManager`持有，一旦 `FileManager`关闭，`RemoteFileClient`也会相应被关闭，其中的资源也会被相应释放。\\n\\n!!! notes 注意\\n    * 一般情况下无需使用 `RemoteFile`，默认所有文件都为 `LocalFile`，如需使用，将 `GlobalFileManagerHandler`的`enable_remote_file`设置为True即可。\\n\\n## 3. 使用示例\\n\\n为了直观展示，我们举例进行说明，请先确保完成`ERNIE Bot Agent`的安装和鉴权步骤。\\n\\n1. 通过 `GlobalFileManagerHandler`获取全局的FileManager，通过它来控制所有文件，注：它的生命周期同整个事件循环。\\n\\n```python\\nfrom erniebot_agent.file import GlobalFileManagerHandler\\n\\nasync def demo_function():\\n    file_manager = await GlobalFileManagerHandler().get()  \\n```\\n2. 通过 `GlobalFileManagerHandler`创建 `File`\\n\\n```python\\nfrom erniebot_agent.file import GlobalFileManagerHandler\\n\\nasync def demo_function():\\n    file_manager = await GlobalFileManagerHandler().get()\\n    # 从路径创建File, file_type可选择local或者remote file_purpose=\\'assistant\\'代表用于给LLM输入使用\\n    local_file = await file_manager.create_file_from_path(file_path=\\'your_path\\', file_type=\\'local\\')\\n```\\n3. 通过 `GlobalFileManagerHandler`搜索以及保存 `File`\\n\\n```python\\nfrom erniebot_agent.file import GlobalFileManagerHandler\\n\\nasync def demo_function():\\n    file_manager = await GlobalFileManagerHandler().get()\\n    # 通过fileid搜索文件\\n    file = file_manager.look_up_file_by_id(file_id=\\'your_file_id\\')\\n    # 读取file内容(bytes)\\n    file_content = await file.read_contents()\\n    # 写出到指定位置\\n    await local_file.write_contents_to(\\'your_willing_path\\')\\n```\\n4. 配置 `GlobalFileManagerHandler`从而在Agent中直接获取相关文件\\n\\n```python\\nfrom erniebot_agent.file import GlobalFileManagerHandler\\n\\nasync def demo_function():\\n    await GlobalFileManagerHandler().configure(save_dir=\\'your_path\\') # 需要在事件循环最开始配置\\n    ... # 此处省略agent创建过程\\n    response = await agent.async_run(\\'请帮我画一张北京市的图\\')\\n    # 您可以通过AgentResponse.steps[-1]获取agent的最后一个步骤，然后最后一步的输出文件；或者在save_dir中找到所有文件\\n    files = response.steps[-1].output_files\\n```'"
      ]
     },
     "execution_count": 10,
     "metadata": {},
     "output_type": "execute_result"
    }
   ],
   "source": [
    "content"
   ]
  },
  {
   "cell_type": "code",
   "execution_count": 8,
   "metadata": {},
   "outputs": [
    {
     "ename": "BaizhongError",
     "evalue": "error message is request error: {\"code\":\"MissingDateHeader\",\"message\":\"Request must have a \\\"date\\\" or \\\"x-bce-date\\\" header.\",\"requestId\":\"ac2563e6-d417-4aa3-8a9e-fc523a5dabc6\"} error code is 404",
     "output_type": "error",
     "traceback": [
      "\u001b[0;31m---------------------------------------------------------------------------\u001b[0m",
      "\u001b[0;31mBaizhongError\u001b[0m                             Traceback (most recent call last)",
      "\u001b[1;32m/Users/tanzhehao/Documents/ERINE/ERNIE-Bot-SDK/erniebot-agent/applications/qa.ipynb 单元格 2\u001b[0m line \u001b[0;36m2\n\u001b[1;32m      <a href='vscode-notebook-cell:/Users/tanzhehao/Documents/ERINE/ERNIE-Bot-SDK/erniebot-agent/applications/qa.ipynb#W1sZmlsZQ%3D%3D?line=0'>1</a>\u001b[0m \u001b[39mfrom\u001b[39;00m \u001b[39merniebot_agent\u001b[39;00m\u001b[39m.\u001b[39;00m\u001b[39mretrieval\u001b[39;00m \u001b[39mimport\u001b[39;00m BaizhongSearch\n\u001b[0;32m----> <a href='vscode-notebook-cell:/Users/tanzhehao/Documents/ERINE/ERNIE-Bot-SDK/erniebot-agent/applications/qa.ipynb#W1sZmlsZQ%3D%3D?line=1'>2</a>\u001b[0m knowledge_base \u001b[39m=\u001b[39m BaizhongSearch(access_token\u001b[39m=\u001b[39;49m\u001b[39m'\u001b[39;49m\u001b[39m4ce50e3378f418d271c480c8ddfa818537071dbe\u001b[39;49m\u001b[39m'\u001b[39;49m, knowledge_base_name\u001b[39m=\u001b[39;49m\u001b[39m'\u001b[39;49m\u001b[39mmy_db\u001b[39;49m\u001b[39m'\u001b[39;49m)\n\u001b[1;32m      <a href='vscode-notebook-cell:/Users/tanzhehao/Documents/ERINE/ERNIE-Bot-SDK/erniebot-agent/applications/qa.ipynb#W1sZmlsZQ%3D%3D?line=2'>3</a>\u001b[0m \u001b[39m# knowledge_base.search(step_input, top_k=self.top_k, filters=None)\u001b[39;00m\n\u001b[1;32m      <a href='vscode-notebook-cell:/Users/tanzhehao/Documents/ERINE/ERNIE-Bot-SDK/erniebot-agent/applications/qa.ipynb#W1sZmlsZQ%3D%3D?line=3'>4</a>\u001b[0m \u001b[39m# knowledge_base.create_knowledge_base(knowledge_base_name='my_db')\u001b[39;00m\n",
      "File \u001b[0;32m~/Documents/ERINE/ERNIE-Bot-SDK/erniebot-agent/src/erniebot_agent/retrieval/baizhong_search.py:50\u001b[0m, in \u001b[0;36mBaizhongSearch.__init__\u001b[0;34m(self, access_token, knowledge_base_name, knowledge_base_id)\u001b[0m\n\u001b[1;32m     48\u001b[0m     \u001b[39mself\u001b[39m\u001b[39m.\u001b[39mknowledge_base_id \u001b[39m=\u001b[39m knowledge_base_id\n\u001b[1;32m     49\u001b[0m \u001b[39melif\u001b[39;00m knowledge_base_name \u001b[39mis\u001b[39;00m \u001b[39mnot\u001b[39;00m \u001b[39mNone\u001b[39;00m:\n\u001b[0;32m---> 50\u001b[0m     \u001b[39mself\u001b[39m\u001b[39m.\u001b[39mknowledge_base_id \u001b[39m=\u001b[39m \u001b[39mself\u001b[39;49m\u001b[39m.\u001b[39;49mcreate_knowledge_base(knowledge_base_name)\n\u001b[1;32m     51\u001b[0m \u001b[39melse\u001b[39;00m:\n\u001b[1;32m     52\u001b[0m     \u001b[39mraise\u001b[39;00m BaizhongError(\u001b[39m\"\u001b[39m\u001b[39mYou must provide either a `knowledge_base_name` or a `knowledge_base_id`.\u001b[39m\u001b[39m\"\u001b[39m)\n",
      "File \u001b[0;32m~/Documents/ERINE/ERNIE-Bot-SDK/erniebot-agent/src/erniebot_agent/retrieval/baizhong_search.py:79\u001b[0m, in \u001b[0;36mBaizhongSearch.create_knowledge_base\u001b[0;34m(self, knowledge_base_name)\u001b[0m\n\u001b[1;32m     77\u001b[0m     \u001b[39mreturn\u001b[39;00m result[\u001b[39m\"\u001b[39m\u001b[39mresult\u001b[39m\u001b[39m\"\u001b[39m][\u001b[39m\"\u001b[39m\u001b[39mknowledgeBaseId\u001b[39m\u001b[39m\"\u001b[39m]\n\u001b[1;32m     78\u001b[0m \u001b[39melse\u001b[39;00m:\n\u001b[0;32m---> 79\u001b[0m     \u001b[39mraise\u001b[39;00m BaizhongError(message\u001b[39m=\u001b[39m\u001b[39mf\u001b[39m\u001b[39m\"\u001b[39m\u001b[39mrequest error: \u001b[39m\u001b[39m{\u001b[39;00mres\u001b[39m.\u001b[39mtext\u001b[39m}\u001b[39;00m\u001b[39m\"\u001b[39m, error_code\u001b[39m=\u001b[39mres\u001b[39m.\u001b[39mstatus_code)\n",
      "\u001b[0;31mBaizhongError\u001b[0m: error message is request error: {\"code\":\"MissingDateHeader\",\"message\":\"Request must have a \\\"date\\\" or \\\"x-bce-date\\\" header.\",\"requestId\":\"ac2563e6-d417-4aa3-8a9e-fc523a5dabc6\"} error code is 404"
     ]
    }
   ],
   "source": [
    "from erniebot_agent.retrieval import BaizhongSearch\n",
    "knowledge_base = BaizhongSearch(access_token='4ce50e3378f418d271c480c8ddfa818537071dbe', knowledge_base_name='my_db')\n",
    "# knowledge_base.search(step_input, top_k=self.top_k, filters=None)\n",
    "# knowledge_base.create_knowledge_base(knowledge_base_name='my_db')"
   ]
  },
  {
   "cell_type": "code",
   "execution_count": 6,
   "metadata": {},
   "outputs": [
    {
     "ename": "NameError",
     "evalue": "name 'knowledge_base' is not defined",
     "output_type": "error",
     "traceback": [
      "\u001b[0;31m---------------------------------------------------------------------------\u001b[0m",
      "\u001b[0;31mNameError\u001b[0m                                 Traceback (most recent call last)",
      "\u001b[1;32m/Users/tanzhehao/Documents/ERINE/ERNIE-Bot-SDK/erniebot-agent/applications/qa.ipynb 单元格 3\u001b[0m line \u001b[0;36m1\n\u001b[0;32m----> <a href='vscode-notebook-cell:/Users/tanzhehao/Documents/ERINE/ERNIE-Bot-SDK/erniebot-agent/applications/qa.ipynb#W2sZmlsZQ%3D%3D?line=0'>1</a>\u001b[0m knowledge_base\n",
      "\u001b[0;31mNameError\u001b[0m: name 'knowledge_base' is not defined"
     ]
    }
   ],
   "source": [
    "knowledge_base"
   ]
  }
 ],
 "metadata": {
  "kernelspec": {
   "display_name": "ernie",
   "language": "python",
   "name": "python3"
  },
  "language_info": {
   "codemirror_mode": {
    "name": "ipython",
    "version": 3
   },
   "file_extension": ".py",
   "mimetype": "text/x-python",
   "name": "python",
   "nbconvert_exporter": "python",
   "pygments_lexer": "ipython3",
   "version": "3.10.13"
  }
 },
 "nbformat": 4,
 "nbformat_minor": 2
}
