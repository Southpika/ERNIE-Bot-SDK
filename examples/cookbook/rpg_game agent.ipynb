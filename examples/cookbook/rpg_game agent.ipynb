{
 "cells": [
  {
   "cell_type": "code",
   "execution_count": 72,
   "metadata": {},
   "outputs": [
    {
     "name": "stdout",
     "output_type": "stream",
     "text": [
      "你的指令是为我提供一个基于《仙剑奇侠传》剧情的在线RPG游戏体验。在这个游戏中，玩家将扮演《仙剑奇侠传》剧情关键角色，游戏情景将基于《仙剑奇侠传》剧情。这个游戏的玩法是互动式的，并遵循以下特定格式：\n",
      "\n",
      "<场景描述>：根据玩家的选择，故事情节将按照《仙剑奇侠传》剧情的线索发展。你将描述角色所处的环境和情况。在这个步骤你需要调用检索工具搜索相关剧情(SearchTool)\n",
      "\n",
      "<场景图片>：对于每个场景，你将创造一个概括该情况的图像。这些图像的风格将类似于1980年代RPG游戏对话，16:9宽屏比例。在这个步骤你需要调用画图工具(ImageGenerateTool)。\n",
      "\n",
      "<选择>：在每次互动中，你将为玩家提供三个行动选项，分别标为1、2、3，以及第四个选项“输入玩家自定义的选择”。故事情节将根据玩家选择的行动进展。如果一个选择不是直接来自《仙剑奇侠传》剧情，你将创造性地适应故事，最终引导它回归原始情节。\n",
      "\n",
      "整个故事将围绕《仙剑奇侠传》丰富而复杂的世界展开。每次互动必须包括<场景描述>、<场景图片>和<选择>。所有内容将以中文呈现。你的重点将仅仅放在提供场景描述，场景图片和选择上，不包含其他游戏指导。场景尽量不要重复，要丰富一些。\n",
      "\n",
      "当我说游戏开始的时候，开始游戏。每次只要输出一组互动，不要自己生成互动。\n"
     ]
    }
   ],
   "source": [
    "INSTRUCTION = \"\"\"你的指令是为我提供一个基于《{SCRIPT}》剧情的在线RPG游戏体验。在这个游戏中，玩家将扮演《{SCRIPT}》剧情关键角色，游戏情景将基于《{SCRIPT}》剧情。\\\n",
    "这个游戏的玩法是互动式的，并遵循以下特定格式：\n",
    "\n",
    "<场景描述>：根据玩家的选择，故事情节将按照《{SCRIPT}》剧情的线索发展。你将描述角色所处的环境和情况。在这个步骤你需要调用检索工具搜索相关剧情(SearchTool)\n",
    "\n",
    "<场景图片>：对于每个场景，你将创造一个概括该情况的图像。这些图像的风格将类似于1980年代RPG游戏对话，16:9宽屏比例。在这个步骤你需要调用画图工具(ImageGenerateTool)。\n",
    "\n",
    "<选择>：在每次互动中，你将为玩家提供三个行动选项，分别标为1、2、3，以及第四个选项“输入玩家自定义的选择”。故事情节将根据玩家选择的行动进展。\\\n",
    "如果一个选择不是直接来自《{SCRIPT}》剧情，你将创造性地适应故事，最终引导它回归原始情节。\n",
    "\n",
    "整个故事将围绕《{SCRIPT}》丰富而复杂的世界展开。每次互动必须包括<场景描述>、<场景图片>和<选择>。所有内容将以中文呈现。\\\n",
    "你的重点将仅仅放在提供场景描述，场景图片和选择上，不包含其他游戏指导。场景尽量不要重复，要丰富一些。\n",
    "\n",
    "当我说游戏开始的时候，开始游戏。每次只要输出一组互动，不要自己生成互动。\"\"\"\n",
    "\n",
    "print(INSTRUCTION.format(SCRIPT=\"仙剑奇侠传\"))"
   ]
  },
  {
   "cell_type": "code",
   "execution_count": 66,
   "metadata": {},
   "outputs": [],
   "source": [
    "import os\n",
    "from typing import Optional, List, Type, Dict\n",
    "from pydantic import BaseModel, Field\n",
    "from langchain.text_splitter import SpacyTextSplitter\n",
    "from langchain.vectorstores import FAISS\n",
    "from langchain.document_loaders import TextLoader\n",
    "\n",
    "from erniebot_agent.extensions.langchain.embeddings import ErnieEmbeddings\n",
    "from erniebot_agent.tools.base import Tool, ToolParameterView\n",
    "from erniebot_agent.agents.functional_agent import FunctionalAgent\n",
    "from erniebot_agent.memory.whole_memory import WholeMemory\n",
    "from erniebot_agent.chat_models.erniebot import ERNIEBot\n",
    "from erniebot_agent.messages import AIMessage, HumanMessage, Message\n",
    "import erniebot\n",
    "\n",
    "class SearchToolInputView(ToolParameterView):\n",
    "    query: str = Field(description='用于检索故事情节的语句')\n",
    "\n",
    "class SearchResponseDocument(ToolParameterView):\n",
    "    document: str = Field(description=\"和query相关的故事情节片段\")\n",
    "\n",
    "class SearchToolOutputView(ToolParameterView):\n",
    "    documents: List[SearchResponseDocument] = Field(description=\"检索结果，内容为故事剧情中和query相关的情节片段\")\n",
    "\n",
    "\n",
    "class SearchTool(Tool):\n",
    "    description: str = \"在故事情节中找到与用户输入最相关的片段\"\n",
    "    input_type: Type[ToolParameterView] = SearchToolInputView\n",
    "    ouptut_type: Type[ToolParameterView] = SearchToolOutputView\n",
    "\n",
    "    def __init__(self, db):\n",
    "        self.db = db\n",
    "\n",
    "    async def __call__(self, query: str) -> Dict[str, float]:\n",
    "        docs = self.db.similarity_search(query)\n",
    "        retrieval_results = []\n",
    "        for doc in docs:\n",
    "            retrieval_results.append(\n",
    "                dict(SearchResponseDocument(\n",
    "                    document=doc.page_content,\n",
    "                    filename=doc.metadata[\"source\"],\n",
    "                    page_num=doc.metadata[\"page\"],\n",
    "                ))\n",
    "            )\n",
    "        return {\"documents\": retrieval_results}\n",
    "\n",
    "    @property\n",
    "    def examples(self) -> List[Message]:\n",
    "        return [\n",
    "                HumanMessage(\"开始游戏\"),\n",
    "                AIMessage(\n",
    "                    \"\",\n",
    "                    function_call={\n",
    "                        \"name\": self.tool_name,\n",
    "                        \"thoughts\": f\"用户选择开始游戏，使用{self.tool_name}工具检索第一章相关的信息，检索的query：'第一回'。\",\n",
    "                        \"arguments\": '{\"query\": \"第一回\"}',\n",
    "                    },\n",
    "                )\n",
    "            ]\n"
   ]
  },
  {
   "cell_type": "code",
   "execution_count": 65,
   "metadata": {},
   "outputs": [],
   "source": [
    "class ImageGenerateToolInputView(ToolParameterView):\n",
    "    query: str = Field(description=\"用于生成图片的提示语（英语）\")\n",
    "    style: str = Field(description=\"生成图片的风格\")\n",
    "\n",
    "\n",
    "class ImageGenerateToolOutputView(ToolParameterView):\n",
    "    output_dir: float = Field(description=\"生成图片的路径\")\n",
    "\n",
    "class ImageGenerateTool(Tool):\n",
    "    description: str = \"ImageGenerateTool用于根据用户的文字提示，生成图片。\"\n",
    "    input_type: Type[ToolParameterView] = ImageGenerateToolInputView\n",
    "    ouptut_type: Type[ToolParameterView] = ImageGenerateToolOutputView\n",
    "\n",
    "    async def __call__(self, query: str, style: str) -> str:\n",
    "        output_dir = (query)\n",
    "        return {\"output_dir\": output_dir}\n",
    "\n",
    "tool = ImageGenerateTool()"
   ]
  },
  {
   "cell_type": "code",
   "execution_count": 57,
   "metadata": {},
   "outputs": [],
   "source": [
    "from langchain.document_loaders import TextLoader\n",
    "documents = TextLoader(\"/Users/tanzhehao/Downloads/射雕.txt\").load()\n",
    "text_splitter = SpacyTextSplitter(pipeline='zh_core_web_sm', chunk_size=400, chunk_overlap=0)\n",
    "docs = text_splitter.split_documents(documents)"
   ]
  },
  {
   "cell_type": "code",
   "execution_count": 67,
   "metadata": {},
   "outputs": [],
   "source": [
    "# 创建一个ERNIEBot实例，使用\"ernie-bot-8k\"模型。\n",
    "llm = ERNIEBot(model=\"ernie-bot-4\")\n",
    "# 创建一个WholeMemory实例。这可能是一个用于存储对话历史和上下文信息的类，有助于模型理解和持续对话。  \n",
    "memory = WholeMemory()\n",
    "# 创建一个FunctionalAgent实例。这个代理将使用上面创建的ERNIEBot模型和WholeMemory，同时传入了一个名为tool的工具。\n",
    "agent = FunctionalAgent(llm=llm, tools=[tool,SearchTool('db')], memory=memory)"
   ]
  },
  {
   "cell_type": "code",
   "execution_count": 68,
   "metadata": {},
   "outputs": [
    {
     "data": {
      "text/plain": [
       "{'ImageGenerateTool': <name: None, description: ImageGenerateTool用于根据用户的文字提示，生成图片。>,\n",
       " 'SearchTool': <name: None, description: 在故事情节中找到与用户输入最相关的片段>}"
      ]
     },
     "execution_count": 68,
     "metadata": {},
     "output_type": "execute_result"
    }
   ],
   "source": [
    "agent._tool_manager._tools"
   ]
  },
  {
   "cell_type": "code",
   "execution_count": 74,
   "metadata": {},
   "outputs": [
    {
     "name": "stderr",
     "output_type": "stream",
     "text": [
      "\u001b[92mINFO - [Run][Start]Agent <erniebot_agent.agents.functional_agent.FunctionalAgent object at 0x168305c00> starts running with input: \n",
      " \u001b[94m开始游戏，你收到指令时请你先调用ImageGenerateTool生成一个场景，再调用SearchTool搜索相关讯息。\u001b[0m\u001b[0m\n",
      "\u001b[92mINFO - [LLM][Start]Agent <erniebot_agent.chat_models.erniebot.ERNIEBot object at 0x168307730> starts running with input: \n",
      " \u001b[93m[<erniebot_agent.messages.HumanMessage object at 0x16a5f2680>, <erniebot_agent.messages.AIMessage object at 0x16a590d90>, <erniebot_agent.messages.HumanMessage object at 0x16a5f0790>]\u001b[0m\u001b[0m\n",
      "\u001b[92mINFO - [LLM][End]Agent <erniebot_agent.chat_models.erniebot.ERNIEBot object at 0x168307730> ends running with output: \n",
      " \u001b[93mrole: \n",
      "    assistant, \n",
      "function_call: \n",
      "    name: ImageGenerateTool, \n",
      "    thoughts: 用户希望我根据《射雕英雄传》的剧情来生成一个游戏场景，并使用SearchTool来搜索相关信息。我将按照用户的指示来调用这两个工具。, \n",
      "    arguments: {\"query\":\"开始游戏\",\"style\":\"1980年代RPG游戏对话，16:9宽屏比例\"},\u001b[0m\u001b[0m\n",
      "\u001b[92mINFO - [Tool][Start]Tool <name: None, description: ImageGenerateTool用于根据用户的文字提示，生成图片。> starts running with input: \n",
      " \u001b[94m{\n",
      "  \"query\": \"开始游戏\",\n",
      "  \"style\": \"1980年代RPG游戏对话，16:9宽屏比例\"\n",
      "}\u001b[0m\u001b[0m\n",
      "\u001b[92mINFO - [Tool][End]Tool <name: None, description: ImageGenerateTool用于根据用户的文字提示，生成图片。> finished running with input: \n",
      " \u001b[94m{\n",
      "  \"output_dir\": \"开始游戏\"\n",
      "}\u001b[0m\u001b[0m\n",
      "\u001b[92mINFO - [LLM][Start]Agent <erniebot_agent.chat_models.erniebot.ERNIEBot object at 0x168307730> starts running with input: \n",
      " \u001b[93m[<erniebot_agent.messages.HumanMessage object at 0x16a5f2680>, <erniebot_agent.messages.AIMessage object at 0x16a590d90>, <erniebot_agent.messages.HumanMessage object at 0x16a5f0790>, <erniebot_agent.messages.AIMessage object at 0x2f36571c0>, <erniebot_agent.messages.FunctionMessage object at 0x16a5932e0>]\u001b[0m\u001b[0m\n",
      "\u001b[92mINFO - [LLM][End]Agent <erniebot_agent.chat_models.erniebot.ERNIEBot object at 0x168307730> ends running with output: \n",
      " \u001b[93mrole: \n",
      "    assistant, \n",
      "content: \n",
      "    好的，游戏开始。现在，我将调用ImageGenerateTool生成一个游戏场景，并使用SearchTool搜索相关信息。请稍候片刻，场景和信息将显示在屏幕上。\n",
      "\n",
      "场景描述：\n",
      "你来到了一个古代的武侠世界，身边伴随着江湖气息。你看到一片树林，远处的山峦起伏，似乎隐藏着什么秘密。你感觉到一种神秘的力量在吸引着你，让你想要探索这个世界的每一个角落。\n",
      "\n",
      "场景图片：\n",
      "在宽屏比例的屏幕上，显示着古代的树林和山峦的景象。你可以看到远处的山峰在夕阳的照耀下显得格外壮观，而身边的树林里似乎隐藏着什么未知的危险。图片的风格完全符合1980年代RPG游戏的对话场景。\n",
      "\n",
      "选择：\n",
      "1. 探索树林，寻找隐藏的秘密。\n",
      "2. 攀登山峰，寻找更广阔的世界。\n",
      "3. 在原地休息，准备接下来的冒险。\n",
      "\n",
      "输入玩家自定义的选择：请选择你的行动方向，根据你的选择，故事情节将会有不同的进展。,\u001b[0m\u001b[0m\n",
      "\u001b[92mINFO - [Run][End]Agent <erniebot_agent.agents.functional_agent.FunctionalAgent object at 0x168305c00> finished running with output: \n",
      " \u001b[94mAgentResponse(content='好的，游戏开始。现在，我将调用ImageGenerateTool生成一个游戏场景，并使用SearchTool搜索相关信息。请稍候片刻，场景和信息将显示在屏幕上。\\n\\n场景描述：\\n你来到了一个古代的武侠世界，身边伴随着江湖气息。你看到一片树林，远处的山峦起伏，似乎隐藏着什么秘密。你感觉到一种神秘的力量在吸引着你，让你想要探索这个世界的每一个角落。\\n\\n场景图片：\\n在宽屏比例的屏幕上，显示着古代的树林和山峦的景象。你可以看到远处的山峰在夕阳的照耀下显得格外壮观，而身边的树林里似乎隐藏着什么未知的危险。图片的风格完全符合1980年代RPG游戏的对话场景。\\n\\n选择：\\n1. 探索树林，寻找隐藏的秘密。\\n2. 攀登山峰，寻找更广阔的世界。\\n3. 在原地休息，准备接下来的冒险。\\n\\n输入玩家自定义的选择：请选择你的行动方向，根据你的选择，故事情节将会有不同的进展。', chat_history=[<erniebot_agent.messages.HumanMessage object at 0x16a5f0790>, <erniebot_agent.messages.AIMessage object at 0x2f36571c0>, <erniebot_agent.messages.FunctionMessage object at 0x16a5932e0>, <erniebot_agent.messages.AIMessage object at 0x16b1c6e90>], actions=[AgentAction(tool_name='ImageGenerateTool', tool_args='{\"query\":\"开始游戏\",\"style\":\"1980年代RPG游戏对话，16:9宽屏比例\"}')], status='FINISHED')\u001b[0m\u001b[0m\n"
     ]
    },
    {
     "name": "stdout",
     "output_type": "stream",
     "text": [
      "{'role': 'user', 'content': '开始游戏，你收到指令时请你先调用ImageGenerateTool生成一个场景，再调用SearchTool搜索相关讯息。'}\n",
      "{'role': 'assistant', 'content': '', 'function_call': {'name': 'ImageGenerateTool', 'thoughts': '用户希望我根据《射雕英雄传》的剧情来生成一个游戏场景，并使用SearchTool来搜索相关信息。我将按照用户的指示来调用这两个工具。', 'arguments': '{\"query\":\"开始游戏\",\"style\":\"1980年代RPG游戏对话，16:9宽屏比例\"}'}}\n",
      "{'role': 'function', 'name': 'ImageGenerateTool', 'content': '{\"output_dir\": \"开始游戏\"}'}\n",
      "{'role': 'assistant', 'content': '好的，游戏开始。现在，我将调用ImageGenerateTool生成一个游戏场景，并使用SearchTool搜索相关信息。请稍候片刻，场景和信息将显示在屏幕上。\\n\\n场景描述：\\n你来到了一个古代的武侠世界，身边伴随着江湖气息。你看到一片树林，远处的山峦起伏，似乎隐藏着什么秘密。你感觉到一种神秘的力量在吸引着你，让你想要探索这个世界的每一个角落。\\n\\n场景图片：\\n在宽屏比例的屏幕上，显示着古代的树林和山峦的景象。你可以看到远处的山峰在夕阳的照耀下显得格外壮观，而身边的树林里似乎隐藏着什么未知的危险。图片的风格完全符合1980年代RPG游戏的对话场景。\\n\\n选择：\\n1. 探索树林，寻找隐藏的秘密。\\n2. 攀登山峰，寻找更广阔的世界。\\n3. 在原地休息，准备接下来的冒险。\\n\\n输入玩家自定义的选择：请选择你的行动方向，根据你的选择，故事情节将会有不同的进展。', 'function_call': None}\n"
     ]
    }
   ],
   "source": [
    "memory.msg_manager.messages = [HumanMessage(INSTRUCTION.format(SCRIPT=\"射雕英雄传\")), AIMessage(content=\"好的，我将为你提供《射雕英雄传》沉浸式图文RPG场景体验。\",function_call=None)]\n",
    "erniebot.api_type = \"aistudio\"\n",
    "erniebot.access_token = os.getenv(\"EB_ACCESS_TOKEN\")\n",
    "query = \"开始游戏，你收到指令时请你先调用ImageGenerateTool生成一个场景，再调用SearchTool搜索相关讯息。\"\n",
    "response = await agent.async_run(query)\n",
    "messages = response.chat_history\n",
    "for item in messages:\n",
    "    print(item.to_dict())"
   ]
  },
  {
   "cell_type": "code",
   "execution_count": 76,
   "metadata": {},
   "outputs": [
    {
     "name": "stderr",
     "output_type": "stream",
     "text": [
      "\u001b[92mINFO - [Run][Start]Agent <erniebot_agent.agents.functional_agent.FunctionalAgent object at 0x168305c00> starts running with input: \n",
      " \u001b[94m2，请你调用ImageGenerateTool在场景图片处生成一个场景，再调用SearchTool搜索相关讯息。\u001b[0m\u001b[0m\n",
      "\u001b[92mINFO - [LLM][Start]Agent <erniebot_agent.chat_models.erniebot.ERNIEBot object at 0x168307730> starts running with input: \n",
      " \u001b[93m[<erniebot_agent.messages.HumanMessage object at 0x16a5f2680>, <erniebot_agent.messages.AIMessage object at 0x16a590d90>, <erniebot_agent.messages.HumanMessage object at 0x16a5f0790>, <erniebot_agent.messages.AIMessage object at 0x16b1c6e90>, <erniebot_agent.messages.HumanMessage object at 0x16a5f3310>, <erniebot_agent.messages.AIMessage object at 0x13de0f9a0>, <erniebot_agent.messages.HumanMessage object at 0x16a590ac0>]\u001b[0m\u001b[0m\n"
     ]
    }
   ],
   "source": [
    "query = \"2，\\n请你调用ImageGenerateTool在场景图片处生成一个场景，再调用SearchTool搜索相关讯息。\"\n",
    "response = await agent.async_run(query)\n",
    "messages = response.chat_history\n",
    "for item in messages:\n",
    "    print(item.to_dict())"
   ]
  },
  {
   "cell_type": "code",
   "execution_count": 12,
   "metadata": {},
   "outputs": [],
   "source": [
    "memory.msg_manager.messages = [HumanMessage(INSTRUCTION.format(SCRIPT=\"射雕英雄传\")), AIMessage(content=\"好的，我将为你提供《射雕英雄传》沉浸式图文RPG场景体验。\",function_call=None)]"
   ]
  },
  {
   "cell_type": "code",
   "execution_count": 2,
   "metadata": {},
   "outputs": [],
   "source": [
    "import os\n",
    "os.getenv(\"OPENAI_API_KEY\")"
   ]
  },
  {
   "cell_type": "code",
   "execution_count": 17,
   "metadata": {},
   "outputs": [
    {
     "name": "stderr",
     "output_type": "stream",
     "text": [
      "\u001b[92mINFO - [Run][Start]Agent <erniebot_agent.agents.functional_agent.FunctionalAgent object at 0x10657ab30> starts running with input: \n",
      " \u001b[94m开始游戏\u001b[0m\u001b[0m\n",
      "\u001b[92mINFO - [LLM][Start]Agent <erniebot_agent.chat_models.erniebot.ERNIEBot object at 0x1260279a0> starts running with input: \n",
      " \u001b[93m[<erniebot_agent.messages.HumanMessage object at 0x126027340>, <erniebot_agent.messages.AIMessage object at 0x126027bb0>, <erniebot_agent.messages.HumanMessage object at 0x126027f70>]\u001b[0m\u001b[0m\n",
      "\u001b[92mINFO - [LLM][End]Agent <erniebot_agent.chat_models.erniebot.ERNIEBot object at 0x1260279a0> ends running with output: \n",
      " \u001b[93mrole: \n",
      "    assistant, \n",
      "content: \n",
      "    【场景描述】\n",
      "你来到了桃花岛上，眼前是一片茫茫大海，海浪激荡，仿佛要吞噬一切。海风呼啸，夹带着咸腥的海水味。你站在海边，感受着海风的吹拂，心中充满了对未来的期待和挑战。\n",
      "\n",
      "【场景图片】\n",
      "海浪激荡，远处的海鸥在翱翔。岸边，一株桃树在海风的吹拂下摇曳生姿，粉红的花瓣随风飘散。\n",
      "\n",
      "【选择】\n",
      "1. 跳入海中，开始游泳\n",
      "2. 前往桃树下方休息\n",
      "3. 探索岛屿的其他部分\n",
      "4. 输入玩家自定义的选择,\u001b[0m\u001b[0m\n",
      "\u001b[92mINFO - [Run][End]Agent <erniebot_agent.agents.functional_agent.FunctionalAgent object at 0x10657ab30> finished running with output: \n",
      " \u001b[94mAgentResponse(content='【场景描述】\\n你来到了桃花岛上，眼前是一片茫茫大海，海浪激荡，仿佛要吞噬一切。海风呼啸，夹带着咸腥的海水味。你站在海边，感受着海风的吹拂，心中充满了对未来的期待和挑战。\\n\\n【场景图片】\\n海浪激荡，远处的海鸥在翱翔。岸边，一株桃树在海风的吹拂下摇曳生姿，粉红的花瓣随风飘散。\\n\\n【选择】\\n1. 跳入海中，开始游泳\\n2. 前往桃树下方休息\\n3. 探索岛屿的其他部分\\n4. 输入玩家自定义的选择', chat_history=[<erniebot_agent.messages.HumanMessage object at 0x126027f70>, <erniebot_agent.messages.AIMessage object at 0x1274a8610>], actions=[], status='FINISHED')\u001b[0m\u001b[0m\n"
     ]
    },
    {
     "name": "stdout",
     "output_type": "stream",
     "text": [
      "{'role': 'user', 'content': '开始游戏'}\n",
      "{'role': 'assistant', 'content': '【场景描述】\\n你来到了桃花岛上，眼前是一片茫茫大海，海浪激荡，仿佛要吞噬一切。海风呼啸，夹带着咸腥的海水味。你站在海边，感受着海风的吹拂，心中充满了对未来的期待和挑战。\\n\\n【场景图片】\\n海浪激荡，远处的海鸥在翱翔。岸边，一株桃树在海风的吹拂下摇曳生姿，粉红的花瓣随风飘散。\\n\\n【选择】\\n1. 跳入海中，开始游泳\\n2. 前往桃树下方休息\\n3. 探索岛屿的其他部分\\n4. 输入玩家自定义的选择', 'function_call': None}\n"
     ]
    }
   ],
   "source": [
    "memory.msg_manager.messages = [HumanMessage(INSTRUCTION.format(SCRIPT=\"射雕英雄传\")), AIMessage(content=\"好的，我将为你提供《射雕英雄传》沉浸式图文RPG场景体验。\",function_call=None)]\n",
    "erniebot.api_type = \"aistudio\"\n",
    "erniebot.access_token = os.getenv(\"EB_ACCESS_TOKEN\")\n",
    "query = \"开始游戏\"\n",
    "response = await agent.async_run(query)\n",
    "messages = response.chat_history\n",
    "for item in messages:\n",
    "    print(item.to_dict())"
   ]
  },
  {
   "cell_type": "code",
   "execution_count": 68,
   "metadata": {},
   "outputs": [
    {
     "name": "stdout",
     "output_type": "stream",
     "text": [
      "[<erniebot_agent.messages.HumanMessage object at 0x1607d1030>, <erniebot_agent.messages.AIMessage object at 0x160fb80a0>]\n"
     ]
    }
   ],
   "source": [
    "print(agent.memory.msg_manager.messages)"
   ]
  },
  {
   "cell_type": "code",
   "execution_count": 29,
   "metadata": {},
   "outputs": [
    {
     "name": "stderr",
     "output_type": "stream",
     "text": [
      "\u001b[92mINFO - [Run][Start]Agent <erniebot_agent.agents.functional_agent.FunctionalAgent object at 0x135ad1810> starts running with input: \n",
      " \u001b[94m2\u001b[0m\u001b[0m\n",
      "\u001b[92mINFO - [LLM][Start]Agent <erniebot_agent.chat_models.erniebot.ERNIEBot object at 0x135ad0cd0> starts running with input: \n",
      " \u001b[93m[<erniebot_agent.messages.HumanMessage object at 0x1359f2530>, <erniebot_agent.messages.AIMessage object at 0x13566c730>, <erniebot_agent.messages.HumanMessage object at 0x1359f3c70>, <erniebot_agent.messages.AIMessage object at 0x135abdbd0>, <erniebot_agent.messages.HumanMessage object at 0x135a47b20>]\u001b[0m\u001b[0m\n",
      "\u001b[92mINFO - [LLM][End]Agent <erniebot_agent.chat_models.erniebot.ERNIEBot object at 0x135ad0cd0> ends running with output: \n",
      " \u001b[93mrole: \n",
      "    assistant, \n",
      "content: \n",
      "    <场景描述>：\n",
      "你站在海滩上，手持宝剑，阳光照射在你的剑身上，海风轻轻吹过你的衣角。\n",
      "\n",
      "<场景图片>：\n",
      "ImageTool.drawImage(\"path/to/image/beach.jpg\", \"描述：海滩\")\n",
      "\n",
      "<选择>：\n",
      "1. 继续在海滩上练习武艺。\n",
      "2. 进入庄园，与郭靖交谈。\n",
      "3. 前往桃花山，寻找桃花岛的隐秘之处。\n",
      "4. 输入玩家自定义的选择。\n",
      "\n",
      "请选择你的行动！,\u001b[0m\u001b[0m\n",
      "\u001b[92mINFO - [Run][End]Agent <erniebot_agent.agents.functional_agent.FunctionalAgent object at 0x135ad1810> finished running with output: \n",
      " \u001b[94mAgentResponse(content='<场景描述>：\\n你站在海滩上，手持宝剑，阳光照射在你的剑身上，海风轻轻吹过你的衣角。\\n\\n<场景图片>：\\nImageTool.drawImage(\"path/to/image/beach.jpg\", \"描述：海滩\")\\n\\n<选择>：\\n1. 继续在海滩上练习武艺。\\n2. 进入庄园，与郭靖交谈。\\n3. 前往桃花山，寻找桃花岛的隐秘之处。\\n4. 输入玩家自定义的选择。\\n\\n请选择你的行动！', chat_history=[<erniebot_agent.messages.HumanMessage object at 0x135a47b20>, <erniebot_agent.messages.AIMessage object at 0x135abef20>], actions=[], status='FINISHED')\u001b[0m\u001b[0m\n"
     ]
    },
    {
     "name": "stdout",
     "output_type": "stream",
     "text": [
      "{'role': 'user', 'content': '2'}\n",
      "{'role': 'assistant', 'content': '<场景描述>：\\n你站在海滩上，手持宝剑，阳光照射在你的剑身上，海风轻轻吹过你的衣角。\\n\\n<场景图片>：\\nImageTool.drawImage(\"path/to/image/beach.jpg\", \"描述：海滩\")\\n\\n<选择>：\\n1. 继续在海滩上练习武艺。\\n2. 进入庄园，与郭靖交谈。\\n3. 前往桃花山，寻找桃花岛的隐秘之处。\\n4. 输入玩家自定义的选择。\\n\\n请选择你的行动！', 'function_call': None}\n"
     ]
    }
   ],
   "source": [
    "query = \"2\"\n",
    "response = await agent.async_run(query)\n",
    "messages = response.chat_history\n",
    "for item in messages:\n",
    "    print(item.to_dict())"
   ]
  },
  {
   "cell_type": "code",
   "execution_count": 20,
   "metadata": {},
   "outputs": [
    {
     "data": {
      "text/plain": [
       "{'SearchTool': <name: None, description: 在故事情节中找到与用户输入最相关的片段>}"
      ]
     },
     "execution_count": 20,
     "metadata": {},
     "output_type": "execute_result"
    }
   ],
   "source": [
    "agent._tool_manager._tools"
   ]
  },
  {
   "cell_type": "code",
   "execution_count": null,
   "metadata": {},
   "outputs": [],
   "source": []
  }
 ],
 "metadata": {
  "kernelspec": {
   "display_name": "ernie",
   "language": "python",
   "name": "python3"
  },
  "language_info": {
   "codemirror_mode": {
    "name": "ipython",
    "version": 3
   },
   "file_extension": ".py",
   "mimetype": "text/x-python",
   "name": "python",
   "nbconvert_exporter": "python",
   "pygments_lexer": "ipython3",
   "version": "3.10.13"
  }
 },
 "nbformat": 4,
 "nbformat_minor": 2
}
