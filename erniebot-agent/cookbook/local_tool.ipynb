{
 "cells": [
  {
   "cell_type": "markdown",
   "metadata": {},
   "source": [
    "# Local Tool\n",
    "已经介绍过 [tool 快速开始](../modules/tools/getting-started.md) 以及 [如何创建 Tool](../modules/tools/create-tool.md)，本篇文章将通过单词本这个案例详细介绍如何开发智能对话。\n"
   ]
  },
  {
   "cell_type": "markdown",
   "metadata": {},
   "source": [
    "## 1. 单词本 Tool\n",
    "\n",
    "### 1.1 需求描述\n",
    "\n",
    "创建一个单词本的 LocalTool，可实现添加单词本的功能。\n",
    "\n",
    "### 1.2 代码实现"
   ]
  },
  {
   "cell_type": "code",
   "execution_count": 1,
   "metadata": {},
   "outputs": [],
   "source": [
    "import os\n",
    "import sys\n",
    "\n",
    "os.environ[\"EB_API_TYPE\"] = \"aistudio\"\n",
    "os.environ[\"EB_ACCESS_TOKEN\"] = \"your-token\"\n",
    "os.environ[\"EB_LOGGING_LEVEL\"] = \"info\"\n",
    "sys.path.insert(0, \"../src\")\n",
    "sys.path.insert(0, \"../../erniebot/src\")"
   ]
  },
  {
   "cell_type": "code",
   "execution_count": 2,
   "metadata": {},
   "outputs": [
    {
     "name": "stdout",
     "output_type": "stream",
     "text": [
      "AgentResponse(text='根据您的请求，我已经将单词“red”添加到单词本当中。现在单词本中有如下单词：red。如果您需要进一步操作或有任何问题，请随时告诉我。', chat_history=[<HumanMessage role: 'user', content: '将单词：“red”添加到单词本当中', token_count: 113>, <AIMessage role: 'assistant', function_call: {'name': 'AddWordTool', 'thoughts': '用户想要将一个单词添加到单词本当中；我需要使用AddWordTool工具来实现这一需求；根据AddWordTool工具的定义，全部参数集合为[word]；其中\"required\": true的必要参数集合为[word]；结合用户当前问题“将单词：“red”添加到单词本当中”和整个对话历史，用户已经提供了以下参数值{word: \\'red\\'}；其中已经提供对应参数值的\"required\": true的必要参数集合为[word]；尚未提供对应参数值的\"required\": true参数列表为[]；由于尚未提供对应参数值的\"required\": true参数列表为[]，即全部\"required\": true的必要参数都已经提供，我可以直接调用工具AddWordTool', 'arguments': '{\"word\":\"red\"}'}, token_count: 156>, <FunctionMessage role: 'function', name: 'AddWordTool', content: '{\"result\": \"<red>单词已添加成功, 当前单词本中有如下单词：red\"}'>, <AIMessage role: 'assistant', content: '根据您的请求，我已经将单词“red”添加到单词本当中。现在单词本中有如下单词：red。如果您需要进一步操作或有任何问题，请随时告诉我。', token_count: 37>], steps=[ToolStep(info={'tool_name': 'AddWordTool', 'tool_args': '{\"word\":\"red\"}'}, result='{\"result\": \"<red>单词已添加成功, 当前单词本中有如下单词：red\"}', input_files=[], output_files=[])], status='FINISHED')\n"
     ]
    }
   ],
   "source": [
    "from __future__ import annotations\n",
    "\n",
    "from typing import Any, Dict, Type, List\n",
    "from pydantic import Field\n",
    "from erniebot_agent.tools.base import Tool\n",
    "\n",
    "from erniebot_agent.tools.schema import ToolParameterView\n",
    "\n",
    "from erniebot_agent.agents.function_agent import FunctionAgent\n",
    "from erniebot_agent.chat_models import ERNIEBot\n",
    "from erniebot_agent.memory import WholeMemory\n",
    "\n",
    "\n",
    "class AddWordInput(ToolParameterView):\n",
    "    word: str = Field(description=\"待添加的单词\")\n",
    "\n",
    "\n",
    "class AddWordOutput(ToolParameterView):\n",
    "    result: str = Field(description=\"表示是否成功将单词成功添加到词库当中\")\n",
    "\n",
    "\n",
    "class AddWordTool(Tool):\n",
    "    description: str = \"添加单词到词库当中\"\n",
    "    input_type: Type[ToolParameterView] = AddWordInput\n",
    "    ouptut_type: Type[ToolParameterView] = AddWordOutput\n",
    "\n",
    "    def __init__(self) -> None:\n",
    "        self.word_books = {}\n",
    "        super().__init__()\n",
    "\n",
    "    async def __call__(self, word: str) -> Dict[str, Any]:\n",
    "        if word in self.word_books:\n",
    "            return {\"result\": f\"<{word}>单词已经存在，无需添加\"}\n",
    "        self.word_books[word] = True\n",
    "        words = \"\\n\".join(list(self.word_books.keys()))\n",
    "        return {\"result\": f\"<{word}>单词已添加成功, 当前单词本中有如下单词：{words}\"}\n",
    "\n",
    "\n",
    "async def main():\n",
    "    agent = FunctionAgent(ERNIEBot(\"ernie-3.5\"), tools=[AddWordTool()], memory=WholeMemory())\n",
    "    result = await agent.run(\"将单词：“red”添加到单词本当中\")\n",
    "    print(result)\n",
    "\n",
    "\n",
    "await main()"
   ]
  }
 ],
 "metadata": {
  "kernelspec": {
   "display_name": "Python 3 (ipykernel)",
   "language": "python",
   "name": "python3"
  },
  "language_info": {
   "codemirror_mode": {
    "name": "ipython",
    "version": 3
   },
   "file_extension": ".py",
   "mimetype": "text/x-python",
   "name": "python",
   "nbconvert_exporter": "python",
   "pygments_lexer": "ipython3",
   "version": "3.8.13"
  }
 },
 "nbformat": 4,
 "nbformat_minor": 4
}
