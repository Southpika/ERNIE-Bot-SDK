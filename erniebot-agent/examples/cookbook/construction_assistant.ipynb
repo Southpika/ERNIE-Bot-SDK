{
 "cells": [
  {
   "cell_type": "markdown",
   "id": "fa98944b-1495-42ec-9295-b6401868036a",
   "metadata": {},
   "source": [
    "# 简介\n",
    "\n",
    "这是一款名为‘Construction Assistant城市建设法规标准小助手’的演示应用，它展示了如何利用LangChain的工具以及ERNIEBot的function agent来汇聚专业知识。通过利用ERNIE Bot SDK的function agent，我们可以根据对话的上下文以及用户提出的具体问题，让大型模型在回答问题时灵活选择是否采用检索增强方式，或是直接给出答案。这种设计思路不仅丰富了大模型的领域知识，同时也保留了大模型在领域知识之外的通用对话能力。\n",
    "\n",
    "构建流程如下："
   ]
  },
  {
   "cell_type": "markdown",
   "id": "53f40c7a-0de3-4b87-bb4d-293611722bef",
   "metadata": {},
   "source": [
    "# 1. 导入第三方库\n",
    "\n",
    "主要是在导入一些必要的Python库和模块，以便实现Construction Assistant的功能。\n",
    "+ os: Python的标准库，用于与操作系统进行交互，如读写文件、管理路径等。\n",
    "+ Optional, List, Type, Dict: 这些是Python类型提示（typing模块的一部分），用于增强代码的可读性和可维护性，同时也方便开发者进行静态类型检查。\n",
    "+ BaseModel, Field: 这些都是来自Pydantic库的类，用于数据验证和设定数据模型。Field通常用于设定模型的字段。\n",
    "+ SpacyTextSplitter: 一个文本分割工具，用于将文本分割为更小的部分，如句子或短语。\n",
    "+ FAISS: 用于向量存储的模块，可能是用于存储和检索经过嵌入处理的文本或图像的向量表示。\n",
    "+ PyPDFDirectoryLoader: 用于从PDF文件中加载数据的工具。\n",
    "+ ErnieEmbeddings: 用于文本嵌入的工具，将文本转换为可以在模型中使用的向量表示。\n",
    "+ Tool, ToolParameterView: 用于创建和管理工具的基类或工具参数视图的类。\n",
    "+ FunctionAgent: 这个类实现function calling功能的Agent的类，如问答、对话等。\n",
    "+ WholeMemory: 用于存储和管理代理的记忆的类。\n",
    "+ ERNIEBot: 实现ERNIE Bot的主要类，包含了实现对话功能的主要逻辑。\n",
    "+ AIMessage, HumanMessage, Message: 用于实现消息传递和处理的类，如机器人和人类之间的消息交互。\n",
    "+ erniebot: 这是导入erniebot模块的语句，erniebot可能是一个包含ERNIE Bot实现的主要代码库。"
   ]
  },
  {
   "cell_type": "code",
   "execution_count": 1,
   "id": "3f2e9b73-88f3-4ac7-91ec-6624f6cb1b1c",
   "metadata": {},
   "outputs": [
    {
     "name": "stderr",
     "output_type": "stream",
     "text": [
      "\u001b[92mINFO - Finish Loading\u001b[0m\n"
     ]
    }
   ],
   "source": [
    "import os\n",
    "from typing import Optional, List, Type, Dict\n",
    "from pydantic import BaseModel, Field\n",
    "from langchain.text_splitter import SpacyTextSplitter\n",
    "from langchain.vectorstores import FAISS\n",
    "from langchain.document_loaders import PyPDFDirectoryLoader\n",
    "\n",
    "from erniebot_agent.extensions.langchain.embeddings import ErnieEmbeddings\n",
    "from erniebot_agent.tools.base import Tool, ToolParameterView\n",
    "from erniebot_agent.agents import FunctionAgent\n",
    "from erniebot_agent.memory.whole_memory import WholeMemory\n",
    "from erniebot_agent.chat_models.erniebot import ERNIEBot\n",
    "from erniebot_agent.messages import AIMessage, HumanMessage, Message\n",
    "import erniebot"
   ]
  },
  {
   "cell_type": "markdown",
   "id": "b9353a59-acfc-4dbd-ae27-50b7cfab6440",
   "metadata": {},
   "source": [
    "# 2. 预处理\n",
    "\n",
    "## 2.1 下载数据集"
   ]
  },
  {
   "cell_type": "code",
   "execution_count": 3,
   "id": "c6f1d943-6d43-4f34-a92d-f76ab1c3ec53",
   "metadata": {},
   "outputs": [
    {
     "name": "stdout",
     "output_type": "stream",
     "text": [
      "--2023-12-07 14:06:45--  https://paddlenlp.bj.bcebos.com/datasets/examples/construction_regulations.tar\n",
      "Resolving paddlenlp.bj.bcebos.com (paddlenlp.bj.bcebos.com)... 36.110.192.178\n",
      "Connecting to paddlenlp.bj.bcebos.com (paddlenlp.bj.bcebos.com)|36.110.192.178|:443... connected.\n",
      "HTTP request sent, awaiting response... 200 OK\n",
      "Length: 1239040 (1.2M) [application/x-tar]\n",
      "Saving to: 'construction_regulations.tar'\n",
      "\n",
      "construction_regula 100%[===================>]   1.18M   751KB/s    in 1.6s    \n",
      "\n",
      "2023-12-07 14:06:47 (751 KB/s) - 'construction_regulations.tar' saved [1239040/1239040]\n",
      "\n",
      "x construction_regulations/\n",
      "x construction_regulations/城市管理执法办法.pdf\n",
      "x construction_regulations/建筑工程设计招标投标管理办法.pdf\n",
      "x construction_regulations/建筑业企业资质管理规定.pdf\n",
      "x construction_regulations/城市照明管理规定.pdf\n",
      "x construction_regulations/城市设计管理办法.pdf\n",
      "x construction_regulations/建筑工程施工发包与承包计价管理办法.pdf\n",
      "x construction_regulations/市政公用设施抗灾设防管理规定.pdf\n"
     ]
    }
   ],
   "source": [
    "! wget https://paddlenlp.bj.bcebos.com/datasets/examples/construction_regulations.tar\n",
    "! tar xvf construction_regulations.tar"
   ]
  },
  {
   "attachments": {},
   "cell_type": "markdown",
   "id": "e2ef2558-52f6-47e8-a182-f9d8c30bb4c1",
   "metadata": {},
   "source": [
    "## 2.2 配置 ERNIE BOT API\n",
    "\n",
    "这里使用aistudio的Access_token, 申请地址请参考[accessToken](https://aistudio.baidu.com/index/accessToken)"
   ]
  },
  {
   "cell_type": "code",
   "execution_count": 2,
   "id": "02bd2731-f0d7-48ac-a02e-8cadd85b7531",
   "metadata": {},
   "outputs": [],
   "source": [
    "erniebot.api_type = \"aistudio\"\n",
    "# aistudio_access_token = \"your access token\"\n",
    "aistudio_access_token = os.getenv('EB_ACCESS_TOKEN')\n",
    "erniebot.access_token = aistudio_access_token"
   ]
  },
  {
   "cell_type": "markdown",
   "id": "7ae57a90-b949-4ca4-a1b5-030910a7dcfc",
   "metadata": {},
   "source": [
    "# 3. Tool 构建\n",
    "\n",
    "##  3.1 构建Schema\n",
    "\n",
    "定义了三个类：SearchToolInputView，SearchResponseDocument，和SearchToolOutputView，它们都是ToolParameterView的子类，用于处理和描述一种特定的工具参数。这些类利用了Python的typing模块来定义字段和它们的类型，以及字段的描述。\n",
    "\n",
    "+ SearchToolInputView类定义了两个字段：query和retrieval_num。query字段是一个字符串，用于描述“规章查询语句”，这可能是用户输入的查询参数。retrieval_num字段是一个整数，描述了“检索结果数目”，默认值是5。\n",
    "+ SearchResponseDocument类定义了三个字段：document，filename和page_num。这些字段可能用于描述一个特定的搜索结果。document字段是字符串，用于存储和查询相关的规章片段。filename字段也是字符串，用于存储规章的名称。page_num字段是整数，用于描述规章的页数。\n",
    "+ SearchToolOutputView类定义了一个字段：documents，这是一个SearchResponseDocument对象的列表，用于描述搜索结果。这个字段的描述表明它包含的是“住房和城乡建设部规章中和query相关的规章片段”。"
   ]
  },
  {
   "cell_type": "code",
   "execution_count": 3,
   "id": "b0adbd7c-f78a-470c-9ff1-60f3110e5bce",
   "metadata": {},
   "outputs": [],
   "source": [
    "class SearchToolInputView(ToolParameterView):\n",
    "    query: str = Field(description=\"规章查询语句\")\n",
    "    retrieval_num: int = Field(description=\"检索结果数目\", default=5)\n",
    "\n",
    "\n",
    "class SearchResponseDocument(ToolParameterView):\n",
    "    document: str = Field(description=\"和query相关的规章片段\")\n",
    "    filename: str = Field(description=\"规章名称\")\n",
    "    page_num: int = Field(description=\"规章页数\")\n",
    "\n",
    "\n",
    "class SearchToolOutputView(ToolParameterView):\n",
    "    documents: List[SearchResponseDocument] = Field(description=\"检索结果，内容为住房和城乡建设部规章中和query相关的规章片段\")"
   ]
  },
  {
   "cell_type": "markdown",
   "id": "92b422be-bb58-4641-8cba-dea3a3dddf3a",
   "metadata": {},
   "source": [
    "## 3.2 构建Faiss检索工具\n",
    "这段代码定义了一个名为FaissSearchTool的类，它是Tool的子类。这个工具被设计用于在住房和城乡建设部规章中寻找和给定查询（query）最相关的片段。\n",
    "\n",
    "1. FaissSearchTool的类属性description描述了这个工具的功能，input_type和output_type则分别指定了输入和输出的类型。\n",
    "2. 在__init__方法中，这个工具初始化了一个数据库连接。\n",
    "3. __call__方法是这个工具的核心，它是一个异步方法，接受一个查询字符串和一个检索数量，返回一个包含检索到的文档的字典。这个方法首先使用数据库的similarity_search方法获取与查询相似的文档，然后构造检索结果，最后返回一个包含检索结果的字典。\n",
    "4. examples属性返回了一个示例列表，这个列表包含一个人类消息和一个AI消息。这些消息可以用来演示这个工具的使用方法。\n",
    "\n",
    "总的来说，这个类是一个基于Faiss库的搜索工具，用于在特定的文档数据库中找到与给定查询最相关的文档。这在信息检索、问答系统等领域有广泛的应用。"
   ]
  },
  {
   "cell_type": "code",
   "execution_count": 4,
   "id": "36080e36-62cf-492e-b96e-e90846f76d38",
   "metadata": {},
   "outputs": [
    {
     "data": {
      "text/plain": [
       "{'name': 'FaissSearchTool',\n",
       " 'description': '在住房和城乡建设部规章中寻找和query最相关的片段',\n",
       " 'examples': [{'role': 'user', 'content': '城乡建设部规章中描述的城市管理执法的执法主体是谁？'},\n",
       "  {'role': 'assistant',\n",
       "   'content': '',\n",
       "   'function_call': {'name': 'FaissSearchTool',\n",
       "    'thoughts': \"这是一个住房和城乡建设部规章的问题，我们使用FaissSearchTool工具检索相关的信息，检索的query：'城市管理执法的执法主体'。\",\n",
       "    'arguments': '{\"query\": \"城市管理执法的执法主体\", \"retrieval_num\": 3}'}}],\n",
       " 'parameters': {'type': 'object',\n",
       "  'properties': {'query': {'type': 'string', 'description': '规章查询语句'},\n",
       "   'retrieval_num': {'type': 'integer', 'description': '检索结果数目'}},\n",
       "  'required': ['query']},\n",
       " 'responses': {'type': 'object',\n",
       "  'properties': {'documents': {'type': 'array',\n",
       "    'description': '检索结果，内容为住房和城乡建设部规章中和query相关的规章片段',\n",
       "    'items': {'type': 'object',\n",
       "     'properties': {'document': {'type': 'string',\n",
       "       'description': '和query相关的规章片段'},\n",
       "      'filename': {'type': 'string', 'description': '规章名称'},\n",
       "      'page_num': {'type': 'integer', 'description': '规章页数'}},\n",
       "     'required': ['document', 'filename', 'page_num']}}},\n",
       "  'required': ['documents']}}"
      ]
     },
     "execution_count": 4,
     "metadata": {},
     "output_type": "execute_result"
    }
   ],
   "source": [
    "from erniebot_agent.tools.base import Tool, ToolParameterView\n",
    "from pydantic import BaseModel, Field\n",
    "from typing import List, Type, Dict\n",
    "class SearchToolInputView(ToolParameterView):\n",
    "    query: str = Field(description='规章查询语句')\n",
    "    retrieval_num: int = Field(description=\"检索结果数目\", default=5)\n",
    "\n",
    "\n",
    "class SearchResponseDocument(ToolParameterView):\n",
    "    document: str = Field(description=\"和query相关的规章片段\")\n",
    "    filename: str = Field(description=\"规章名称\")\n",
    "    page_num: int = Field(description=\"规章页数\")\n",
    "\n",
    "\n",
    "class SearchToolOutputView(ToolParameterView):\n",
    "    documents: List[SearchResponseDocument] = Field(description=\"检索结果，内容为住房和城乡建设部规章中和query相关的规章片段\")\n",
    "    \n",
    "class FaissSearchTool(Tool):\n",
    "    description: str = \"在住房和城乡建设部规章中寻找和query最相关的片段\"\n",
    "    input_type: Type[ToolParameterView] = SearchToolInputView\n",
    "    ouptut_type: Type[ToolParameterView] = SearchToolOutputView\n",
    "\n",
    "    def __init__(self, db):\n",
    "        self.db = db\n",
    "\n",
    "    async def __call__(self, query: str, retrieval_num: int = 5) -> Dict[str, float]:\n",
    "        docs = self.db.similarity_search(query)\n",
    "        retrieval_results = []\n",
    "        for doc in docs:\n",
    "            retrieval_results.append(\n",
    "                dict(\n",
    "                    SearchResponseDocument(\n",
    "                        document=doc.page_content,\n",
    "                        filename=doc.metadata[\"source\"],\n",
    "                        page_num=doc.metadata[\"page\"],\n",
    "                    )\n",
    "                )\n",
    "            )\n",
    "        return {\"documents\": retrieval_results}\n",
    "\n",
    "    @property\n",
    "    def examples(self) -> List[Message]:\n",
    "        return [\n",
    "            HumanMessage(\"城乡建设部规章中描述的城市管理执法的执法主体是谁？\"),\n",
    "            AIMessage(\n",
    "                \"\",\n",
    "                function_call={\n",
    "                    \"name\": self.tool_name,\n",
    "                    \"thoughts\": f\"这是一个住房和城乡建设部规章的问题，我们使用{self.tool_name}工具检索相关的信息，检索的query：'城市管理执法的执法主体'。\",\n",
    "                    \"arguments\": '{\"query\": \"城市管理执法的执法主体\", \"retrieval_num\": 3}',\n",
    "                },\n",
    "            ),\n",
    "        ]"
   ]
  },
  {
   "cell_type": "markdown",
   "id": "2b1f9a3c-5c0e-406a-9379-66a441ffcf57",
   "metadata": {},
   "source": [
    "# 4. Construction Assistant\n",
    "## 4.1 建索引库\n",
    "\n",
    "这段代码主要功能是用于创建或加载一个FAISS索引来进行文档相似度匹配。首先，创建一个ErnieEmbeddings对象，用于生成文档的嵌入向量。aistudio_access_token是访问AI Studio的令牌，chunk_size是用于嵌入的文档块的数量，sleep_time是在每次请求嵌入后的休眠时间，用于限制请求的频率。"
   ]
  },
  {
   "cell_type": "code",
   "execution_count": 5,
   "id": "9cf1714d-c0c7-4e7c-9085-9db3f5bd5d77",
   "metadata": {},
   "outputs": [],
   "source": [
    "embeddings = ErnieEmbeddings(aistudio_access_token=aistudio_access_token, chunk_size=16)"
   ]
  },
  {
   "cell_type": "markdown",
   "id": "70e3286e-9398-4c63-bcea-76eadb9fee57",
   "metadata": {},
   "source": [
    "接下来利用ErnieEmbeddings来抽取向量构建索引。\n",
    "+ 如果FAISS索引文件已经存在，就使用FAISS.load_local方法加载这个索引，这个索引文件的名字就是定义的faiss_name。\n",
    "+ 如果FAISS索引不存在，则需要建索引。\n",
    "    + 第一步，使用PyPDFDirectoryLoader来从\"construction_regulations\"这个文件夹中加载PDF文档。\n",
    "    + 第二步，使用SpacyTextSplitter来将加载的文档分割成更小的部分，以便于生成嵌入向量。这个分割器主要用于中文文本，因为这里使用的pipeline是'zh_core_web_sm'，如果是初次运行，需要安装spacy并运行`python -m spacy download zh_core_web_sm`来下载中文分句模型。\n",
    "    + 第三步，通过分割后的文档创建一个新的FAISS索引，并将这个索引保存为之前定义的faiss_name。"
   ]
  },
  {
   "cell_type": "code",
   "execution_count": 9,
   "id": "ba96dcab-72a6-45f3-bbab-352d0c29afa4",
   "metadata": {},
   "outputs": [],
   "source": [
    "\n",
    "faiss_name = \"faiss_index\"\n",
    "if os.path.exists(faiss_name):\n",
    "    db = FAISS.load_local(faiss_name, embeddings)\n",
    "else:\n",
    "    loader = PyPDFDirectoryLoader(\"construction_regulations\")\n",
    "    documents = loader.load()\n",
    "    text_splitter = SpacyTextSplitter(pipeline=\"zh_core_web_sm\", chunk_size=320, chunk_overlap=0)\n",
    "    docs = text_splitter.split_documents(documents)\n",
    "    db = FAISS.from_documents(docs, embeddings)\n",
    "    db.save_local(faiss_name)"
   ]
  },
  {
   "cell_type": "markdown",
   "id": "e3bf56d6-267e-4c0d-8451-73075c007886",
   "metadata": {},
   "source": [
    "以下代码是使用FaissSearchTool工具进行搜索的一个例子，流程大致如下：\n",
    "1. 创建FaissSearchTool对象，并传入数据库对象db。\n",
    "2. 使用await关键字对FaissSearchTool对象进行异步调用，并传入查询字符串\"城市管理执法主管部门的职责是什么？\"。\n",
    "3. 将搜索结果以格式化的形式进行打印，这里使用了pprint模块进行美化打印。最终的结果存储在变量res中。"
   ]
  },
  {
   "cell_type": "code",
   "execution_count": 15,
   "metadata": {},
   "outputs": [
    {
     "ename": "HTTPRequestError",
     "evalue": "The status code is not 200. \nResponse:\n  code: 404\n  body: '404 page not found'\n  headers: {'Content-Type': 'text/plain', 'Date': 'Thu, 07 Dec 2023 06:20:38 GMT', 'Content-Length': '18'}",
     "output_type": "error",
     "traceback": [
      "\u001b[0;31m---------------------------------------------------------------------------\u001b[0m",
      "\u001b[0;31mHTTPRequestError\u001b[0m                          Traceback (most recent call last)",
      "\u001b[1;32m/Users/tanzhehao/Documents/ERINE/ERNIE-Bot-SDK/erniebot-agent/examples/cookbook/construction_assistant.ipynb 单元格 17\u001b[0m line \u001b[0;36m2\n\u001b[1;32m      <a href='vscode-notebook-cell:/Users/tanzhehao/Documents/ERINE/ERNIE-Bot-SDK/erniebot-agent/examples/cookbook/construction_assistant.ipynb#X56sZmlsZQ%3D%3D?line=0'>1</a>\u001b[0m get_ipython()\u001b[39m.\u001b[39msystem(\u001b[39m'\u001b[39m\u001b[39munset EB_BASE_URL\u001b[39m\u001b[39m'\u001b[39m)\n\u001b[0;32m----> <a href='vscode-notebook-cell:/Users/tanzhehao/Documents/ERINE/ERNIE-Bot-SDK/erniebot-agent/examples/cookbook/construction_assistant.ipynb#X56sZmlsZQ%3D%3D?line=1'>2</a>\u001b[0m db \u001b[39m=\u001b[39m FAISS\u001b[39m.\u001b[39;49mfrom_documents(docs, embeddings)\n",
      "File \u001b[0;32m/opt/anaconda3/envs/ernie/lib/python3.10/site-packages/langchain_core/vectorstores.py:510\u001b[0m, in \u001b[0;36mVectorStore.from_documents\u001b[0;34m(cls, documents, embedding, **kwargs)\u001b[0m\n\u001b[1;32m    508\u001b[0m texts \u001b[39m=\u001b[39m [d\u001b[39m.\u001b[39mpage_content \u001b[39mfor\u001b[39;00m d \u001b[39min\u001b[39;00m documents]\n\u001b[1;32m    509\u001b[0m metadatas \u001b[39m=\u001b[39m [d\u001b[39m.\u001b[39mmetadata \u001b[39mfor\u001b[39;00m d \u001b[39min\u001b[39;00m documents]\n\u001b[0;32m--> 510\u001b[0m \u001b[39mreturn\u001b[39;00m \u001b[39mcls\u001b[39;49m\u001b[39m.\u001b[39;49mfrom_texts(texts, embedding, metadatas\u001b[39m=\u001b[39;49mmetadatas, \u001b[39m*\u001b[39;49m\u001b[39m*\u001b[39;49mkwargs)\n",
      "File \u001b[0;32m/opt/anaconda3/envs/ernie/lib/python3.10/site-packages/langchain/vectorstores/faiss.py:911\u001b[0m, in \u001b[0;36mFAISS.from_texts\u001b[0;34m(cls, texts, embedding, metadatas, ids, **kwargs)\u001b[0m\n\u001b[1;32m    884\u001b[0m \u001b[39m@classmethod\u001b[39m\n\u001b[1;32m    885\u001b[0m \u001b[39mdef\u001b[39;00m \u001b[39mfrom_texts\u001b[39m(\n\u001b[1;32m    886\u001b[0m     \u001b[39mcls\u001b[39m,\n\u001b[0;32m   (...)\u001b[0m\n\u001b[1;32m    891\u001b[0m     \u001b[39m*\u001b[39m\u001b[39m*\u001b[39mkwargs: Any,\n\u001b[1;32m    892\u001b[0m ) \u001b[39m-\u001b[39m\u001b[39m>\u001b[39m FAISS:\n\u001b[1;32m    893\u001b[0m \u001b[39m    \u001b[39m\u001b[39m\"\"\"Construct FAISS wrapper from raw documents.\u001b[39;00m\n\u001b[1;32m    894\u001b[0m \n\u001b[1;32m    895\u001b[0m \u001b[39m    This is a user friendly interface that:\u001b[39;00m\n\u001b[0;32m   (...)\u001b[0m\n\u001b[1;32m    909\u001b[0m \u001b[39m            faiss = FAISS.from_texts(texts, embeddings)\u001b[39;00m\n\u001b[1;32m    910\u001b[0m \u001b[39m    \"\"\"\u001b[39;00m\n\u001b[0;32m--> 911\u001b[0m     embeddings \u001b[39m=\u001b[39m embedding\u001b[39m.\u001b[39;49membed_documents(texts)\n\u001b[1;32m    912\u001b[0m     \u001b[39mreturn\u001b[39;00m \u001b[39mcls\u001b[39m\u001b[39m.\u001b[39m__from(\n\u001b[1;32m    913\u001b[0m         texts,\n\u001b[1;32m    914\u001b[0m         embeddings,\n\u001b[0;32m   (...)\u001b[0m\n\u001b[1;32m    918\u001b[0m         \u001b[39m*\u001b[39m\u001b[39m*\u001b[39mkwargs,\n\u001b[1;32m    919\u001b[0m     )\n",
      "File \u001b[0;32m~/Documents/ERINE/ERNIE-Bot-SDK/erniebot-agent/erniebot_agent/extensions/langchain/embeddings/ernie.py:71\u001b[0m, in \u001b[0;36mErnieEmbeddings.embed_documents\u001b[0;34m(self, texts)\u001b[0m\n\u001b[1;32m     69\u001b[0m lst \u001b[39m=\u001b[39m []\n\u001b[1;32m     70\u001b[0m \u001b[39mfor\u001b[39;00m chunk \u001b[39min\u001b[39;00m text_in_chunks:\n\u001b[0;32m---> 71\u001b[0m     resp \u001b[39m=\u001b[39m \u001b[39mself\u001b[39;49m\u001b[39m.\u001b[39;49mclient\u001b[39m.\u001b[39;49mcreate(\n\u001b[1;32m     72\u001b[0m         _config_\u001b[39m=\u001b[39;49m{\u001b[39m\"\u001b[39;49m\u001b[39mmax_retries\u001b[39;49m\u001b[39m\"\u001b[39;49m: \u001b[39mself\u001b[39;49m\u001b[39m.\u001b[39;49mmax_retries, \u001b[39m*\u001b[39;49m\u001b[39m*\u001b[39;49m\u001b[39mself\u001b[39;49m\u001b[39m.\u001b[39;49m_get_auth_config()},\n\u001b[1;32m     73\u001b[0m         \u001b[39minput\u001b[39;49m\u001b[39m=\u001b[39;49mchunk,\n\u001b[1;32m     74\u001b[0m         model\u001b[39m=\u001b[39;49m\u001b[39mself\u001b[39;49m\u001b[39m.\u001b[39;49mmodel,\n\u001b[1;32m     75\u001b[0m     )\n\u001b[1;32m     76\u001b[0m     lst\u001b[39m.\u001b[39mextend([res[\u001b[39m\"\u001b[39m\u001b[39membedding\u001b[39m\u001b[39m\"\u001b[39m] \u001b[39mfor\u001b[39;00m res \u001b[39min\u001b[39;00m resp[\u001b[39m\"\u001b[39m\u001b[39mdata\u001b[39m\u001b[39m\"\u001b[39m]])\n\u001b[1;32m     77\u001b[0m     time\u001b[39m.\u001b[39msleep(\u001b[39m1\u001b[39m)\n",
      "File \u001b[0;32m~/Documents/ERINE/ERNIE-Bot-SDK/src/erniebot/resources/embedding.py:79\u001b[0m, in \u001b[0;36mEmbedding.create\u001b[0;34m(cls, model, input, user_id, headers, request_timeout, _config_)\u001b[0m\n\u001b[1;32m     77\u001b[0m config \u001b[39m=\u001b[39m _config_ \u001b[39mor\u001b[39;00m {}\n\u001b[1;32m     78\u001b[0m resource \u001b[39m=\u001b[39m \u001b[39mcls\u001b[39m(\u001b[39m*\u001b[39m\u001b[39m*\u001b[39mconfig)\n\u001b[0;32m---> 79\u001b[0m resp \u001b[39m=\u001b[39m resource\u001b[39m.\u001b[39;49mcreate_resource(\n\u001b[1;32m     80\u001b[0m     \u001b[39m*\u001b[39;49m\u001b[39m*\u001b[39;49mfilter_args(\n\u001b[1;32m     81\u001b[0m         model\u001b[39m=\u001b[39;49mmodel,\n\u001b[1;32m     82\u001b[0m         \u001b[39minput\u001b[39;49m\u001b[39m=\u001b[39;49m\u001b[39minput\u001b[39;49m,\n\u001b[1;32m     83\u001b[0m         user_id\u001b[39m=\u001b[39;49muser_id,\n\u001b[1;32m     84\u001b[0m         headers\u001b[39m=\u001b[39;49mheaders,\n\u001b[1;32m     85\u001b[0m         request_timeout\u001b[39m=\u001b[39;49mrequest_timeout,\n\u001b[1;32m     86\u001b[0m     )\n\u001b[1;32m     87\u001b[0m )\n\u001b[1;32m     88\u001b[0m \u001b[39mreturn\u001b[39;00m EmbeddingResponse\u001b[39m.\u001b[39mfrom_mapping(resp)\n",
      "File \u001b[0;32m~/Documents/ERINE/ERNIE-Bot-SDK/src/erniebot/resources/abc/creatable.py:30\u001b[0m, in \u001b[0;36mCreatable.create_resource\u001b[0;34m(self, **create_kwargs)\u001b[0m\n\u001b[1;32m     28\u001b[0m \u001b[39m\u001b[39m\u001b[39m\"\"\"Creates a resource.\"\"\"\u001b[39;00m\n\u001b[1;32m     29\u001b[0m req \u001b[39m=\u001b[39m \u001b[39mself\u001b[39m\u001b[39m.\u001b[39m_prepare_create(create_kwargs)\n\u001b[0;32m---> 30\u001b[0m resp \u001b[39m=\u001b[39m \u001b[39mself\u001b[39;49m\u001b[39m.\u001b[39;49mrequest(\n\u001b[1;32m     31\u001b[0m     method\u001b[39m=\u001b[39;49m\u001b[39m\"\u001b[39;49m\u001b[39mPOST\u001b[39;49m\u001b[39m\"\u001b[39;49m,\n\u001b[1;32m     32\u001b[0m     path\u001b[39m=\u001b[39;49mreq\u001b[39m.\u001b[39;49mpath,\n\u001b[1;32m     33\u001b[0m     stream\u001b[39m=\u001b[39;49m\u001b[39mFalse\u001b[39;49;00m,\n\u001b[1;32m     34\u001b[0m     params\u001b[39m=\u001b[39;49mreq\u001b[39m.\u001b[39;49mparams,\n\u001b[1;32m     35\u001b[0m     headers\u001b[39m=\u001b[39;49mreq\u001b[39m.\u001b[39;49mheaders,\n\u001b[1;32m     36\u001b[0m     files\u001b[39m=\u001b[39;49mreq\u001b[39m.\u001b[39;49mfiles,\n\u001b[1;32m     37\u001b[0m     request_timeout\u001b[39m=\u001b[39;49mreq\u001b[39m.\u001b[39;49mtimeout,\n\u001b[1;32m     38\u001b[0m )\n\u001b[1;32m     39\u001b[0m resp \u001b[39m=\u001b[39m \u001b[39mself\u001b[39m\u001b[39m.\u001b[39m_postprocess_create(resp)\n\u001b[1;32m     40\u001b[0m \u001b[39mreturn\u001b[39;00m resp\n",
      "File \u001b[0;32m~/Documents/ERINE/ERNIE-Bot-SDK/src/erniebot/resources/resource.py:156\u001b[0m, in \u001b[0;36mEBResource.request\u001b[0;34m(self, method, path, stream, params, headers, files, request_timeout)\u001b[0m\n\u001b[1;32m    128\u001b[0m \u001b[39m@final\u001b[39m\n\u001b[1;32m    129\u001b[0m \u001b[39mdef\u001b[39;00m \u001b[39mrequest\u001b[39m(\n\u001b[1;32m    130\u001b[0m     \u001b[39mself\u001b[39m,\n\u001b[0;32m   (...)\u001b[0m\n\u001b[1;32m    138\u001b[0m     request_timeout: Optional[\u001b[39mfloat\u001b[39m] \u001b[39m=\u001b[39m \u001b[39mNone\u001b[39;00m,\n\u001b[1;32m    139\u001b[0m ) \u001b[39m-\u001b[39m\u001b[39m>\u001b[39m Union[EBResponse, Iterator[EBResponse]]:\n\u001b[1;32m    140\u001b[0m     retrying \u001b[39m=\u001b[39m tenacity\u001b[39m.\u001b[39mRetrying(\n\u001b[1;32m    141\u001b[0m         stop\u001b[39m=\u001b[39mtenacity\u001b[39m.\u001b[39mstop_after_attempt(\u001b[39mself\u001b[39m\u001b[39m.\u001b[39mmax_retries \u001b[39m+\u001b[39m \u001b[39m1\u001b[39m),\n\u001b[1;32m    142\u001b[0m         wait\u001b[39m=\u001b[39mtenacity\u001b[39m.\u001b[39mwait_exponential(multiplier\u001b[39m=\u001b[39m\u001b[39m1\u001b[39m, \u001b[39mmax\u001b[39m\u001b[39m=\u001b[39m\u001b[39mself\u001b[39m\u001b[39m.\u001b[39mretry_after[\u001b[39m1\u001b[39m], \u001b[39mmin\u001b[39m\u001b[39m=\u001b[39m\u001b[39mself\u001b[39m\u001b[39m.\u001b[39mretry_after[\u001b[39m0\u001b[39m])\n\u001b[0;32m   (...)\u001b[0m\n\u001b[1;32m    154\u001b[0m         reraise\u001b[39m=\u001b[39m\u001b[39mTrue\u001b[39;00m,\n\u001b[1;32m    155\u001b[0m     )\n\u001b[0;32m--> 156\u001b[0m     \u001b[39mfor\u001b[39;00m attempt \u001b[39min\u001b[39;00m retrying:\n\u001b[1;32m    157\u001b[0m         \u001b[39mwith\u001b[39;00m attempt:\n\u001b[1;32m    158\u001b[0m             \u001b[39mreturn\u001b[39;00m \u001b[39mself\u001b[39m\u001b[39m.\u001b[39m_request(\n\u001b[1;32m    159\u001b[0m                 method\u001b[39m=\u001b[39mmethod,\n\u001b[1;32m    160\u001b[0m                 path\u001b[39m=\u001b[39mpath,\n\u001b[0;32m   (...)\u001b[0m\n\u001b[1;32m    165\u001b[0m                 request_timeout\u001b[39m=\u001b[39mrequest_timeout,\n\u001b[1;32m    166\u001b[0m             )\n",
      "File \u001b[0;32m/opt/anaconda3/envs/ernie/lib/python3.10/site-packages/tenacity/__init__.py:347\u001b[0m, in \u001b[0;36mBaseRetrying.__iter__\u001b[0;34m(self)\u001b[0m\n\u001b[1;32m    345\u001b[0m retry_state \u001b[39m=\u001b[39m RetryCallState(\u001b[39mself\u001b[39m, fn\u001b[39m=\u001b[39m\u001b[39mNone\u001b[39;00m, args\u001b[39m=\u001b[39m(), kwargs\u001b[39m=\u001b[39m{})\n\u001b[1;32m    346\u001b[0m \u001b[39mwhile\u001b[39;00m \u001b[39mTrue\u001b[39;00m:\n\u001b[0;32m--> 347\u001b[0m     do \u001b[39m=\u001b[39m \u001b[39mself\u001b[39;49m\u001b[39m.\u001b[39;49miter(retry_state\u001b[39m=\u001b[39;49mretry_state)\n\u001b[1;32m    348\u001b[0m     \u001b[39mif\u001b[39;00m \u001b[39misinstance\u001b[39m(do, DoAttempt):\n\u001b[1;32m    349\u001b[0m         \u001b[39myield\u001b[39;00m AttemptManager(retry_state\u001b[39m=\u001b[39mretry_state)\n",
      "File \u001b[0;32m/opt/anaconda3/envs/ernie/lib/python3.10/site-packages/tenacity/__init__.py:314\u001b[0m, in \u001b[0;36mBaseRetrying.iter\u001b[0;34m(self, retry_state)\u001b[0m\n\u001b[1;32m    312\u001b[0m is_explicit_retry \u001b[39m=\u001b[39m fut\u001b[39m.\u001b[39mfailed \u001b[39mand\u001b[39;00m \u001b[39misinstance\u001b[39m(fut\u001b[39m.\u001b[39mexception(), TryAgain)\n\u001b[1;32m    313\u001b[0m \u001b[39mif\u001b[39;00m \u001b[39mnot\u001b[39;00m (is_explicit_retry \u001b[39mor\u001b[39;00m \u001b[39mself\u001b[39m\u001b[39m.\u001b[39mretry(retry_state)):\n\u001b[0;32m--> 314\u001b[0m     \u001b[39mreturn\u001b[39;00m fut\u001b[39m.\u001b[39;49mresult()\n\u001b[1;32m    316\u001b[0m \u001b[39mif\u001b[39;00m \u001b[39mself\u001b[39m\u001b[39m.\u001b[39mafter \u001b[39mis\u001b[39;00m \u001b[39mnot\u001b[39;00m \u001b[39mNone\u001b[39;00m:\n\u001b[1;32m    317\u001b[0m     \u001b[39mself\u001b[39m\u001b[39m.\u001b[39mafter(retry_state)\n",
      "File \u001b[0;32m/opt/anaconda3/envs/ernie/lib/python3.10/concurrent/futures/_base.py:451\u001b[0m, in \u001b[0;36mFuture.result\u001b[0;34m(self, timeout)\u001b[0m\n\u001b[1;32m    449\u001b[0m     \u001b[39mraise\u001b[39;00m CancelledError()\n\u001b[1;32m    450\u001b[0m \u001b[39melif\u001b[39;00m \u001b[39mself\u001b[39m\u001b[39m.\u001b[39m_state \u001b[39m==\u001b[39m FINISHED:\n\u001b[0;32m--> 451\u001b[0m     \u001b[39mreturn\u001b[39;00m \u001b[39mself\u001b[39;49m\u001b[39m.\u001b[39;49m__get_result()\n\u001b[1;32m    453\u001b[0m \u001b[39mself\u001b[39m\u001b[39m.\u001b[39m_condition\u001b[39m.\u001b[39mwait(timeout)\n\u001b[1;32m    455\u001b[0m \u001b[39mif\u001b[39;00m \u001b[39mself\u001b[39m\u001b[39m.\u001b[39m_state \u001b[39min\u001b[39;00m [CANCELLED, CANCELLED_AND_NOTIFIED]:\n",
      "File \u001b[0;32m/opt/anaconda3/envs/ernie/lib/python3.10/concurrent/futures/_base.py:403\u001b[0m, in \u001b[0;36mFuture.__get_result\u001b[0;34m(self)\u001b[0m\n\u001b[1;32m    401\u001b[0m \u001b[39mif\u001b[39;00m \u001b[39mself\u001b[39m\u001b[39m.\u001b[39m_exception:\n\u001b[1;32m    402\u001b[0m     \u001b[39mtry\u001b[39;00m:\n\u001b[0;32m--> 403\u001b[0m         \u001b[39mraise\u001b[39;00m \u001b[39mself\u001b[39m\u001b[39m.\u001b[39m_exception\n\u001b[1;32m    404\u001b[0m     \u001b[39mfinally\u001b[39;00m:\n\u001b[1;32m    405\u001b[0m         \u001b[39m# Break a reference cycle with the exception in self._exception\u001b[39;00m\n\u001b[1;32m    406\u001b[0m         \u001b[39mself\u001b[39m \u001b[39m=\u001b[39m \u001b[39mNone\u001b[39;00m\n",
      "File \u001b[0;32m~/Documents/ERINE/ERNIE-Bot-SDK/src/erniebot/resources/resource.py:158\u001b[0m, in \u001b[0;36mEBResource.request\u001b[0;34m(self, method, path, stream, params, headers, files, request_timeout)\u001b[0m\n\u001b[1;32m    156\u001b[0m \u001b[39mfor\u001b[39;00m attempt \u001b[39min\u001b[39;00m retrying:\n\u001b[1;32m    157\u001b[0m     \u001b[39mwith\u001b[39;00m attempt:\n\u001b[0;32m--> 158\u001b[0m         \u001b[39mreturn\u001b[39;00m \u001b[39mself\u001b[39;49m\u001b[39m.\u001b[39;49m_request(\n\u001b[1;32m    159\u001b[0m             method\u001b[39m=\u001b[39;49mmethod,\n\u001b[1;32m    160\u001b[0m             path\u001b[39m=\u001b[39;49mpath,\n\u001b[1;32m    161\u001b[0m             stream\u001b[39m=\u001b[39;49mstream,\n\u001b[1;32m    162\u001b[0m             params\u001b[39m=\u001b[39;49mparams,\n\u001b[1;32m    163\u001b[0m             headers\u001b[39m=\u001b[39;49mheaders,\n\u001b[1;32m    164\u001b[0m             files\u001b[39m=\u001b[39;49mfiles,\n\u001b[1;32m    165\u001b[0m             request_timeout\u001b[39m=\u001b[39;49mrequest_timeout,\n\u001b[1;32m    166\u001b[0m         )\n\u001b[1;32m    167\u001b[0m \u001b[39mraise\u001b[39;00m \u001b[39mAssertionError\u001b[39;00m\n",
      "File \u001b[0;32m~/Documents/ERINE/ERNIE-Bot-SDK/src/erniebot/resources/resource.py:360\u001b[0m, in \u001b[0;36mEBResource._request\u001b[0;34m(self, method, path, stream, params, headers, files, request_timeout)\u001b[0m\n\u001b[1;32m    349\u001b[0m \u001b[39m@final\u001b[39m\n\u001b[1;32m    350\u001b[0m \u001b[39mdef\u001b[39;00m \u001b[39m_request\u001b[39m(\n\u001b[1;32m    351\u001b[0m     \u001b[39mself\u001b[39m,\n\u001b[0;32m   (...)\u001b[0m\n\u001b[1;32m    358\u001b[0m     request_timeout: Optional[\u001b[39mfloat\u001b[39m],\n\u001b[1;32m    359\u001b[0m ) \u001b[39m-\u001b[39m\u001b[39m>\u001b[39m Union[EBResponse, Iterator[EBResponse]]:\n\u001b[0;32m--> 360\u001b[0m     resp \u001b[39m=\u001b[39m \u001b[39mself\u001b[39;49m\u001b[39m.\u001b[39;49m_backend\u001b[39m.\u001b[39;49mrequest(\n\u001b[1;32m    361\u001b[0m         method,\n\u001b[1;32m    362\u001b[0m         path,\n\u001b[1;32m    363\u001b[0m         stream,\n\u001b[1;32m    364\u001b[0m         params\u001b[39m=\u001b[39;49mparams,\n\u001b[1;32m    365\u001b[0m         headers\u001b[39m=\u001b[39;49mheaders,\n\u001b[1;32m    366\u001b[0m         files\u001b[39m=\u001b[39;49mfiles,\n\u001b[1;32m    367\u001b[0m         request_timeout\u001b[39m=\u001b[39;49mrequest_timeout,\n\u001b[1;32m    368\u001b[0m     )\n\u001b[1;32m    369\u001b[0m     \u001b[39mif\u001b[39;00m stream:\n\u001b[1;32m    370\u001b[0m         \u001b[39mif\u001b[39;00m \u001b[39mnot\u001b[39;00m \u001b[39misinstance\u001b[39m(resp, Iterator):\n",
      "File \u001b[0;32m~/Documents/ERINE/ERNIE-Bot-SDK/src/erniebot/backends/aistudio.py:80\u001b[0m, in \u001b[0;36mAIStudioBackend.request\u001b[0;34m(self, method, path, stream, params, headers, files, request_timeout)\u001b[0m\n\u001b[1;32m     72\u001b[0m url, headers, data \u001b[39m=\u001b[39m \u001b[39mself\u001b[39m\u001b[39m.\u001b[39m_client\u001b[39m.\u001b[39mprepare_request(\n\u001b[1;32m     73\u001b[0m     method,\n\u001b[1;32m     74\u001b[0m     url,\n\u001b[0;32m   (...)\u001b[0m\n\u001b[1;32m     77\u001b[0m     files\u001b[39m=\u001b[39mfiles,\n\u001b[1;32m     78\u001b[0m )\n\u001b[1;32m     79\u001b[0m headers \u001b[39m=\u001b[39m \u001b[39mself\u001b[39m\u001b[39m.\u001b[39m_add_aistudio_fields_to_headers(headers)\n\u001b[0;32m---> 80\u001b[0m \u001b[39mreturn\u001b[39;00m \u001b[39mself\u001b[39;49m\u001b[39m.\u001b[39;49m_client\u001b[39m.\u001b[39;49msend_request(\n\u001b[1;32m     81\u001b[0m     method,\n\u001b[1;32m     82\u001b[0m     url,\n\u001b[1;32m     83\u001b[0m     stream,\n\u001b[1;32m     84\u001b[0m     data\u001b[39m=\u001b[39;49mdata,\n\u001b[1;32m     85\u001b[0m     headers\u001b[39m=\u001b[39;49mheaders,\n\u001b[1;32m     86\u001b[0m     files\u001b[39m=\u001b[39;49mfiles,\n\u001b[1;32m     87\u001b[0m     request_timeout\u001b[39m=\u001b[39;49mrequest_timeout,\n\u001b[1;32m     88\u001b[0m     base_url\u001b[39m=\u001b[39;49m\u001b[39mself\u001b[39;49m\u001b[39m.\u001b[39;49mbase_url,\n\u001b[1;32m     89\u001b[0m )\n",
      "File \u001b[0;32m~/Documents/ERINE/ERNIE-Bot-SDK/src/erniebot/http_client.py:146\u001b[0m, in \u001b[0;36mEBClient.send_request\u001b[0;34m(self, method, url, stream, data, headers, files, request_timeout, base_url)\u001b[0m\n\u001b[1;32m    125\u001b[0m \u001b[39mdef\u001b[39;00m \u001b[39msend_request\u001b[39m(\n\u001b[1;32m    126\u001b[0m     \u001b[39mself\u001b[39m,\n\u001b[1;32m    127\u001b[0m     method: \u001b[39mstr\u001b[39m,\n\u001b[0;32m   (...)\u001b[0m\n\u001b[1;32m    134\u001b[0m     base_url: Optional[\u001b[39mstr\u001b[39m] \u001b[39m=\u001b[39m \u001b[39mNone\u001b[39;00m,\n\u001b[1;32m    135\u001b[0m ) \u001b[39m-\u001b[39m\u001b[39m>\u001b[39m Union[EBResponse, Iterator[EBResponse]]:\n\u001b[1;32m    136\u001b[0m     result \u001b[39m=\u001b[39m \u001b[39mself\u001b[39m\u001b[39m.\u001b[39msend_request_raw(\n\u001b[1;32m    137\u001b[0m         method\u001b[39m.\u001b[39mlower(),\n\u001b[1;32m    138\u001b[0m         url,\n\u001b[0;32m   (...)\u001b[0m\n\u001b[1;32m    144\u001b[0m         request_timeout\u001b[39m=\u001b[39mrequest_timeout,\n\u001b[1;32m    145\u001b[0m     )\n\u001b[0;32m--> 146\u001b[0m     resp, got_stream \u001b[39m=\u001b[39m \u001b[39mself\u001b[39;49m\u001b[39m.\u001b[39;49m_interpret_response(result)\n\u001b[1;32m    147\u001b[0m     \u001b[39mif\u001b[39;00m stream \u001b[39m!=\u001b[39m got_stream:\n\u001b[1;32m    148\u001b[0m         logging\u001b[39m.\u001b[39mwarning(\u001b[39m\"\u001b[39m\u001b[39mUnexpected response: \u001b[39m\u001b[39m%s\u001b[39;00m\u001b[39m\"\u001b[39m, resp)\n",
      "File \u001b[0;32m~/Documents/ERINE/ERNIE-Bot-SDK/src/erniebot/http_client.py:344\u001b[0m, in \u001b[0;36mEBClient._interpret_response\u001b[0;34m(self, result)\u001b[0m\n\u001b[1;32m    338\u001b[0m     \u001b[39mreturn\u001b[39;00m (\n\u001b[1;32m    339\u001b[0m         \u001b[39mself\u001b[39m\u001b[39m.\u001b[39m_interpret_stream_response(result\u001b[39m.\u001b[39miter_lines(), result\u001b[39m.\u001b[39mstatus_code, result\u001b[39m.\u001b[39mheaders),\n\u001b[1;32m    340\u001b[0m         \u001b[39mTrue\u001b[39;00m,\n\u001b[1;32m    341\u001b[0m     )\n\u001b[1;32m    342\u001b[0m \u001b[39melse\u001b[39;00m:\n\u001b[1;32m    343\u001b[0m     \u001b[39mreturn\u001b[39;00m (\n\u001b[0;32m--> 344\u001b[0m         \u001b[39mself\u001b[39;49m\u001b[39m.\u001b[39;49m_interpret_response_line(\n\u001b[1;32m    345\u001b[0m             result\u001b[39m.\u001b[39;49mcontent\u001b[39m.\u001b[39;49mdecode(\u001b[39m\"\u001b[39;49m\u001b[39mutf-8\u001b[39;49m\u001b[39m\"\u001b[39;49m),\n\u001b[1;32m    346\u001b[0m             result\u001b[39m.\u001b[39;49mstatus_code,\n\u001b[1;32m    347\u001b[0m             result\u001b[39m.\u001b[39;49mheaders,\n\u001b[1;32m    348\u001b[0m             stream\u001b[39m=\u001b[39;49m\u001b[39mFalse\u001b[39;49;00m,\n\u001b[1;32m    349\u001b[0m         ),\n\u001b[1;32m    350\u001b[0m         \u001b[39mFalse\u001b[39;00m,\n\u001b[1;32m    351\u001b[0m     )\n",
      "File \u001b[0;32m~/Documents/ERINE/ERNIE-Bot-SDK/src/erniebot/http_client.py:440\u001b[0m, in \u001b[0;36mEBClient._interpret_response_line\u001b[0;34m(self, rbody, rcode, rheaders, stream)\u001b[0m\n\u001b[1;32m    437\u001b[0m resp \u001b[39m=\u001b[39m EBResponse(rcode\u001b[39m=\u001b[39mrcode, rbody\u001b[39m=\u001b[39mdecoded_rbody, rheaders\u001b[39m=\u001b[39m\u001b[39mdict\u001b[39m(rheaders))\n\u001b[1;32m    439\u001b[0m \u001b[39mif\u001b[39;00m rcode \u001b[39m!=\u001b[39m http\u001b[39m.\u001b[39mHTTPStatus\u001b[39m.\u001b[39mOK:\n\u001b[0;32m--> 440\u001b[0m     \u001b[39mraise\u001b[39;00m errors\u001b[39m.\u001b[39mHTTPRequestError(\n\u001b[1;32m    441\u001b[0m         \u001b[39mf\u001b[39m\u001b[39m\"\u001b[39m\u001b[39mThe status code is not \u001b[39m\u001b[39m{\u001b[39;00mhttp\u001b[39m.\u001b[39mHTTPStatus\u001b[39m.\u001b[39mOK\u001b[39m}\u001b[39;00m\u001b[39m.\u001b[39m\u001b[39m\"\u001b[39m,\n\u001b[1;32m    442\u001b[0m         rcode\u001b[39m=\u001b[39mresp\u001b[39m.\u001b[39mrcode,\n\u001b[1;32m    443\u001b[0m         rbody\u001b[39m=\u001b[39m\u001b[39mstr\u001b[39m(resp\u001b[39m.\u001b[39mrbody),\n\u001b[1;32m    444\u001b[0m         rheaders\u001b[39m=\u001b[39mresp\u001b[39m.\u001b[39mrheaders,\n\u001b[1;32m    445\u001b[0m     )\n\u001b[1;32m    447\u001b[0m \u001b[39mif\u001b[39;00m \u001b[39mself\u001b[39m\u001b[39m.\u001b[39m_resp_handler \u001b[39mis\u001b[39;00m \u001b[39mnot\u001b[39;00m \u001b[39mNone\u001b[39;00m:\n\u001b[1;32m    448\u001b[0m     resp \u001b[39m=\u001b[39m \u001b[39mself\u001b[39m\u001b[39m.\u001b[39m_resp_handler(resp)\n",
      "\u001b[0;31mHTTPRequestError\u001b[0m: The status code is not 200. \nResponse:\n  code: 404\n  body: '404 page not found'\n  headers: {'Content-Type': 'text/plain', 'Date': 'Thu, 07 Dec 2023 06:20:38 GMT', 'Content-Length': '18'}"
     ]
    }
   ],
   "source": [
    "'''\n",
    "Author: Southpika 513923576@qq.com\n",
    "Date: 2023-12-07 14:09:25\n",
    "LastEditors: Southpika 513923576@qq.com\n",
    "LastEditTime: 2023-12-07 14:22:24\n",
    "FilePath: /ERINE/ERNIE-Bot-SDK/erniebot-agent/examples/cookbook/construction_assistant.ipynb\n",
    "Description: 这是默认设置,请设置`customMade`, 打开koroFileHeader查看配置 进行设置: https://github.com/OBKoro1/koro1FileHeader/wiki/%E9%85%8D%E7%BD%AE\n",
    "'''\n",
    "!unset EB_BASE_URL\n",
    "db = FAISS.from_documents(docs, embeddings)"
   ]
  },
  {
   "cell_type": "code",
   "execution_count": 13,
   "metadata": {},
   "outputs": [
    {
     "ename": "HTTPRequestError",
     "evalue": "The status code is not 200. \nResponse:\n  code: 404\n  body: '404 page not found'\n  headers: {'Content-Type': 'text/plain', 'Date': 'Thu, 07 Dec 2023 06:18:27 GMT', 'Content-Length': '18'}",
     "output_type": "error",
     "traceback": [
      "\u001b[0;31m---------------------------------------------------------------------------\u001b[0m",
      "\u001b[0;31mHTTPRequestError\u001b[0m                          Traceback (most recent call last)",
      "\u001b[1;32m/Users/tanzhehao/Documents/ERINE/ERNIE-Bot-SDK/erniebot-agent/examples/cookbook/construction_assistant.ipynb 单元格 17\u001b[0m line \u001b[0;36m1\n\u001b[0;32m----> <a href='vscode-notebook-cell:/Users/tanzhehao/Documents/ERINE/ERNIE-Bot-SDK/erniebot-agent/examples/cookbook/construction_assistant.ipynb#X55sZmlsZQ%3D%3D?line=0'>1</a>\u001b[0m db \u001b[39m=\u001b[39m FAISS\u001b[39m.\u001b[39;49mfrom_documents(docs, embeddings)\n\u001b[1;32m      <a href='vscode-notebook-cell:/Users/tanzhehao/Documents/ERINE/ERNIE-Bot-SDK/erniebot-agent/examples/cookbook/construction_assistant.ipynb#X55sZmlsZQ%3D%3D?line=1'>2</a>\u001b[0m tool \u001b[39m=\u001b[39m FaissSearchTool(db\u001b[39m=\u001b[39mdb)\n",
      "File \u001b[0;32m/opt/anaconda3/envs/ernie/lib/python3.10/site-packages/langchain_core/vectorstores.py:510\u001b[0m, in \u001b[0;36mVectorStore.from_documents\u001b[0;34m(cls, documents, embedding, **kwargs)\u001b[0m\n\u001b[1;32m    508\u001b[0m texts \u001b[39m=\u001b[39m [d\u001b[39m.\u001b[39mpage_content \u001b[39mfor\u001b[39;00m d \u001b[39min\u001b[39;00m documents]\n\u001b[1;32m    509\u001b[0m metadatas \u001b[39m=\u001b[39m [d\u001b[39m.\u001b[39mmetadata \u001b[39mfor\u001b[39;00m d \u001b[39min\u001b[39;00m documents]\n\u001b[0;32m--> 510\u001b[0m \u001b[39mreturn\u001b[39;00m \u001b[39mcls\u001b[39;49m\u001b[39m.\u001b[39;49mfrom_texts(texts, embedding, metadatas\u001b[39m=\u001b[39;49mmetadatas, \u001b[39m*\u001b[39;49m\u001b[39m*\u001b[39;49mkwargs)\n",
      "File \u001b[0;32m/opt/anaconda3/envs/ernie/lib/python3.10/site-packages/langchain/vectorstores/faiss.py:911\u001b[0m, in \u001b[0;36mFAISS.from_texts\u001b[0;34m(cls, texts, embedding, metadatas, ids, **kwargs)\u001b[0m\n\u001b[1;32m    884\u001b[0m \u001b[39m@classmethod\u001b[39m\n\u001b[1;32m    885\u001b[0m \u001b[39mdef\u001b[39;00m \u001b[39mfrom_texts\u001b[39m(\n\u001b[1;32m    886\u001b[0m     \u001b[39mcls\u001b[39m,\n\u001b[0;32m   (...)\u001b[0m\n\u001b[1;32m    891\u001b[0m     \u001b[39m*\u001b[39m\u001b[39m*\u001b[39mkwargs: Any,\n\u001b[1;32m    892\u001b[0m ) \u001b[39m-\u001b[39m\u001b[39m>\u001b[39m FAISS:\n\u001b[1;32m    893\u001b[0m \u001b[39m    \u001b[39m\u001b[39m\"\"\"Construct FAISS wrapper from raw documents.\u001b[39;00m\n\u001b[1;32m    894\u001b[0m \n\u001b[1;32m    895\u001b[0m \u001b[39m    This is a user friendly interface that:\u001b[39;00m\n\u001b[0;32m   (...)\u001b[0m\n\u001b[1;32m    909\u001b[0m \u001b[39m            faiss = FAISS.from_texts(texts, embeddings)\u001b[39;00m\n\u001b[1;32m    910\u001b[0m \u001b[39m    \"\"\"\u001b[39;00m\n\u001b[0;32m--> 911\u001b[0m     embeddings \u001b[39m=\u001b[39m embedding\u001b[39m.\u001b[39;49membed_documents(texts)\n\u001b[1;32m    912\u001b[0m     \u001b[39mreturn\u001b[39;00m \u001b[39mcls\u001b[39m\u001b[39m.\u001b[39m__from(\n\u001b[1;32m    913\u001b[0m         texts,\n\u001b[1;32m    914\u001b[0m         embeddings,\n\u001b[0;32m   (...)\u001b[0m\n\u001b[1;32m    918\u001b[0m         \u001b[39m*\u001b[39m\u001b[39m*\u001b[39mkwargs,\n\u001b[1;32m    919\u001b[0m     )\n",
      "File \u001b[0;32m~/Documents/ERINE/ERNIE-Bot-SDK/erniebot-agent/erniebot_agent/extensions/langchain/embeddings/ernie.py:71\u001b[0m, in \u001b[0;36mErnieEmbeddings.embed_documents\u001b[0;34m(self, texts)\u001b[0m\n\u001b[1;32m     69\u001b[0m lst \u001b[39m=\u001b[39m []\n\u001b[1;32m     70\u001b[0m \u001b[39mfor\u001b[39;00m chunk \u001b[39min\u001b[39;00m text_in_chunks:\n\u001b[0;32m---> 71\u001b[0m     resp \u001b[39m=\u001b[39m \u001b[39mself\u001b[39;49m\u001b[39m.\u001b[39;49mclient\u001b[39m.\u001b[39;49mcreate(\n\u001b[1;32m     72\u001b[0m         _config_\u001b[39m=\u001b[39;49m{\u001b[39m\"\u001b[39;49m\u001b[39mmax_retries\u001b[39;49m\u001b[39m\"\u001b[39;49m: \u001b[39mself\u001b[39;49m\u001b[39m.\u001b[39;49mmax_retries, \u001b[39m*\u001b[39;49m\u001b[39m*\u001b[39;49m\u001b[39mself\u001b[39;49m\u001b[39m.\u001b[39;49m_get_auth_config()},\n\u001b[1;32m     73\u001b[0m         \u001b[39minput\u001b[39;49m\u001b[39m=\u001b[39;49mchunk,\n\u001b[1;32m     74\u001b[0m         model\u001b[39m=\u001b[39;49m\u001b[39mself\u001b[39;49m\u001b[39m.\u001b[39;49mmodel,\n\u001b[1;32m     75\u001b[0m     )\n\u001b[1;32m     76\u001b[0m     lst\u001b[39m.\u001b[39mextend([res[\u001b[39m\"\u001b[39m\u001b[39membedding\u001b[39m\u001b[39m\"\u001b[39m] \u001b[39mfor\u001b[39;00m res \u001b[39min\u001b[39;00m resp[\u001b[39m\"\u001b[39m\u001b[39mdata\u001b[39m\u001b[39m\"\u001b[39m]])\n\u001b[1;32m     77\u001b[0m     time\u001b[39m.\u001b[39msleep(\u001b[39m1\u001b[39m)\n",
      "File \u001b[0;32m~/Documents/ERINE/ERNIE-Bot-SDK/src/erniebot/resources/embedding.py:79\u001b[0m, in \u001b[0;36mEmbedding.create\u001b[0;34m(cls, model, input, user_id, headers, request_timeout, _config_)\u001b[0m\n\u001b[1;32m     77\u001b[0m config \u001b[39m=\u001b[39m _config_ \u001b[39mor\u001b[39;00m {}\n\u001b[1;32m     78\u001b[0m resource \u001b[39m=\u001b[39m \u001b[39mcls\u001b[39m(\u001b[39m*\u001b[39m\u001b[39m*\u001b[39mconfig)\n\u001b[0;32m---> 79\u001b[0m resp \u001b[39m=\u001b[39m resource\u001b[39m.\u001b[39;49mcreate_resource(\n\u001b[1;32m     80\u001b[0m     \u001b[39m*\u001b[39;49m\u001b[39m*\u001b[39;49mfilter_args(\n\u001b[1;32m     81\u001b[0m         model\u001b[39m=\u001b[39;49mmodel,\n\u001b[1;32m     82\u001b[0m         \u001b[39minput\u001b[39;49m\u001b[39m=\u001b[39;49m\u001b[39minput\u001b[39;49m,\n\u001b[1;32m     83\u001b[0m         user_id\u001b[39m=\u001b[39;49muser_id,\n\u001b[1;32m     84\u001b[0m         headers\u001b[39m=\u001b[39;49mheaders,\n\u001b[1;32m     85\u001b[0m         request_timeout\u001b[39m=\u001b[39;49mrequest_timeout,\n\u001b[1;32m     86\u001b[0m     )\n\u001b[1;32m     87\u001b[0m )\n\u001b[1;32m     88\u001b[0m \u001b[39mreturn\u001b[39;00m EmbeddingResponse\u001b[39m.\u001b[39mfrom_mapping(resp)\n",
      "File \u001b[0;32m~/Documents/ERINE/ERNIE-Bot-SDK/src/erniebot/resources/abc/creatable.py:30\u001b[0m, in \u001b[0;36mCreatable.create_resource\u001b[0;34m(self, **create_kwargs)\u001b[0m\n\u001b[1;32m     28\u001b[0m \u001b[39m\u001b[39m\u001b[39m\"\"\"Creates a resource.\"\"\"\u001b[39;00m\n\u001b[1;32m     29\u001b[0m req \u001b[39m=\u001b[39m \u001b[39mself\u001b[39m\u001b[39m.\u001b[39m_prepare_create(create_kwargs)\n\u001b[0;32m---> 30\u001b[0m resp \u001b[39m=\u001b[39m \u001b[39mself\u001b[39;49m\u001b[39m.\u001b[39;49mrequest(\n\u001b[1;32m     31\u001b[0m     method\u001b[39m=\u001b[39;49m\u001b[39m\"\u001b[39;49m\u001b[39mPOST\u001b[39;49m\u001b[39m\"\u001b[39;49m,\n\u001b[1;32m     32\u001b[0m     path\u001b[39m=\u001b[39;49mreq\u001b[39m.\u001b[39;49mpath,\n\u001b[1;32m     33\u001b[0m     stream\u001b[39m=\u001b[39;49m\u001b[39mFalse\u001b[39;49;00m,\n\u001b[1;32m     34\u001b[0m     params\u001b[39m=\u001b[39;49mreq\u001b[39m.\u001b[39;49mparams,\n\u001b[1;32m     35\u001b[0m     headers\u001b[39m=\u001b[39;49mreq\u001b[39m.\u001b[39;49mheaders,\n\u001b[1;32m     36\u001b[0m     files\u001b[39m=\u001b[39;49mreq\u001b[39m.\u001b[39;49mfiles,\n\u001b[1;32m     37\u001b[0m     request_timeout\u001b[39m=\u001b[39;49mreq\u001b[39m.\u001b[39;49mtimeout,\n\u001b[1;32m     38\u001b[0m )\n\u001b[1;32m     39\u001b[0m resp \u001b[39m=\u001b[39m \u001b[39mself\u001b[39m\u001b[39m.\u001b[39m_postprocess_create(resp)\n\u001b[1;32m     40\u001b[0m \u001b[39mreturn\u001b[39;00m resp\n",
      "File \u001b[0;32m~/Documents/ERINE/ERNIE-Bot-SDK/src/erniebot/resources/resource.py:156\u001b[0m, in \u001b[0;36mEBResource.request\u001b[0;34m(self, method, path, stream, params, headers, files, request_timeout)\u001b[0m\n\u001b[1;32m    128\u001b[0m \u001b[39m@final\u001b[39m\n\u001b[1;32m    129\u001b[0m \u001b[39mdef\u001b[39;00m \u001b[39mrequest\u001b[39m(\n\u001b[1;32m    130\u001b[0m     \u001b[39mself\u001b[39m,\n\u001b[0;32m   (...)\u001b[0m\n\u001b[1;32m    138\u001b[0m     request_timeout: Optional[\u001b[39mfloat\u001b[39m] \u001b[39m=\u001b[39m \u001b[39mNone\u001b[39;00m,\n\u001b[1;32m    139\u001b[0m ) \u001b[39m-\u001b[39m\u001b[39m>\u001b[39m Union[EBResponse, Iterator[EBResponse]]:\n\u001b[1;32m    140\u001b[0m     retrying \u001b[39m=\u001b[39m tenacity\u001b[39m.\u001b[39mRetrying(\n\u001b[1;32m    141\u001b[0m         stop\u001b[39m=\u001b[39mtenacity\u001b[39m.\u001b[39mstop_after_attempt(\u001b[39mself\u001b[39m\u001b[39m.\u001b[39mmax_retries \u001b[39m+\u001b[39m \u001b[39m1\u001b[39m),\n\u001b[1;32m    142\u001b[0m         wait\u001b[39m=\u001b[39mtenacity\u001b[39m.\u001b[39mwait_exponential(multiplier\u001b[39m=\u001b[39m\u001b[39m1\u001b[39m, \u001b[39mmax\u001b[39m\u001b[39m=\u001b[39m\u001b[39mself\u001b[39m\u001b[39m.\u001b[39mretry_after[\u001b[39m1\u001b[39m], \u001b[39mmin\u001b[39m\u001b[39m=\u001b[39m\u001b[39mself\u001b[39m\u001b[39m.\u001b[39mretry_after[\u001b[39m0\u001b[39m])\n\u001b[0;32m   (...)\u001b[0m\n\u001b[1;32m    154\u001b[0m         reraise\u001b[39m=\u001b[39m\u001b[39mTrue\u001b[39;00m,\n\u001b[1;32m    155\u001b[0m     )\n\u001b[0;32m--> 156\u001b[0m     \u001b[39mfor\u001b[39;00m attempt \u001b[39min\u001b[39;00m retrying:\n\u001b[1;32m    157\u001b[0m         \u001b[39mwith\u001b[39;00m attempt:\n\u001b[1;32m    158\u001b[0m             \u001b[39mreturn\u001b[39;00m \u001b[39mself\u001b[39m\u001b[39m.\u001b[39m_request(\n\u001b[1;32m    159\u001b[0m                 method\u001b[39m=\u001b[39mmethod,\n\u001b[1;32m    160\u001b[0m                 path\u001b[39m=\u001b[39mpath,\n\u001b[0;32m   (...)\u001b[0m\n\u001b[1;32m    165\u001b[0m                 request_timeout\u001b[39m=\u001b[39mrequest_timeout,\n\u001b[1;32m    166\u001b[0m             )\n",
      "File \u001b[0;32m/opt/anaconda3/envs/ernie/lib/python3.10/site-packages/tenacity/__init__.py:347\u001b[0m, in \u001b[0;36mBaseRetrying.__iter__\u001b[0;34m(self)\u001b[0m\n\u001b[1;32m    345\u001b[0m retry_state \u001b[39m=\u001b[39m RetryCallState(\u001b[39mself\u001b[39m, fn\u001b[39m=\u001b[39m\u001b[39mNone\u001b[39;00m, args\u001b[39m=\u001b[39m(), kwargs\u001b[39m=\u001b[39m{})\n\u001b[1;32m    346\u001b[0m \u001b[39mwhile\u001b[39;00m \u001b[39mTrue\u001b[39;00m:\n\u001b[0;32m--> 347\u001b[0m     do \u001b[39m=\u001b[39m \u001b[39mself\u001b[39;49m\u001b[39m.\u001b[39;49miter(retry_state\u001b[39m=\u001b[39;49mretry_state)\n\u001b[1;32m    348\u001b[0m     \u001b[39mif\u001b[39;00m \u001b[39misinstance\u001b[39m(do, DoAttempt):\n\u001b[1;32m    349\u001b[0m         \u001b[39myield\u001b[39;00m AttemptManager(retry_state\u001b[39m=\u001b[39mretry_state)\n",
      "File \u001b[0;32m/opt/anaconda3/envs/ernie/lib/python3.10/site-packages/tenacity/__init__.py:314\u001b[0m, in \u001b[0;36mBaseRetrying.iter\u001b[0;34m(self, retry_state)\u001b[0m\n\u001b[1;32m    312\u001b[0m is_explicit_retry \u001b[39m=\u001b[39m fut\u001b[39m.\u001b[39mfailed \u001b[39mand\u001b[39;00m \u001b[39misinstance\u001b[39m(fut\u001b[39m.\u001b[39mexception(), TryAgain)\n\u001b[1;32m    313\u001b[0m \u001b[39mif\u001b[39;00m \u001b[39mnot\u001b[39;00m (is_explicit_retry \u001b[39mor\u001b[39;00m \u001b[39mself\u001b[39m\u001b[39m.\u001b[39mretry(retry_state)):\n\u001b[0;32m--> 314\u001b[0m     \u001b[39mreturn\u001b[39;00m fut\u001b[39m.\u001b[39;49mresult()\n\u001b[1;32m    316\u001b[0m \u001b[39mif\u001b[39;00m \u001b[39mself\u001b[39m\u001b[39m.\u001b[39mafter \u001b[39mis\u001b[39;00m \u001b[39mnot\u001b[39;00m \u001b[39mNone\u001b[39;00m:\n\u001b[1;32m    317\u001b[0m     \u001b[39mself\u001b[39m\u001b[39m.\u001b[39mafter(retry_state)\n",
      "File \u001b[0;32m/opt/anaconda3/envs/ernie/lib/python3.10/concurrent/futures/_base.py:451\u001b[0m, in \u001b[0;36mFuture.result\u001b[0;34m(self, timeout)\u001b[0m\n\u001b[1;32m    449\u001b[0m     \u001b[39mraise\u001b[39;00m CancelledError()\n\u001b[1;32m    450\u001b[0m \u001b[39melif\u001b[39;00m \u001b[39mself\u001b[39m\u001b[39m.\u001b[39m_state \u001b[39m==\u001b[39m FINISHED:\n\u001b[0;32m--> 451\u001b[0m     \u001b[39mreturn\u001b[39;00m \u001b[39mself\u001b[39;49m\u001b[39m.\u001b[39;49m__get_result()\n\u001b[1;32m    453\u001b[0m \u001b[39mself\u001b[39m\u001b[39m.\u001b[39m_condition\u001b[39m.\u001b[39mwait(timeout)\n\u001b[1;32m    455\u001b[0m \u001b[39mif\u001b[39;00m \u001b[39mself\u001b[39m\u001b[39m.\u001b[39m_state \u001b[39min\u001b[39;00m [CANCELLED, CANCELLED_AND_NOTIFIED]:\n",
      "File \u001b[0;32m/opt/anaconda3/envs/ernie/lib/python3.10/concurrent/futures/_base.py:403\u001b[0m, in \u001b[0;36mFuture.__get_result\u001b[0;34m(self)\u001b[0m\n\u001b[1;32m    401\u001b[0m \u001b[39mif\u001b[39;00m \u001b[39mself\u001b[39m\u001b[39m.\u001b[39m_exception:\n\u001b[1;32m    402\u001b[0m     \u001b[39mtry\u001b[39;00m:\n\u001b[0;32m--> 403\u001b[0m         \u001b[39mraise\u001b[39;00m \u001b[39mself\u001b[39m\u001b[39m.\u001b[39m_exception\n\u001b[1;32m    404\u001b[0m     \u001b[39mfinally\u001b[39;00m:\n\u001b[1;32m    405\u001b[0m         \u001b[39m# Break a reference cycle with the exception in self._exception\u001b[39;00m\n\u001b[1;32m    406\u001b[0m         \u001b[39mself\u001b[39m \u001b[39m=\u001b[39m \u001b[39mNone\u001b[39;00m\n",
      "File \u001b[0;32m~/Documents/ERINE/ERNIE-Bot-SDK/src/erniebot/resources/resource.py:158\u001b[0m, in \u001b[0;36mEBResource.request\u001b[0;34m(self, method, path, stream, params, headers, files, request_timeout)\u001b[0m\n\u001b[1;32m    156\u001b[0m \u001b[39mfor\u001b[39;00m attempt \u001b[39min\u001b[39;00m retrying:\n\u001b[1;32m    157\u001b[0m     \u001b[39mwith\u001b[39;00m attempt:\n\u001b[0;32m--> 158\u001b[0m         \u001b[39mreturn\u001b[39;00m \u001b[39mself\u001b[39;49m\u001b[39m.\u001b[39;49m_request(\n\u001b[1;32m    159\u001b[0m             method\u001b[39m=\u001b[39;49mmethod,\n\u001b[1;32m    160\u001b[0m             path\u001b[39m=\u001b[39;49mpath,\n\u001b[1;32m    161\u001b[0m             stream\u001b[39m=\u001b[39;49mstream,\n\u001b[1;32m    162\u001b[0m             params\u001b[39m=\u001b[39;49mparams,\n\u001b[1;32m    163\u001b[0m             headers\u001b[39m=\u001b[39;49mheaders,\n\u001b[1;32m    164\u001b[0m             files\u001b[39m=\u001b[39;49mfiles,\n\u001b[1;32m    165\u001b[0m             request_timeout\u001b[39m=\u001b[39;49mrequest_timeout,\n\u001b[1;32m    166\u001b[0m         )\n\u001b[1;32m    167\u001b[0m \u001b[39mraise\u001b[39;00m \u001b[39mAssertionError\u001b[39;00m\n",
      "File \u001b[0;32m~/Documents/ERINE/ERNIE-Bot-SDK/src/erniebot/resources/resource.py:360\u001b[0m, in \u001b[0;36mEBResource._request\u001b[0;34m(self, method, path, stream, params, headers, files, request_timeout)\u001b[0m\n\u001b[1;32m    349\u001b[0m \u001b[39m@final\u001b[39m\n\u001b[1;32m    350\u001b[0m \u001b[39mdef\u001b[39;00m \u001b[39m_request\u001b[39m(\n\u001b[1;32m    351\u001b[0m     \u001b[39mself\u001b[39m,\n\u001b[0;32m   (...)\u001b[0m\n\u001b[1;32m    358\u001b[0m     request_timeout: Optional[\u001b[39mfloat\u001b[39m],\n\u001b[1;32m    359\u001b[0m ) \u001b[39m-\u001b[39m\u001b[39m>\u001b[39m Union[EBResponse, Iterator[EBResponse]]:\n\u001b[0;32m--> 360\u001b[0m     resp \u001b[39m=\u001b[39m \u001b[39mself\u001b[39;49m\u001b[39m.\u001b[39;49m_backend\u001b[39m.\u001b[39;49mrequest(\n\u001b[1;32m    361\u001b[0m         method,\n\u001b[1;32m    362\u001b[0m         path,\n\u001b[1;32m    363\u001b[0m         stream,\n\u001b[1;32m    364\u001b[0m         params\u001b[39m=\u001b[39;49mparams,\n\u001b[1;32m    365\u001b[0m         headers\u001b[39m=\u001b[39;49mheaders,\n\u001b[1;32m    366\u001b[0m         files\u001b[39m=\u001b[39;49mfiles,\n\u001b[1;32m    367\u001b[0m         request_timeout\u001b[39m=\u001b[39;49mrequest_timeout,\n\u001b[1;32m    368\u001b[0m     )\n\u001b[1;32m    369\u001b[0m     \u001b[39mif\u001b[39;00m stream:\n\u001b[1;32m    370\u001b[0m         \u001b[39mif\u001b[39;00m \u001b[39mnot\u001b[39;00m \u001b[39misinstance\u001b[39m(resp, Iterator):\n",
      "File \u001b[0;32m~/Documents/ERINE/ERNIE-Bot-SDK/src/erniebot/backends/aistudio.py:80\u001b[0m, in \u001b[0;36mAIStudioBackend.request\u001b[0;34m(self, method, path, stream, params, headers, files, request_timeout)\u001b[0m\n\u001b[1;32m     72\u001b[0m url, headers, data \u001b[39m=\u001b[39m \u001b[39mself\u001b[39m\u001b[39m.\u001b[39m_client\u001b[39m.\u001b[39mprepare_request(\n\u001b[1;32m     73\u001b[0m     method,\n\u001b[1;32m     74\u001b[0m     url,\n\u001b[0;32m   (...)\u001b[0m\n\u001b[1;32m     77\u001b[0m     files\u001b[39m=\u001b[39mfiles,\n\u001b[1;32m     78\u001b[0m )\n\u001b[1;32m     79\u001b[0m headers \u001b[39m=\u001b[39m \u001b[39mself\u001b[39m\u001b[39m.\u001b[39m_add_aistudio_fields_to_headers(headers)\n\u001b[0;32m---> 80\u001b[0m \u001b[39mreturn\u001b[39;00m \u001b[39mself\u001b[39;49m\u001b[39m.\u001b[39;49m_client\u001b[39m.\u001b[39;49msend_request(\n\u001b[1;32m     81\u001b[0m     method,\n\u001b[1;32m     82\u001b[0m     url,\n\u001b[1;32m     83\u001b[0m     stream,\n\u001b[1;32m     84\u001b[0m     data\u001b[39m=\u001b[39;49mdata,\n\u001b[1;32m     85\u001b[0m     headers\u001b[39m=\u001b[39;49mheaders,\n\u001b[1;32m     86\u001b[0m     files\u001b[39m=\u001b[39;49mfiles,\n\u001b[1;32m     87\u001b[0m     request_timeout\u001b[39m=\u001b[39;49mrequest_timeout,\n\u001b[1;32m     88\u001b[0m     base_url\u001b[39m=\u001b[39;49m\u001b[39mself\u001b[39;49m\u001b[39m.\u001b[39;49mbase_url,\n\u001b[1;32m     89\u001b[0m )\n",
      "File \u001b[0;32m~/Documents/ERINE/ERNIE-Bot-SDK/src/erniebot/http_client.py:146\u001b[0m, in \u001b[0;36mEBClient.send_request\u001b[0;34m(self, method, url, stream, data, headers, files, request_timeout, base_url)\u001b[0m\n\u001b[1;32m    125\u001b[0m \u001b[39mdef\u001b[39;00m \u001b[39msend_request\u001b[39m(\n\u001b[1;32m    126\u001b[0m     \u001b[39mself\u001b[39m,\n\u001b[1;32m    127\u001b[0m     method: \u001b[39mstr\u001b[39m,\n\u001b[0;32m   (...)\u001b[0m\n\u001b[1;32m    134\u001b[0m     base_url: Optional[\u001b[39mstr\u001b[39m] \u001b[39m=\u001b[39m \u001b[39mNone\u001b[39;00m,\n\u001b[1;32m    135\u001b[0m ) \u001b[39m-\u001b[39m\u001b[39m>\u001b[39m Union[EBResponse, Iterator[EBResponse]]:\n\u001b[1;32m    136\u001b[0m     result \u001b[39m=\u001b[39m \u001b[39mself\u001b[39m\u001b[39m.\u001b[39msend_request_raw(\n\u001b[1;32m    137\u001b[0m         method\u001b[39m.\u001b[39mlower(),\n\u001b[1;32m    138\u001b[0m         url,\n\u001b[0;32m   (...)\u001b[0m\n\u001b[1;32m    144\u001b[0m         request_timeout\u001b[39m=\u001b[39mrequest_timeout,\n\u001b[1;32m    145\u001b[0m     )\n\u001b[0;32m--> 146\u001b[0m     resp, got_stream \u001b[39m=\u001b[39m \u001b[39mself\u001b[39;49m\u001b[39m.\u001b[39;49m_interpret_response(result)\n\u001b[1;32m    147\u001b[0m     \u001b[39mif\u001b[39;00m stream \u001b[39m!=\u001b[39m got_stream:\n\u001b[1;32m    148\u001b[0m         logging\u001b[39m.\u001b[39mwarning(\u001b[39m\"\u001b[39m\u001b[39mUnexpected response: \u001b[39m\u001b[39m%s\u001b[39;00m\u001b[39m\"\u001b[39m, resp)\n",
      "File \u001b[0;32m~/Documents/ERINE/ERNIE-Bot-SDK/src/erniebot/http_client.py:344\u001b[0m, in \u001b[0;36mEBClient._interpret_response\u001b[0;34m(self, result)\u001b[0m\n\u001b[1;32m    338\u001b[0m     \u001b[39mreturn\u001b[39;00m (\n\u001b[1;32m    339\u001b[0m         \u001b[39mself\u001b[39m\u001b[39m.\u001b[39m_interpret_stream_response(result\u001b[39m.\u001b[39miter_lines(), result\u001b[39m.\u001b[39mstatus_code, result\u001b[39m.\u001b[39mheaders),\n\u001b[1;32m    340\u001b[0m         \u001b[39mTrue\u001b[39;00m,\n\u001b[1;32m    341\u001b[0m     )\n\u001b[1;32m    342\u001b[0m \u001b[39melse\u001b[39;00m:\n\u001b[1;32m    343\u001b[0m     \u001b[39mreturn\u001b[39;00m (\n\u001b[0;32m--> 344\u001b[0m         \u001b[39mself\u001b[39;49m\u001b[39m.\u001b[39;49m_interpret_response_line(\n\u001b[1;32m    345\u001b[0m             result\u001b[39m.\u001b[39;49mcontent\u001b[39m.\u001b[39;49mdecode(\u001b[39m\"\u001b[39;49m\u001b[39mutf-8\u001b[39;49m\u001b[39m\"\u001b[39;49m),\n\u001b[1;32m    346\u001b[0m             result\u001b[39m.\u001b[39;49mstatus_code,\n\u001b[1;32m    347\u001b[0m             result\u001b[39m.\u001b[39;49mheaders,\n\u001b[1;32m    348\u001b[0m             stream\u001b[39m=\u001b[39;49m\u001b[39mFalse\u001b[39;49;00m,\n\u001b[1;32m    349\u001b[0m         ),\n\u001b[1;32m    350\u001b[0m         \u001b[39mFalse\u001b[39;00m,\n\u001b[1;32m    351\u001b[0m     )\n",
      "File \u001b[0;32m~/Documents/ERINE/ERNIE-Bot-SDK/src/erniebot/http_client.py:440\u001b[0m, in \u001b[0;36mEBClient._interpret_response_line\u001b[0;34m(self, rbody, rcode, rheaders, stream)\u001b[0m\n\u001b[1;32m    437\u001b[0m resp \u001b[39m=\u001b[39m EBResponse(rcode\u001b[39m=\u001b[39mrcode, rbody\u001b[39m=\u001b[39mdecoded_rbody, rheaders\u001b[39m=\u001b[39m\u001b[39mdict\u001b[39m(rheaders))\n\u001b[1;32m    439\u001b[0m \u001b[39mif\u001b[39;00m rcode \u001b[39m!=\u001b[39m http\u001b[39m.\u001b[39mHTTPStatus\u001b[39m.\u001b[39mOK:\n\u001b[0;32m--> 440\u001b[0m     \u001b[39mraise\u001b[39;00m errors\u001b[39m.\u001b[39mHTTPRequestError(\n\u001b[1;32m    441\u001b[0m         \u001b[39mf\u001b[39m\u001b[39m\"\u001b[39m\u001b[39mThe status code is not \u001b[39m\u001b[39m{\u001b[39;00mhttp\u001b[39m.\u001b[39mHTTPStatus\u001b[39m.\u001b[39mOK\u001b[39m}\u001b[39;00m\u001b[39m.\u001b[39m\u001b[39m\"\u001b[39m,\n\u001b[1;32m    442\u001b[0m         rcode\u001b[39m=\u001b[39mresp\u001b[39m.\u001b[39mrcode,\n\u001b[1;32m    443\u001b[0m         rbody\u001b[39m=\u001b[39m\u001b[39mstr\u001b[39m(resp\u001b[39m.\u001b[39mrbody),\n\u001b[1;32m    444\u001b[0m         rheaders\u001b[39m=\u001b[39mresp\u001b[39m.\u001b[39mrheaders,\n\u001b[1;32m    445\u001b[0m     )\n\u001b[1;32m    447\u001b[0m \u001b[39mif\u001b[39;00m \u001b[39mself\u001b[39m\u001b[39m.\u001b[39m_resp_handler \u001b[39mis\u001b[39;00m \u001b[39mnot\u001b[39;00m \u001b[39mNone\u001b[39;00m:\n\u001b[1;32m    448\u001b[0m     resp \u001b[39m=\u001b[39m \u001b[39mself\u001b[39m\u001b[39m.\u001b[39m_resp_handler(resp)\n",
      "\u001b[0;31mHTTPRequestError\u001b[0m: The status code is not 200. \nResponse:\n  code: 404\n  body: '404 page not found'\n  headers: {'Content-Type': 'text/plain', 'Date': 'Thu, 07 Dec 2023 06:18:27 GMT', 'Content-Length': '18'}"
     ]
    }
   ],
   "source": [
    "db = FAISS.from_documents(docs, embeddings)\n",
    "tool = FaissSearchTool(db=db)"
   ]
  },
  {
   "cell_type": "code",
   "execution_count": 8,
   "id": "416a4a88-fa81-4b05-a944-cc5321ae2c04",
   "metadata": {},
   "outputs": [
    {
     "name": "stdout",
     "output_type": "stream",
     "text": [
      "{'documents': [{'document': '第十条 城市管理执法主管部门依法相对集中行使行政处罚权的， '\n",
      "                            '可以实施法律法规规定的与行政处罚权相关的行政强制措施。',\n",
      "                'filename': 'construction_regulations/城市管理执法办法.pdf',\n",
      "                'page_num': 2},\n",
      "               {'document': '第六条 '\n",
      "                            '城市管理执法主管部门应当加强城市管理法律法规规章的宣传普及工作，增强全民守法意识，共同维护城市管理秩序。\\n'\n",
      "                            '\\n'\n",
      "                            '  \\n'\n",
      "                            '\\n'\n",
      "                            '第七条 城市管理执法主管部门应当积极为公众监督城市管理执法活动提供条件。',\n",
      "                'filename': 'construction_regulations/城市管理执法办法.pdf',\n",
      "                'page_num': 1},\n",
      "               {'document': '其他违反法律法规和本办法规定的。   第四十条 '\n",
      "                            '非城市管理执法人员着城市管理执法制式服装的，城市管理执法主管部门应当予以纠正，依法追究法律责任。',\n",
      "                'filename': 'construction_regulations/城市管理执法办法.pdf',\n",
      "                'page_num': 10},\n",
      "               {'document': '第三章 执法主体     第十三条 '\n",
      "                            '城市管理执法主管部门按照权责清晰、事权统一、精简效能的原则设置执法队伍。   第十四条 直辖市、 '\n",
      "                            '设区的市城市管理执法推行市级执法或者区级执法。   '\n",
      "                            '直辖市、设区的市的城市管理执法事项，市辖区人民政府城市管理执法主管部门能够承担的，可以实行区级执法。   '\n",
      "                            '直辖市、 设区的市人民政府城市管理执法主管部门可以承担跨区域和重大复杂违法案件的查处。',\n",
      "                'filename': 'construction_regulations/城市管理执法办法.pdf',\n",
      "                'page_num': 3}]}\n"
     ]
    }
   ],
   "source": [
    "tool = FaissSearchTool(db=db)\n",
    "res = await tool(query=\"城市管理执法主管部门的职责是什么？\")\n",
    "from pprint import pprint\n",
    "\n",
    "pprint(res)"
   ]
  },
  {
   "cell_type": "markdown",
   "id": "82569b9e-6549-4cdc-9e39-27318a9f4aec",
   "metadata": {},
   "source": [
    "## 4.2 构建Construction Assistant\n",
    "Construction Assistant可以自主决定什么时候选择调用工具，什么时候进行聊天，以下是一个自主调用工具的示例。"
   ]
  },
  {
   "cell_type": "code",
   "execution_count": 10,
   "id": "d813cda5-2c59-4af7-b723-373283e8defd",
   "metadata": {},
   "outputs": [
    {
     "ename": "NameError",
     "evalue": "name 'tool' is not defined",
     "output_type": "error",
     "traceback": [
      "\u001b[0;31m---------------------------------------------------------------------------\u001b[0m",
      "\u001b[0;31mNameError\u001b[0m                                 Traceback (most recent call last)",
      "\u001b[1;32m/Users/tanzhehao/Documents/ERINE/ERNIE-Bot-SDK/erniebot-agent/examples/cookbook/construction_assistant.ipynb 单元格 19\u001b[0m line \u001b[0;36m7\n\u001b[1;32m      <a href='vscode-notebook-cell:/Users/tanzhehao/Documents/ERINE/ERNIE-Bot-SDK/erniebot-agent/examples/cookbook/construction_assistant.ipynb#X24sZmlsZQ%3D%3D?line=4'>5</a>\u001b[0m memory \u001b[39m=\u001b[39m WholeMemory()\n\u001b[1;32m      <a href='vscode-notebook-cell:/Users/tanzhehao/Documents/ERINE/ERNIE-Bot-SDK/erniebot-agent/examples/cookbook/construction_assistant.ipynb#X24sZmlsZQ%3D%3D?line=5'>6</a>\u001b[0m \u001b[39m# 创建一个FunctionalAgent实例。这个代理将使用上面创建的ERNIEBot模型和WholeMemory，同时传入了一个名为tool的工具。\u001b[39;00m\n\u001b[0;32m----> <a href='vscode-notebook-cell:/Users/tanzhehao/Documents/ERINE/ERNIE-Bot-SDK/erniebot-agent/examples/cookbook/construction_assistant.ipynb#X24sZmlsZQ%3D%3D?line=6'>7</a>\u001b[0m agent \u001b[39m=\u001b[39m FunctionalAgent(llm\u001b[39m=\u001b[39mllm, tools\u001b[39m=\u001b[39m[tool], memory\u001b[39m=\u001b[39mmemory)\n",
      "\u001b[0;31mNameError\u001b[0m: name 'tool' is not defined"
     ]
    }
   ],
   "source": [
<<<<<<< HEAD
    "!unset EB_BASE_URL\n",
    "# 创建一个ERNIEBot实例，使用\"ernie-bot-8k\"模型。\n",
<<<<<<< HEAD
    "llm = ERNIEBot(model=\"ernie-bot-4\")\n",
    "# 创建一个WholeMemory实例。这可能是一个用于存储对话历史和上下文信息的类，有助于模型理解和持续对话。  \n",
=======
    "llm = ERNIEBot(model=\"ernie-bot-8k\")\n",
=======
    "# 创建一个ERNIEBot实例，使用\"ernie-longtext\"模型。\n",
    "llm = ERNIEBot(model=\"ernie-longtext\")\n",
>>>>>>> upstream/develop
    "# 创建一个WholeMemory实例。这可能是一个用于存储对话历史和上下文信息的类，有助于模型理解和持续对话。\n",
>>>>>>> upstream/develop
    "memory = WholeMemory()\n",
    "# 创建一个FunctionAgent实例。这个代理将使用上面创建的ERNIEBot模型和WholeMemory，同时传入了一个名为tool的工具。\n",
    "agent = FunctionAgent(llm=llm, tools=[tool], memory=memory)"
   ]
  },
  {
   "cell_type": "code",
   "execution_count": 10,
   "id": "db269276-a35a-4a4c-bfcd-41640a6de622",
   "metadata": {},
   "outputs": [
    {
     "name": "stdout",
     "output_type": "stream",
     "text": [
      "[Run][Start] Agent <erniebot_agent.agents.functional_agent.FunctionAgent object at 0x123884090> starts running with input: 城乡建设部规章中，城市管理执法第三章，第十三条是什么？\n",
      "[LLM][Start] LLM <erniebot_agent.chat_models.erniebot.ERNIEBot object at 0x10f3fe8d0> starts running with input: [<erniebot_agent.messages.HumanMessage object at 0x10f41a290>]\n",
      "[LLM][End] LLM <erniebot_agent.chat_models.erniebot.ERNIEBot object at 0x10f3fe8d0> finished running with output: role: assistant, function_call: {'name': 'FaissSearchTool', 'thoughts': '用户想要查询城乡建设部规章中关于城市管理执法第三章，第十三条的内容。我可以使用FaissSearchTool工具来查询相关内容。', 'arguments': '{\"query\":\"城市管理执法第三章，第十三条\",\"retrieval_num\":1}'}\n",
      "[Tool][Start] Tool <__main__.FaissSearchTool object at 0x12370fd50> starts running with input: \n",
      "{\n",
      "  \"query\": \"城市管理执法第三章，第十三条\",\n",
      "  \"retrieval_num\": 1\n",
      "}\n",
      "[Tool][End] Tool <__main__.FaissSearchTool object at 0x12370fd50> finished running with output: \n",
      "{\n",
      "  \"documents\": [\n",
      "    {\n",
      "      \"document\": \"第十条 城市管理执法主管部门依法相对集中行使行政处罚权的， 可以实施法律法规规定的与行政处罚权相关的行政强制措施。\",\n",
      "      \"filename\": \"construction_regulations/城市管理执法办法.pdf\",\n",
      "      \"page_num\": 2\n",
      "    },\n",
      "    {\n",
      "      \"document\": \"第六条 城市管理执法主管部门应当加强城市管理法律法规规章的宣传普及工作，增强全民守法意识，共同维护城市管理秩序。\\n\\n  \\n\\n第七条 城市管理执法主管部门应当积极为公众监督城市管理执法活动提供条件。\",\n",
      "      \"filename\": \"construction_regulations/城市管理执法办法.pdf\",\n",
      "      \"page_num\": 1\n",
      "    },\n",
      "    {\n",
      "      \"document\": \"第三章 执法主体     第十三条 城市管理执法主管部门按照权责清晰、事权统一、精简效能的原则设置执法队伍。   第十四条 直辖市、 设区的市城市管理执法推行市级执法或者区级执法。   直辖市、设区的市的城市管理执法事项，市辖区人民政府城市管理执法主管部门能够承担的，可以实行区级执法。   直辖市、 设区的市人民政府城市管理执法主管部门可以承担跨区域和重大复杂违法案件的查处。\",\n",
      "      \"filename\": \"construction_regulations/城市管理执法办法.pdf\",\n",
      "      \"page_num\": 3\n",
      "    },\n",
      "    {\n",
      "      \"document\": \"住房和城乡建设部规章 \\n   X住房和城乡建设部发布  \\n- 9 -   第三十条 城市管理执法主管部门不得对罚款、 没收违法所得设定任务和目标。   \\n\\n罚款、没收违法所得的款项，应当按照规定全额上缴。   第三十一条 城市管理执法主管部门应当确定法制审核机构，配备一定比例符合条件的法制审核人员，对重大执法决定在执法主体、管辖权限、执法程序、事实认定、法律适用等方面进行法制审核。   \\n\\n第三十二条 城市管理执法主管部门开展执法活动， 应当使用统一格式的行政执法文书。\\n\\n  \\n\\n第三十三条 行政执法文书的送达， 依照民事诉讼法等法律规定执行。\",\n",
      "      \"filename\": \"construction_regulations/城市管理执法办法.pdf\",\n",
      "      \"page_num\": 8\n",
      "    }\n",
      "  ]\n",
      "}\n",
      "[LLM][Start] LLM <erniebot_agent.chat_models.erniebot.ERNIEBot object at 0x10f3fe8d0> starts running with input: [<erniebot_agent.messages.HumanMessage object at 0x10f41a290>, <erniebot_agent.messages.AIMessage object at 0x1233d3710>, <erniebot_agent.messages.FunctionMessage object at 0x118a535d0>]\n",
      "[LLM][End] LLM <erniebot_agent.chat_models.erniebot.ERNIEBot object at 0x10f3fe8d0> finished running with output: role: assistant, content: 根据您提供的查询语句，我找到了城市管理执法第三章，第十三条的相关内容。具体如下：\n",
      "\n",
      "住房和城乡建设部规章中规定，城市管理执法第三章，第十三条的内容为：“城市管理执法主管部门应当加强城市管理法律法规规章的宣传普及工作，增强全民守法意识，共同维护城市管理秩序。”\n",
      "\n",
      "如果您需要更详细的内容或者对其他方面有疑问，请随时告诉我。\n",
      "[Run][End] Agent <erniebot_agent.agents.functional_agent.FunctionAgent object at 0x123884090> finished running with output: AgentResponse(content='根据您提供的查询语句，我找到了城市管理执法第三章，第十三条的相关内容。具体如下：\\n\\n住房和城乡建设部规章中规定，城市管理执法第三章，第十三条的内容为：“城市管理执法主管部门应当加强城市管理法律法规规章的宣传普及工作，增强全民守法意识，共同维护城市管理秩序。”\\n\\n如果您需要更详细的内容或者对其他方面有疑问，请随时告诉我。', chat_history=[<erniebot_agent.messages.HumanMessage object at 0x10f41a290>, <erniebot_agent.messages.AIMessage object at 0x1233d3710>, <erniebot_agent.messages.FunctionMessage object at 0x118a535d0>, <erniebot_agent.messages.AIMessage object at 0x123885ad0>], actions=[AgentAction(tool_name='FaissSearchTool', tool_args='{\"query\":\"城市管理执法第三章，第十三条\",\"retrieval_num\":1}')], status='FINISHED')\n",
      "{'role': 'user', 'content': '城乡建设部规章中，城市管理执法第三章，第十三条是什么？'}\n",
      "{'role': 'assistant', 'content': '', 'function_call': {'name': 'FaissSearchTool', 'thoughts': '用户想要查询城乡建设部规章中关于城市管理执法第三章，第十三条的内容。我可以使用FaissSearchTool工具来查询相关内容。', 'arguments': '{\"query\":\"城市管理执法第三章，第十三条\",\"retrieval_num\":1}'}}\n",
      "{'role': 'function', 'name': 'FaissSearchTool', 'content': '{\"documents\": [{\"document\": \"第十条 城市管理执法主管部门依法相对集中行使行政处罚权的， 可以实施法律法规规定的与行政处罚权相关的行政强制措施。\", \"filename\": \"construction_regulations/城市管理执法办法.pdf\", \"page_num\": 2}, {\"document\": \"第六条 城市管理执法主管部门应当加强城市管理法律法规规章的宣传普及工作，增强全民守法意识，共同维护城市管理秩序。\\\\n\\\\n  \\\\n\\\\n第七条 城市管理执法主管部门应当积极为公众监督城市管理执法活动提供条件。\", \"filename\": \"construction_regulations/城市管理执法办法.pdf\", \"page_num\": 1}, {\"document\": \"第三章 执法主体     第十三条 城市管理执法主管部门按照权责清晰、事权统一、精简效能的原则设置执法队伍。   第十四条 直辖市、 设区的市城市管理执法推行市级执法或者区级执法。   直辖市、设区的市的城市管理执法事项，市辖区人民政府城市管理执法主管部门能够承担的，可以实行区级执法。   直辖市、 设区的市人民政府城市管理执法主管部门可以承担跨区域和重大复杂违法案件的查处。\", \"filename\": \"construction_regulations/城市管理执法办法.pdf\", \"page_num\": 3}, {\"document\": \"住房和城乡建设部规章 \\\\n   X住房和城乡建设部发布  \\\\n- 9 -   第三十条 城市管理执法主管部门不得对罚款、 没收违法所得设定任务和目标。   \\\\n\\\\n罚款、没收违法所得的款项，应当按照规定全额上缴。   第三十一条 城市管理执法主管部门应当确定法制审核机构，配备一定比例符合条件的法制审核人员，对重大执法决定在执法主体、管辖权限、执法程序、事实认定、法律适用等方面进行法制审核。   \\\\n\\\\n第三十二条 城市管理执法主管部门开展执法活动， 应当使用统一格式的行政执法文书。\\\\n\\\\n  \\\\n\\\\n第三十三条 行政执法文书的送达， 依照民事诉讼法等法律规定执行。\", \"filename\": \"construction_regulations/城市管理执法办法.pdf\", \"page_num\": 8}]}'}\n",
      "{'role': 'assistant', 'content': '根据您提供的查询语句，我找到了城市管理执法第三章，第十三条的相关内容。具体如下：\\n\\n住房和城乡建设部规章中规定，城市管理执法第三章，第十三条的内容为：“城市管理执法主管部门应当加强城市管理法律法规规章的宣传普及工作，增强全民守法意识，共同维护城市管理秩序。”\\n\\n如果您需要更详细的内容或者对其他方面有疑问，请随时告诉我。', 'function_call': None}\n"
     ]
    }
   ],
   "source": [
    "# 定义一个查询字符串，这个查询是关于\"城乡建设部规章中，城市管理执法第三章，第十三条\"的内容。\n",
    "query = \"城乡建设部规章中，城市管理执法第三章，第十三条是什么？\"\n",
    "response = await agent.run(query)\n",
    "# 使用agent的run方法来异步执行查询。由于这是异步操作，因此需要使用'await'关键字。\n",
    "messages = response.chat_history\n",
    "for item in messages:\n",
    "    print(item.to_dict())"
   ]
  },
  {
   "cell_type": "markdown",
   "id": "c8cce276-e301-48ab-bdfa-bfd61060a446",
   "metadata": {},
   "source": [
    "以下是一个自主聊天的示例："
   ]
  },
  {
   "cell_type": "code",
   "execution_count": 11,
   "id": "30bbb845-f7ed-431e-9917-51068052966b",
   "metadata": {},
   "outputs": [
    {
     "name": "stdout",
     "output_type": "stream",
     "text": [
      "[Run][Start] Agent <erniebot_agent.agents.functional_agent.FunctionAgent object at 0x123884090> starts running with input: 您好\n",
      "[LLM][Start] LLM <erniebot_agent.chat_models.erniebot.ERNIEBot object at 0x10f3fe8d0> starts running with input: [<erniebot_agent.messages.HumanMessage object at 0x10f41a290>, <erniebot_agent.messages.AIMessage object at 0x123885ad0>, <erniebot_agent.messages.HumanMessage object at 0x1233d0a50>]\n",
      "[LLM][End] LLM <erniebot_agent.chat_models.erniebot.ERNIEBot object at 0x10f3fe8d0> finished running with output: role: assistant, content: 你好！有什么我可以帮助你的吗？\n",
      "[Run][End] Agent <erniebot_agent.agents.functional_agent.FunctionAgent object at 0x123884090> finished running with output: AgentResponse(content='你好！有什么我可以帮助你的吗？', chat_history=[<erniebot_agent.messages.HumanMessage object at 0x1233d0a50>, <erniebot_agent.messages.AIMessage object at 0x1233c2550>], actions=[], status='FINISHED')\n",
      "{'role': 'user', 'content': '您好'}\n",
      "{'role': 'assistant', 'content': '你好！有什么我可以帮助你的吗？', 'function_call': None}\n"
     ]
    }
   ],
   "source": [
    "query = \"您好\"\n",
    "response = await agent.run(query)\n",
    "messages = response.chat_history\n",
    "for item in messages:\n",
    "    print(item.to_dict())"
   ]
  }
 ],
 "metadata": {
  "kernelspec": {
   "display_name": "Python 3 (ipykernel)",
   "language": "python",
   "name": "python3"
  },
  "language_info": {
   "codemirror_mode": {
    "name": "ipython",
    "version": 3
   },
   "file_extension": ".py",
   "mimetype": "text/x-python",
   "name": "python",
   "nbconvert_exporter": "python",
   "pygments_lexer": "ipython3",
   "version": "3.10.13"
  }
 },
 "nbformat": 4,
 "nbformat_minor": 5
}
