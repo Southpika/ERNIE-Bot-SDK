{
 "cells": [
  {
   "cell_type": "code",
   "execution_count": 3,
   "metadata": {},
   "outputs": [],
   "source": [
    "instruction = \"\"\"你的指令是为我提供一个基于《仙剑奇侠传》剧情的在线RPG游戏体验。在这个游戏中，玩家将扮演《仙剑奇侠传》剧情关键角色，游戏情景将基于《仙剑奇侠传》剧情。这个游戏的玩法是互动式的，并遵循以下特定格式：\n",
    "\n",
    "<场景描述>：根据玩家的选择，故事情节将按照《仙剑奇侠传》剧情的线索发展。你将描述角色所处的环境和情况。\n",
    "\n",
    "<场景图片>：对于每个场景，你将创造一个概括该情况的图像。这些图像的风格将类似于1980年代RPG游戏对话，16:9宽屏比例。在这个步骤你需要调用画图工具。\n",
    "\n",
    "<选择>：在每次互动中，你将为玩家提供三个行动选项，分别标为1、2、3，以及第四个选项“输入玩家自定义的选择”。故事情节将根据玩家选择的行动进展。如果一个选择不是直接来自《仙剑奇侠传》剧情，你将创造性地适应故事，最终引导它回归原始情节。\n",
    "\n",
    "整个故事将围绕金《仙剑奇侠传》丰富而复杂的世界展开。每次互动必须包括<场景描述>、<场景图片>和<选择>。所有内容将以中文呈现。你的重点将仅仅放在提供场景描述，场景图片和选择上，不包含其他游戏指导。场景尽量不要重复，要丰富一些。\n",
    "\n",
    "当我说游戏开始的时候，开始游戏。当我说重新开始的时候，则重新开始整个游戏。\"\"\""
   ]
  },
  {
   "cell_type": "code",
   "execution_count": 2,
   "metadata": {},
   "outputs": [
    {
     "name": "stdout",
     "output_type": "stream",
     "text": [
      "你的指令是为我提供一个基于《仙剑奇侠传》剧情的在线RPG游戏体验。在这个游戏中，玩家将扮演《仙剑奇侠传》剧情关键角色，你可以自行决定玩家的角色。游戏情景将基于《仙剑奇侠传》剧情。这个游戏的玩法是互动式的，并遵循以下特定格式：\n",
      "\n",
      "<场景描述>：根据玩家的选择，故事情节将按照《仙剑奇侠传》剧情的线索发展。你将描述角色所处的环境和情况。剧情发展请尽量快，场景描述不少于30字。\n",
      "\n",
      "<场景图片>：对于每个场景，你将创造一个概括该情况的图像。在这个步骤你需要调用画图工具ImageGenerationTool。ImageGenerationTool的入参为根据场景描述总结的图片内容，请按json的格式输出：\n",
      "```json\n",
      "{\n",
      "    'tool_name':'ImageGenerationTool',\n",
      "    'tool_args':'{\"prompt\":query}'\n",
      "}\n",
      "```\n",
      "\n",
      "<选择>：在每次互动中，你将为玩家提供三个行动选项，分别标为1、2、3，以及第四个选项“输入玩家自定义的选择”。故事情节将根据玩家选择的行动进展。如果一个选择不是直接来自《仙剑奇侠传》剧情，你将创造性地适应故事，最终引导它回归原始情节。\n",
      "\n",
      "整个故事将围绕《仙剑奇侠传》丰富而复杂的世界展开。每次互动必须包括<场景描述>、<场景图片>和<选择>。所有内容将以中文呈现。你的重点将仅仅放在提供场景描述，场景图片和选择上，不包含其他游戏指导。场景尽量不要重复，要丰富一些。\n",
      "\n",
      "当我说游戏开始的时候，开始游戏。每次只要输出【一组】互动，【不要自己生成互动】。\n"
     ]
    }
   ],
   "source": [
    "INSTRUCTION = \"\"\"你的指令是为我提供一个基于《{SCRIPT}》剧情的在线RPG游戏体验。\\\n",
    "在这个游戏中，玩家将扮演《{SCRIPT}》剧情关键角色，你可以自行决定玩家的角色。\\\n",
    "游戏情景将基于《{SCRIPT}》剧情。这个游戏的玩法是互动式的，并遵循以下特定格式：\n",
    "\n",
    "<场景描述>：根据玩家的选择，故事情节将按照《{SCRIPT}》剧情的线索发展。你将描述角色所处的环境和情况。剧情发展请尽量快，场景描述不少于30字。\n",
    "\n",
    "<场景图片>：对于每个场景，你将创造一个概括该情况的图像。在这个步骤你需要调用画图工具ImageGenerationTool。\\\n",
    "ImageGenerationTool的入参为根据场景描述总结的图片内容，请按json的格式输出：\n",
    "```json\n",
    "{{\n",
    "    'tool_name':'ImageGenerationTool',\n",
    "    'tool_args':'{{\"prompt\":query}}'\n",
    "}}\n",
    "```\n",
    "\n",
    "<选择>：在每次互动中，你将为玩家提供三个行动选项，分别标为1、2、3，以及第四个选项“输入玩家自定义的选择”。故事情节将根据玩家选择的行动进展。\\\n",
    "如果一个选择不是直接来自《{SCRIPT}》剧情，你将创造性地适应故事，最终引导它回归原始情节。\n",
    "\n",
    "整个故事将围绕《{SCRIPT}》丰富而复杂的世界展开。每次互动必须包括<场景描述>、<场景图片>和<选择>。所有内容将以中文呈现。\\\n",
    "你的重点将仅仅放在提供场景描述，场景图片和选择上，不包含其他游戏指导。场景尽量不要重复，要丰富一些。\n",
    "\n",
    "当我说游戏开始的时候，开始游戏。每次只要输出【一组】互动，【不要自己生成互动】。\"\"\"\n",
    "\n",
    "print(INSTRUCTION.format(SCRIPT=\"仙剑奇侠传\"))"
   ]
  },
  {
   "cell_type": "code",
   "execution_count": 3,
   "metadata": {},
   "outputs": [],
   "source": [
    "import erniebot\n",
    "import os\n",
    "\n",
    "erniebot.api_type = 'aistudio'\n",
    "erniebot.access_token = os.environ['EB_ACCESS_TOKEN']"
   ]
  },
  {
   "cell_type": "code",
   "execution_count": 5,
   "metadata": {},
   "outputs": [
    {
     "name": "stdout",
     "output_type": "stream",
     "text": [
      "【场景描述】\n",
      "\n",
      "故事开始于一个宁静的村庄，玩家扮演的李逍遥正在村中闲逛。突然，一名神秘女子出现在他面前，引发了一系列的事件。\n",
      "\n",
      "【场景图片】\n",
      "\n",
      "```json\n",
      "{\n",
      "    'tool_name':'ImageGenerationTool',\n",
      "    'tool_args':'{\"prompt\":\"一个古代村庄的场景，李逍遥在村中闲逛，一名神秘女子出现在他面前\"}'\n",
      "}\n",
      "```\n",
      "\n",
      "【选择】\n",
      "\n",
      "1. 上前与神秘女子交谈。\n",
      "2. 忽略神秘女子，继续闲逛。\n",
      "3. 回到家中询问村民关于神秘女子的事。\n",
      "4. 输入玩家自定义的选择。\n"
     ]
    }
   ],
   "source": [
    "print(erniebot.ChatCompletion.create(\n",
    "    model='ernie-bot-4',\n",
    "    messages=[{\"role\": \"user\", \"content\":'开始游戏'}],\n",
    "    system=INSTRUCTION.format(SCRIPT=\"仙剑奇侠传\")    \n",
    ").get_result())"
   ]
  },
  {
   "cell_type": "code",
   "execution_count": 4,
   "metadata": {},
   "outputs": [],
   "source": [
    "import os\n",
    "os.environ['EB_ACCESS_TOKEN'] = '7d109d14c26a3e0e5a01f841927c30331ad07e62'"
   ]
  },
  {
   "cell_type": "code",
   "execution_count": 3,
   "metadata": {},
   "outputs": [
    {
     "data": {
      "text/plain": [
       "'/Users/tanzhehao'"
      ]
     },
     "execution_count": 3,
     "metadata": {},
     "output_type": "execute_result"
    }
   ],
   "source": [
    "os.environ.get('HOME')"
   ]
  },
  {
   "cell_type": "code",
   "execution_count": 3,
   "metadata": {},
   "outputs": [
    {
     "data": {
      "text/plain": [
       "environ{'COMMAND_MODE': 'unix2003',\n",
       "        'CONDA_DEFAULT_ENV': 'ernie',\n",
       "        'CONDA_EXE': '/opt/anaconda3/bin/conda',\n",
       "        'CONDA_PREFIX': '/opt/anaconda3/envs/ernie',\n",
       "        'CONDA_PROMPT_MODIFIER': '(ernie) ',\n",
       "        'CONDA_PYTHON_EXE': '/opt/anaconda3/bin/python',\n",
       "        'CONDA_SHLVL': '2',\n",
       "        'EB_ACCESS_TOKEN': 'd86186382de8cceb4512efbd774b74ea72f3a9f5',\n",
       "        'HOME': '/Users/tanzhehao',\n",
       "        'LOGNAME': 'tanzhehao',\n",
       "        'LaunchInstanceID': '7173F93E-900D-43E6-9B57-6C1F3E306E03',\n",
       "        'MallocNanoZone': '0',\n",
       "        'OLDPWD': '/',\n",
       "        'ORIGINAL_XDG_CURRENT_DESKTOP': 'undefined',\n",
       "        'PATH': '/opt/anaconda3/envs/ernie/bin:/opt/anaconda3/condabin:/usr/local/bin:/System/Cryptexes/App/usr/bin:/usr/bin:/bin:/usr/sbin:/sbin:/var/run/com.apple.security.cryptexd/codex.system/bootstrap/usr/local/bin:/var/run/com.apple.security.cryptexd/codex.system/bootstrap/usr/bin:/var/run/com.apple.security.cryptexd/codex.system/bootstrap/usr/appleinternal/bin',\n",
       "        'PWD': '/',\n",
       "        'SECURITYSESSIONID': '186a4',\n",
       "        'SHELL': '/bin/zsh',\n",
       "        'SHLVL': '2',\n",
       "        'SSH_AUTH_SOCK': '/private/tmp/com.apple.launchd.TcdiDKmaZm/Listeners',\n",
       "        'TMPDIR': '/var/folders/gw/lbw__qt16dl3sdh_5cgv_jl00000gn/T/',\n",
       "        'USER': 'tanzhehao',\n",
       "        'VSCODE_AMD_ENTRYPOINT': 'vs/workbench/api/node/extensionHostProcess',\n",
       "        'VSCODE_CODE_CACHE_PATH': '/Users/tanzhehao/Library/Application Support/Code/CachedData/d037ac076cee195194f93ce6fe2bdfe2969cc82d',\n",
       "        'VSCODE_CRASH_REPORTER_PROCESS_TYPE': 'extensionHost',\n",
       "        'VSCODE_CWD': '/',\n",
       "        'VSCODE_HANDLES_UNCAUGHT_ERRORS': 'true',\n",
       "        'VSCODE_IPC_HOOK': '/Users/tanzhehao/Library/Application Support/Code/1.84-main.sock',\n",
       "        'VSCODE_NLS_CONFIG': '{\"locale\":\"zh-cn\",\"osLocale\":\"zh-cn\",\"availableLanguages\":{\"*\":\"zh-cn\"},\"_languagePackId\":\"7b3b4bbe44b5870ce6cf5ac70d2b1a12.zh-cn\",\"_translationsConfigFile\":\"/Users/tanzhehao/Library/Application Support/Code/clp/7b3b4bbe44b5870ce6cf5ac70d2b1a12.zh-cn/tcf.json\",\"_cacheRoot\":\"/Users/tanzhehao/Library/Application Support/Code/clp/7b3b4bbe44b5870ce6cf5ac70d2b1a12.zh-cn\",\"_resolvedLanguagePackCoreLocation\":\"/Users/tanzhehao/Library/Application Support/Code/clp/7b3b4bbe44b5870ce6cf5ac70d2b1a12.zh-cn/d037ac076cee195194f93ce6fe2bdfe2969cc82d\",\"_corruptedFile\":\"/Users/tanzhehao/Library/Application Support/Code/clp/7b3b4bbe44b5870ce6cf5ac70d2b1a12.zh-cn/corrupted.info\",\"_languagePackSupport\":true}',\n",
       "        'VSCODE_PID': '484',\n",
       "        'XPC_FLAGS': '0x0',\n",
       "        'XPC_SERVICE_NAME': '0',\n",
       "        '_': '/opt/anaconda3/envs/ernie/bin/python',\n",
       "        '__CFBundleIdentifier': 'com.microsoft.VSCode',\n",
       "        '__CF_USER_TEXT_ENCODING': '0x1F5:0x19:0x34',\n",
       "        'ELECTRON_RUN_AS_NODE': '1',\n",
       "        'VSCODE_L10N_BUNDLE_LOCATION': 'file:///Users/tanzhehao/.vscode/extensions/ms-ceintl.vscode-language-pack-zh-hans-1.84.2023111509/translations/extensions/vscode.json-language-features.i18n.json',\n",
       "        'PYTHONUNBUFFERED': '1',\n",
       "        'PYTHONIOENCODING': 'utf-8',\n",
       "        '_CE_CONDA': '',\n",
       "        'CONDA_PREFIX_1': '/opt/anaconda3',\n",
       "        'CONDA_ROOT': '/opt/anaconda3',\n",
       "        '_CE_M': '',\n",
       "        'LC_CTYPE': 'UTF-8',\n",
       "        'PYDEVD_IPYTHON_COMPATIBLE_DEBUGGING': '1',\n",
       "        'PYDEVD_USE_FRAME_EVAL': 'NO',\n",
       "        'TERM': 'xterm-color',\n",
       "        'CLICOLOR': '1',\n",
       "        'FORCE_COLOR': '1',\n",
       "        'CLICOLOR_FORCE': '1',\n",
       "        'PAGER': 'cat',\n",
       "        'GIT_PAGER': 'cat',\n",
       "        'MPLBACKEND': 'module://matplotlib_inline.backend_inline'}"
      ]
     },
     "execution_count": 3,
     "metadata": {},
     "output_type": "execute_result"
    }
   ],
   "source": [
    "import os\n",
    "os.environ"
   ]
  },
  {
   "cell_type": "code",
   "execution_count": 4,
   "metadata": {},
   "outputs": [
    {
     "data": {
      "text/plain": [
       "'d86186382de8cceb4512efbd774b74ea72f3a9f5'"
      ]
     },
     "execution_count": 4,
     "metadata": {},
     "output_type": "execute_result"
    }
   ],
   "source": [
    "os.environ['EB_ACCESS_TOKEN']"
   ]
  },
  {
   "cell_type": "code",
   "execution_count": 2,
   "metadata": {},
   "outputs": [
    {
     "data": {
      "text/plain": [
       "environ{'COMMAND_MODE': 'unix2003',\n",
       "        'CONDA_DEFAULT_ENV': 'ernie',\n",
       "        'CONDA_EXE': '/opt/anaconda3/bin/conda',\n",
       "        'CONDA_PREFIX': '/opt/anaconda3/envs/ernie',\n",
       "        'CONDA_PROMPT_MODIFIER': '(ernie) ',\n",
       "        'CONDA_PYTHON_EXE': '/opt/anaconda3/bin/python',\n",
       "        'CONDA_SHLVL': '2',\n",
       "        'EB_ACCESS_TOKEN': 'd86186382de8cceb4512efbd774b74ea72f3a9f5',\n",
       "        'HOME': '/Users/tanzhehao',\n",
       "        'LOGNAME': 'tanzhehao',\n",
       "        'LaunchInstanceID': '7173F93E-900D-43E6-9B57-6C1F3E306E03',\n",
       "        'MallocNanoZone': '0',\n",
       "        'OLDPWD': '/',\n",
       "        'ORIGINAL_XDG_CURRENT_DESKTOP': 'undefined',\n",
       "        'PATH': '/opt/anaconda3/envs/ernie/bin:/opt/anaconda3/condabin:/usr/local/bin:/System/Cryptexes/App/usr/bin:/usr/bin:/bin:/usr/sbin:/sbin:/var/run/com.apple.security.cryptexd/codex.system/bootstrap/usr/local/bin:/var/run/com.apple.security.cryptexd/codex.system/bootstrap/usr/bin:/var/run/com.apple.security.cryptexd/codex.system/bootstrap/usr/appleinternal/bin',\n",
       "        'PWD': '/',\n",
       "        'SECURITYSESSIONID': '186a4',\n",
       "        'SHELL': '/bin/zsh',\n",
       "        'SHLVL': '2',\n",
       "        'SSH_AUTH_SOCK': '/private/tmp/com.apple.launchd.TcdiDKmaZm/Listeners',\n",
       "        'TMPDIR': '/var/folders/gw/lbw__qt16dl3sdh_5cgv_jl00000gn/T/',\n",
       "        'USER': 'tanzhehao',\n",
       "        'VSCODE_AMD_ENTRYPOINT': 'vs/workbench/api/node/extensionHostProcess',\n",
       "        'VSCODE_CODE_CACHE_PATH': '/Users/tanzhehao/Library/Application Support/Code/CachedData/d037ac076cee195194f93ce6fe2bdfe2969cc82d',\n",
       "        'VSCODE_CRASH_REPORTER_PROCESS_TYPE': 'extensionHost',\n",
       "        'VSCODE_CWD': '/',\n",
       "        'VSCODE_HANDLES_UNCAUGHT_ERRORS': 'true',\n",
       "        'VSCODE_IPC_HOOK': '/Users/tanzhehao/Library/Application Support/Code/1.84-main.sock',\n",
       "        'VSCODE_NLS_CONFIG': '{\"locale\":\"zh-cn\",\"osLocale\":\"zh-cn\",\"availableLanguages\":{\"*\":\"zh-cn\"},\"_languagePackId\":\"7b3b4bbe44b5870ce6cf5ac70d2b1a12.zh-cn\",\"_translationsConfigFile\":\"/Users/tanzhehao/Library/Application Support/Code/clp/7b3b4bbe44b5870ce6cf5ac70d2b1a12.zh-cn/tcf.json\",\"_cacheRoot\":\"/Users/tanzhehao/Library/Application Support/Code/clp/7b3b4bbe44b5870ce6cf5ac70d2b1a12.zh-cn\",\"_resolvedLanguagePackCoreLocation\":\"/Users/tanzhehao/Library/Application Support/Code/clp/7b3b4bbe44b5870ce6cf5ac70d2b1a12.zh-cn/d037ac076cee195194f93ce6fe2bdfe2969cc82d\",\"_corruptedFile\":\"/Users/tanzhehao/Library/Application Support/Code/clp/7b3b4bbe44b5870ce6cf5ac70d2b1a12.zh-cn/corrupted.info\",\"_languagePackSupport\":true}',\n",
       "        'VSCODE_PID': '484',\n",
       "        'XPC_FLAGS': '0x0',\n",
       "        'XPC_SERVICE_NAME': '0',\n",
       "        '_': '/opt/anaconda3/envs/ernie/bin/python',\n",
       "        '__CFBundleIdentifier': 'com.microsoft.VSCode',\n",
       "        '__CF_USER_TEXT_ENCODING': '0x1F5:0x19:0x34',\n",
       "        'ELECTRON_RUN_AS_NODE': '1',\n",
       "        'VSCODE_L10N_BUNDLE_LOCATION': 'file:///Users/tanzhehao/.vscode/extensions/ms-ceintl.vscode-language-pack-zh-hans-1.84.2023111509/translations/extensions/vscode.json-language-features.i18n.json',\n",
       "        'PYTHONUNBUFFERED': '1',\n",
       "        'PYTHONIOENCODING': 'utf-8',\n",
       "        '_CE_CONDA': '',\n",
       "        'CONDA_PREFIX_1': '/opt/anaconda3',\n",
       "        'CONDA_ROOT': '/opt/anaconda3',\n",
       "        '_CE_M': '',\n",
       "        'LC_CTYPE': 'UTF-8',\n",
       "        'PYDEVD_IPYTHON_COMPATIBLE_DEBUGGING': '1',\n",
       "        'PYDEVD_USE_FRAME_EVAL': 'NO',\n",
       "        'TERM': 'xterm-color',\n",
       "        'CLICOLOR': '1',\n",
       "        'FORCE_COLOR': '1',\n",
       "        'CLICOLOR_FORCE': '1',\n",
       "        'PAGER': 'cat',\n",
       "        'GIT_PAGER': 'cat',\n",
       "        'MPLBACKEND': 'module://matplotlib_inline.backend_inline'}"
      ]
     },
     "execution_count": 2,
     "metadata": {},
     "output_type": "execute_result"
    }
   ],
   "source": [
    "import os\n",
    "os.environ"
   ]
  },
  {
   "cell_type": "code",
   "execution_count": null,
   "metadata": {},
   "outputs": [],
   "source": []
  },
  {
   "cell_type": "code",
   "execution_count": 1,
   "metadata": {},
   "outputs": [],
   "source": [
    "import os\n",
    "from typing import Optional, List, Type, Dict\n",
    "from pydantic import BaseModel, Field\n",
    "from langchain.text_splitter import SpacyTextSplitter\n",
    "from langchain.vectorstores import FAISS\n",
    "from langchain.document_loaders import TextLoader\n",
    "\n",
    "from erniebot_agent.extensions.langchain.embeddings import ErnieEmbeddings\n",
    "from erniebot_agent.tools.base import Tool, ToolParameterView\n",
    "from erniebot_agent.agents.functional_agent import FunctionalAgent\n",
    "from erniebot_agent.memory.whole_memory import WholeMemory\n",
    "from erniebot_agent.chat_models.erniebot import ERNIEBot\n",
    "from erniebot_agent.messages import AIMessage, HumanMessage, Message\n",
    "import erniebot\n",
    "\n",
    "class SearchToolInputView(ToolParameterView):\n",
    "    query: str = Field(description='用于检索故事情节的语句')\n",
    "\n",
    "class SearchResponseDocument(ToolParameterView):\n",
    "    document: str = Field(description=\"和query相关的故事情节片段\")\n",
    "\n",
    "class SearchToolOutputView(ToolParameterView):\n",
    "    documents: List[SearchResponseDocument] = Field(description=\"检索结果，内容为故事剧情中和query相关的情节片段\")\n",
    "\n",
    "\n",
    "class SearchTool(Tool):\n",
    "    description: str = \"在故事情节中找到与用户输入最相关的片段\"\n",
    "    input_type: Type[ToolParameterView] = SearchToolInputView\n",
    "    ouptut_type: Type[ToolParameterView] = SearchToolOutputView\n",
    "\n",
    "    def __init__(self, db):\n",
    "        self.db = db\n",
    "\n",
    "    async def __call__(self, query: str) -> Dict[str, float]:\n",
    "        docs = self.db.similarity_search(query)\n",
    "        retrieval_results = []\n",
    "        for doc in docs:\n",
    "            retrieval_results.append(\n",
    "                dict(SearchResponseDocument(\n",
    "                    document=doc.page_content,\n",
    "                    filename=doc.metadata[\"source\"],\n",
    "                ))\n",
    "            )\n",
    "        return {\"documents\": retrieval_results}\n",
    "\n",
    "    @property\n",
    "    def examples(self) -> List[Message]:\n",
    "        return [\n",
    "                HumanMessage(\"开始游戏\"),\n",
    "                AIMessage(\n",
    "                    \"\",\n",
    "                    function_call={\n",
    "                        \"name\": self.tool_name,\n",
    "                        \"thoughts\": f\"用户选择开始游戏，使用{self.tool_name}工具检索第一章相关的信息，检索的query：'第一回'。\",\n",
    "                        \"arguments\": '{\"query\": \"第一回\"}',\n",
    "                    },\n",
    "                )\n",
    "            ]\n",
    "\n"
   ]
  },
  {
   "cell_type": "code",
   "execution_count": 2,
   "metadata": {},
   "outputs": [],
   "source": [
    "import platform,sys\n",
    "from IPython.display import clear_output as clear\n",
    "from typing import List\n",
    "import asyncio\n",
    "\n",
    "def _clear_screen():\n",
    "    os.system(\"cls\" if platform.system() == \"Windows\" else \"clear\")\n",
    "    if 'ipykernel' in sys.modules:\n",
    "        clear()\n",
    "\n",
    "class RPGGame:\n",
    "    def __init__(self, model: str, script: str, access_token: str = None) -> None:\n",
    "        self.model = model\n",
    "        self.script = script\n",
    "        self.chat_history = [\n",
    "            {\"role\": \"user\", \"content\": INSTRUCTION.format(SCRIPT=self.script)},\n",
    "            {\"role\": \"assistant\", \"content\": f\"好的，我将为你提供《{self.script}》沉浸式图文RPG场景体验。\"},\n",
    "        ]\n",
    "\n",
    "        erniebot.api_type = \"aistudio\"\n",
    "        erniebot.access_token = os.getenv(\"EB_ACCESS_TOKEN\") if not access_token else access_token\n",
    "\n",
    "    def chat(self, query: str) -> str:\n",
    "        \"Use this function to chat with ERNIE BOT\"\n",
    "\n",
    "        self.chat_history.append({\"role\": \"user\", \"content\": query})\n",
    "        response = erniebot.ChatCompletion.create(\n",
    "            model=self.model,\n",
    "            messages=self.chat_history,\n",
    "            system=f\"你是《{self.script}》沉浸式图文RPG场景助手，能够生成图文剧情，并给出玩家选项，整个故事将围绕《{self.script}》丰富而复杂的世界展开。每次互动必须包括<场景描述>、<场景图片>和<选择>。\",\n",
    "        )\n",
    "        self.chat_history.append({\"role\": \"assistant\", \"content\": response.get_result()})\n",
    "        return response.get_result()\n",
    "\n",
    "    def chat_stream(self, query: str) -> None:\n",
    "        \"Use this function to chat with ERNIE BOT\"\n",
    "        self.chat_history.append({\"role\": \"user\", \"content\": query})\n",
    "        response = erniebot.ChatCompletion.create(model=self.model, messages=self.chat_history, stream=True)\n",
    "        result = \"\"\n",
    "\n",
    "        for resp in response:\n",
    "            result += resp.get_result()\n",
    "            yield result\n",
    "            # _clear_screen()\n",
    "            # print(result, flush=True)\n",
    "            \n",
    "        self.chat_history.append({\"role\": \"assistant\", \"content\": result})\n",
    "\n",
    "    def clear(self) -> None:\n",
    "        self.chat_history = [\n",
    "            {\"role\": \"user\", \"content\": INSTRUCTION.format(SCRIPT=self.script)},\n",
    "            {\"role\": \"assistant\", \"content\": f\"好的，我将为你提供《{self.script}》沉浸式图文RPG场景体验。\"},\n",
    "        ]\n",
    "\n",
    "    def lauch_gradio(self) -> None:\n",
    "        import gradio as gr\n",
    "\n",
    "        with gr.Blocks() as demo:\n",
    "            context_chatbot = gr.Chatbot(label=\"对话历史\", height=600)\n",
    "            input_text = gr.Textbox(label=\"消息内容\", placeholder=\"请输入...\")\n",
    "\n",
    "            with gr.Row():\n",
    "                start_buttton = gr.Button(\"开始游戏\")\n",
    "                remake_buttton = gr.Button(\"重新开始\")\n",
    "\n",
    "            remake_buttton.click(self.clear)\n",
    "            start_buttton.click(self._gradio_chat, start_buttton, [input_text, context_chatbot])\n",
    "            input_text.submit(self._gradio_chat, input_text, [input_text, context_chatbot])\n",
    "\n",
    "        demo.launch()\n",
    "\n",
    "    def _gradio_chat(self, query: str) -> tuple[str, List[tuple[str, str]]]:\n",
    "        self.chat(query)\n",
    "        history = []\n",
    "\n",
    "        for i in range(2, len(self.chat_history), 2):\n",
    "            history.append((self.chat_history[i][\"content\"], self.chat_history[i + 1][\"content\"]))\n",
    "\n",
    "        return \"\", history\n",
    "                \n",
    "        \n",
    "\n",
    "        "
   ]
  },
  {
   "cell_type": "code",
   "execution_count": 6,
   "metadata": {},
   "outputs": [],
   "source": [
    "my_bot = RPGGame(model='ernie-bot-4', script='射雕英雄传')\n",
    "# print(my_bot.chat(\n",
    "# \"\"\"\n",
    "# 开始游戏。\n",
    "# 你可以参考以下第一章的情节：\n",
    "# ```\n",
    "# 第一回 风雪惊变    \t\t\n",
    "\n",
    "#     钱塘江浩浩江水，日日夜夜无穷无休的从临安牛家村边绕过，东流入海。江畔一排数十\n",
    "\n",
    "#     株乌柏树，叶子似火烧般红，正是八月天时。村前村后的野草刚起始变黄，一抹斜阳映照之\n",
    "\n",
    "#     下，更增了几分萧索。两株大松树下围着一堆村民，男男女女和十几个小孩，正自聚精会神\n",
    "\n",
    "#     的听着一个瘦削的老者说话。那说话人五十来岁年纪，一件青布长袍早洗得褪成了蓝灰色。\n",
    "\n",
    "#     只听他两片梨花木板碰了几下，左手中竹棒在一面小羯鼓上敲起得得连声。唱道：\n",
    "\n",
    "#     “小桃无主自开花，烟草茫茫带晚鸦。几处败垣围故井，向来一一是人家。”\n",
    "\n",
    "#     那说话人将木板敲了几下，说道：“这首七言诗，说的是兵火过后，原来的家家户户，\n",
    "\n",
    "#     都变成了断墙残瓦的破败之地。小人刚才说到那叶老汉一家四口，悲欢离合，聚了又散，散\n",
    "\n",
    "#     了又聚。他四人给金兵冲散，好容易又再团聚，欢天喜地的回到故乡，却见房屋已给金兵烧\n",
    "\n",
    "#     得干干净净，无可奈何，只得去到汴梁，想觅个生计。不料想：天有不测风云，人有旦夕祸\n",
    "\n",
    "#     福。他四人刚进汴梁城，迎面便过来一队金兵。带兵的头儿一双三角眼觑将过去，见那叶三\n",
    "\n",
    "#     姐生得美貌，跳下马来，当即一把抱住，哈哈大笑，便将她放上了马鞍，说道：‘小姑娘，\n",
    "\n",
    "#     跟我回家，服侍老爷。’那叶三姐如何肯从？拚命挣扎。那金兵长官喝道：‘你不肯从我，\n",
    "\n",
    "#     便杀了你的父母兄弟！’提起狼牙棒，一棒打在那叶三郎的头上，登时脑浆迸裂，一命鸣\n",
    "\n",
    "#     呼。正是：\n",
    "\n",
    "#     阴世新添枉死鬼，阳间不见少年人！\n",
    "# ```\n",
    "# \"\"\"\n",
    "# ))"
   ]
  },
  {
   "cell_type": "code",
   "execution_count": 9,
   "metadata": {},
   "outputs": [
    {
     "name": "stdout",
     "output_type": "stream",
     "text": [
      "**场景描述**：\n",
      "\n",
      "你选择了在村民中间坐下，靠近了那一堆篝火。火焰在晚风中跳跃，温暖了周围的人们。老者的声音逐渐变得低沉，他的双眼透过火光，仿佛看到了那些遥远的过往。村民们也都默默无声，仿佛沉浸在这故事之中，与叶老汉一家的命运共同起伏。\n",
      "\n",
      "**场景图片**：\n",
      "\n",
      "[图片描述：在16:9的宽屏画面中，篝火位于画面中心，火光映衬着老者与村民们的脸庞，他们的表情都显得专注而沉静。远处的钱塘江在夜色中微微泛着光，天空中的星星点缀在黑暗中，增添了一丝凄美。]\n",
      "\n",
      "**选择**：\n",
      "\n",
      "1. 打断老者的讲述，询问关于叶家子女后来的情况。\n",
      "2. 静静地听老者继续讲述叶老汉一家与金兵的遭遇。\n",
      "3. 向周围的村民询问他们自己的故事，了解金兵入侵后的生活变化。\n",
      "4. 输入玩家自定义的选择。\n",
      "\n",
      "请做出你的选择。\n"
     ]
    }
   ],
   "source": [
    "print(my_bot.chat('2'))"
   ]
  },
  {
   "cell_type": "code",
   "execution_count": 12,
   "metadata": {},
   "outputs": [
    {
     "name": "stdout",
     "output_type": "stream",
     "text": [
      "**场景描述**：\n",
      "你选择了向路过的弟子询问江湖情报。你走向一个看起来面善的弟子，向他询问了关于江湖的事情。他热情地告诉你一些初入江湖的注意事项，并指向了一个方向，告诉你那里是新手弟子们获取任务的地方。\n",
      "\n",
      "**场景图片**：\n",
      "[此处应插入一张与弟子对话的图片，背景中可以看到其他弟子在修炼和交谈。]\n",
      "\n",
      "**选择**：\n",
      "\n",
      "1. 感谢弟子，然后前往新手任务发布地。\n",
      "2. 继续向其他弟子询问，获取更多情报。\n",
      "3. 直接前往山庄大殿，找庄主获取任务。\n",
      "4. 输入玩家自定义的选择。\n",
      "\n",
      "你接下来打算怎么做？\n"
     ]
    }
   ],
   "source": [
    "print(my_bot.chat('1'))"
   ]
  },
  {
   "cell_type": "code",
   "execution_count": 13,
   "metadata": {},
   "outputs": [
    {
     "name": "stdout",
     "output_type": "stream",
     "text": [
      "**场景描述**：\n",
      "你决定直接前往山庄大殿，找庄主获取任务。你穿过了繁华的山庄，来到了威严的大殿前。大殿的门户敞开，庄主正端坐在殿内，气势威严，身边还有几位长老在商议事情。\n",
      "\n",
      "**场景图片**：\n",
      "[此处应插入一张山庄大殿的内部图片，庄主和长老们围坐在一起，背景中透露出庄重的气氛。]\n",
      "\n",
      "**选择**：\n",
      "\n",
      "1. 走进大殿，向庄主和长老们行礼，表示想要接受任务。\n",
      "2. 站在大殿门口等待，直到庄主和长老们商议完毕。\n",
      "3. 转身离开，先去完成其他事情，稍后再来大殿。\n",
      "4. 输入玩家自定义的选择。\n",
      "\n",
      "请玩家作出选择。\n"
     ]
    }
   ],
   "source": [
    "print(my_bot.chat('3'))"
   ]
  },
  {
   "cell_type": "code",
   "execution_count": 7,
   "metadata": {},
   "outputs": [
    {
     "data": {
      "text/plain": [
       "[{'role': 'user',\n",
       "  'content': '你的指令是为我提供一个基于《射雕英雄传》剧情的在线RPG游戏体验。在这个游戏中，玩家将扮演《射雕英雄传》剧情关键角色，游戏情景将基于《射雕英雄传》剧情。这个游戏的玩法是互动式的，并遵循以下特定格式：\\n\\n<场景描述>：根据玩家的选择，故事情节将按照《射雕英雄传》剧情的线索发展。你将描述角色所处的环境和情况。\\n\\n<场景图片>：对于每个场景，你将创造一个概括该情况的图像。这些图像的风格将类似于1980年代RPG游戏对话，16:9宽屏比例。在这个步骤你需要调用画图工具(ImageTool)。\\n\\n<选择>：在每次互动中，你将为玩家提供三个行动选项，分别标为1、2、3，以及第四个选项“输入玩家自定义的选择”。故事情节将根据玩家选择的行动进展。如果一个选择不是直接来自《射雕英雄传》剧情，你将创造性地适应故事，最终引导它回归原始情节。\\n\\n整个故事将围绕《射雕英雄传》丰富而复杂的世界展开。每次互动必须包括<场景描述>、<场景图片>和<选择>。所有内容将以中文呈现。你的重点将仅仅放在提供场景描述，场景图片和选择上，不包含其他游戏指导。场景尽量不要重复，要丰富一些。\\n\\n当我说游戏开始的时候，开始游戏。每次只要输出一组互动，不要自己生成互动。'},\n",
       " {'role': 'assistant', 'content': '好的，我将为你提供《射雕英雄传》沉浸式图文RPG场景体验。'}]"
      ]
     },
     "execution_count": 7,
     "metadata": {},
     "output_type": "execute_result"
    }
   ],
   "source": [
    "my_bot.chat_history"
   ]
  },
  {
   "cell_type": "code",
   "execution_count": 80,
   "metadata": {},
   "outputs": [
    {
     "name": "stdout",
     "output_type": "stream",
     "text": [
      "\u001b[1;32m{absb\n"
     ]
    }
   ],
   "source": [
    "s = \"\\033[1;32m{absb\"\n",
    "print(s)"
   ]
  },
  {
   "cell_type": "code",
   "execution_count": 48,
   "metadata": {},
   "outputs": [
    {
     "data": {
      "text/plain": [
       "'开始游戏：第一回 风雪惊变\\n\\n钱塘江浩浩江水，日日夜夜无穷无休的从临安牛家村边绕过，东流入海。\\n\\n江畔一排数十株乌柏树，叶子似火烧般红，正是八月天时。\\n\\n村前村后的野草刚起始变黄，一抹斜阳映照之下，更增了几分萧索。\\n\\n两株大松树下围着一堆村民，男男女女和十几个小孩，正自聚精会神的听着一个瘦削的老者说话。\\n\\n那说话人五十来岁年纪，一件青布长袍早洗得褪成了蓝灰色。\\n\\n只听他两片梨花木板碰了几下，左手中竹棒在一面小羯鼓上敲起得得连声。\\n\\n唱道：“小桃无主自开花，烟草茫茫带晚鸦。\\n\\n几处败垣围故井，向来一一是人家。”\\n\\n那说话人将木板敲了几下，说道：“这首七言诗，说的是兵火过后，原来的家家户户，都变成了断墙残瓦的破败之地。\\n\\n小人刚才说到那叶老汉一家四口，悲欢离合，聚了又散，散了又聚。'"
      ]
     },
     "execution_count": 48,
     "metadata": {},
     "output_type": "execute_result"
    }
   ],
   "source": [
    "db.similarity_search('开始游戏')[0].page_content"
   ]
  },
  {
   "cell_type": "code",
   "execution_count": 38,
   "metadata": {},
   "outputs": [],
   "source": [
    "res = await searchtool('第一回')"
   ]
  },
  {
   "cell_type": "code",
   "execution_count": 39,
   "metadata": {},
   "outputs": [
    {
     "data": {
      "text/plain": [
       "{'document': '第一回 风雪惊变\\n\\n钱塘江浩浩江水，日日夜夜无穷无休的从临安牛家村边绕过，东流入海。\\n\\n江畔一排数十株乌柏树，叶子似火烧般红，正是八月天时。\\n\\n村前村后的野草刚起始变黄，一抹斜阳映照之下，更增了几分萧索。\\n\\n两株大松树下围着一堆村民，男男女女和十几个小孩，正自聚精会神的听着一个瘦削的老者说话。\\n\\n那说话人五十来岁年纪，一件青布长袍早洗得褪成了蓝灰色。\\n\\n只听他两片梨花木板碰了几下，左手中竹棒在一面小羯鼓上敲起得得连声。\\n\\n唱道：“小桃无主自开花，烟草茫茫带晚鸦。\\n\\n几处败垣围故井，向来一一是人家。”\\n\\n那说话人将木板敲了几下，说道：“这首七言诗，说的是兵火过后，原来的家家户户，都变成了断墙残瓦的破败之地。\\n\\n小人刚才说到那叶老汉一家四口，悲欢离合，聚了又散，散了又聚。\\n\\n他四人给金兵冲散，好容易又再团聚，欢天喜地的回到故乡，却见房屋已给金兵烧得干干净净，无可奈何，只得去到汴梁，想觅个生计。'}"
      ]
     },
     "execution_count": 39,
     "metadata": {},
     "output_type": "execute_result"
    }
   ],
   "source": [
    "res['documents'][0]"
   ]
  },
  {
   "cell_type": "code",
   "execution_count": 24,
   "metadata": {},
   "outputs": [],
   "source": [
    "class ImageGenerateToolInputView(ToolParameterView):\n",
    "    query: str = Field(description=\"用于生成图片的提示语（英语）\")\n",
    "    style: str = Field(description=\"生成图片的风格\")\n",
    "\n",
    "\n",
    "class ImageGenerateToolOutputView(ToolParameterView):\n",
    "    output_dir: float = Field(description=\"生成图片的路径\")\n",
    "\n",
    "class ImageGenerateTool(Tool):\n",
    "    description: str = \"ImageGenerateTool用于根据用户的文字提示，生成图片。\"\n",
    "    input_type: Type[ToolParameterView] = ImageGenerateToolInputView\n",
    "    ouptut_type: Type[ToolParameterView] = ImageGenerateToolOutputView\n",
    "\n",
    "    async def __call__(self, query: str, style: str) -> str:\n",
    "        output_dir = (query)\n",
    "        return {\"output_dir\": output_dir}\n",
    "\n",
    "tool = ImageGenerateTool()"
   ]
  },
  {
   "cell_type": "code",
   "execution_count": 17,
   "metadata": {},
   "outputs": [],
   "source": [
    "\n",
    "embeddings = ErnieEmbeddings(\n",
    "    aistudio_access_token=os.environ.get('EB_ACCESS_TOKEN'), \n",
    "    chunk_size=16,\n",
    "    )\n",
    "\n",
    "faiss_name = '/Users/tanzhehao/Documents/ERINE/ERNIE-Bot-SDK/examples/douluoindex'\n",
    "if os.path.exists(faiss_name):\n",
    "    db = FAISS.load_local(faiss_name, embeddings)\n",
    "else:\n",
    "    loader = TextLoader(\"/Users/tanzhehao/Downloads/douluo.txt\")\n",
    "    documents = loader.load()\n",
    "    text_splitter = SpacyTextSplitter(pipeline='zh_core_web_sm', chunk_size=400, chunk_overlap=200)\n",
    "    docs = text_splitter.split_documents(documents)\n",
    "    db = FAISS.from_documents(docs, embeddings)\n",
    "    db.save_local(faiss_name)"
   ]
  },
  {
   "cell_type": "code",
   "execution_count": 8,
   "metadata": {},
   "outputs": [
    {
     "data": {
      "text/plain": [
       "'ID 1 not found.'"
      ]
     },
     "execution_count": 8,
     "metadata": {},
     "output_type": "execute_result"
    }
   ],
   "source": [
    "\n",
    "# embeddings = ErnieEmbeddings(\n",
    "#     aistudio_access_token=os.environ.get('EB_ACCESS_TOKEN'), \n",
    "#     chunk_size=16,\n",
    "#     )\n",
    "from langchain.embeddings import HuggingFaceEmbeddings\n",
    "\n",
    "model_kwargs = {'device': 'mps'}\n",
    "# encode_kwargs = {'normalize_embeddings': True}\n",
    "\n",
    "embeddings = HuggingFaceEmbeddings(\n",
    "    model_name=\"shibing624/text2vec-base-chinese\",\n",
    "    model_kwargs=model_kwargs,\n",
    "    # encode_kwargs=encode_kwargs,\n",
    ")\n",
    "\n",
    "faiss_name = \"/Users/tanzhehao/Documents/ERINE/ERNIE-Bot-SDK/examples/douluo_index_hf\"\n",
    "if os.path.exists(faiss_name):\n",
    "    db = FAISS.load_local(faiss_name, embeddings)\n",
    "else:\n",
    "    loader = TextLoader(\"/Users/tanzhehao/Downloads/douluo.txt\")\n",
    "    documents = loader.load()\n",
    "    text_splitter = SpacyTextSplitter(pipeline='zh_core_web_sm', chunk_size=600, chunk_overlap=200)\n",
    "    docs = text_splitter.split_documents(documents)\n",
    "    db = FAISS.from_documents(docs, embeddings)\n",
    "    db.save_local(faiss_name)"
   ]
  },
  {
   "cell_type": "code",
   "execution_count": 14,
   "metadata": {},
   "outputs": [
    {
     "data": {
      "text/plain": [
       "{'5ddf8741-1cd8-4f47-8f96-a9e76fcd8940': Document(page_content='开始游戏：第一回 风雪惊变\\n\\n钱塘江浩浩江水，日日夜夜无穷无休的从临安牛家村边绕过，东流入海。\\n\\n江畔一排数十株乌柏树，叶子似火烧般红，正是八月天时。\\n\\n村前村后的野草刚起始变黄，一抹斜阳映照之下，更增了几分萧索。\\n\\n两株大松树下围着一堆村民，男男女女和十几个小孩，正自聚精会神的听着一个瘦削的老者说话。\\n\\n那说话人五十来岁年纪，一件青布长袍早洗得褪成了蓝灰色。\\n\\n只听他两片梨花木板碰了几下，左手中竹棒在一面小羯鼓上敲起得得连声。\\n\\n唱道：“小桃无主自开花，烟草茫茫带晚鸦。\\n\\n几处败垣围故井，向来一一是人家。”\\n\\n那说话人将木板敲了几下，说道：“这首七言诗，说的是兵火过后，原来的家家户户，都变成了断墙残瓦的破败之地。\\n\\n小人刚才说到那叶老汉一家四口，悲欢离合，聚了又散，散了又聚。', metadata={'source': '/Users/tanzhehao/Downloads/第一回.txt'}),\n",
       " '39588efb-fdf3-444d-8123-11d1785e9159': Document(page_content='那说话人五十来岁年纪，一件青布长袍早洗得褪成了蓝灰色。\\n\\n只听他两片梨花木板碰了几下，左手中竹棒在一面小羯鼓上敲起得得连声。\\n\\n唱道：“小桃无主自开花，烟草茫茫带晚鸦。\\n\\n几处败垣围故井，向来一一是人家。”\\n\\n那说话人将木板敲了几下，说道：“这首七言诗，说的是兵火过后，原来的家家户户，都变成了断墙残瓦的破败之地。\\n\\n小人刚才说到那叶老汉一家四口，悲欢离合，聚了又散，散了又聚。\\n\\n他四人给金兵冲散，好容易又再团聚，欢天喜地的回到故乡，却见房屋已给金兵烧得干干净净，无可奈何，只得去到汴梁，想觅个生计。\\n\\n不料想：天有不测风云，人有旦夕祸福。\\n\\n他四人刚进汴梁城，迎面便过来一队金兵。\\n\\n带兵的头儿一双三角眼觑将过去，见那叶三姐生得美貌，跳下马来，当即一把抱住，哈哈大笑，便将她放上了马鞍，说道：‘小姑娘，跟我回家，服侍老爷。’\\n\\n那叶三姐如何肯从？\\n\\n拚命挣扎。', metadata={'source': '/Users/tanzhehao/Downloads/第一回.txt'}),\n",
       " '5aa6b52d-7b84-4330-b484-51672cfffb0f': Document(page_content='他四人给金兵冲散，好容易又再团聚，欢天喜地的回到故乡，却见房屋已给金兵烧得干干净净，无可奈何，只得去到汴梁，想觅个生计。\\n\\n不料想：天有不测风云，人有旦夕祸福。\\n\\n他四人刚进汴梁城，迎面便过来一队金兵。\\n\\n带兵的头儿一双三角眼觑将过去，见那叶三姐生得美貌，跳下马来，当即一把抱住，哈哈大笑，便将她放上了马鞍，说道：‘小姑娘，跟我回家，服侍老爷。’\\n\\n那叶三姐如何肯从？\\n\\n拚命挣扎。\\n\\n那金兵长官喝道：‘你不肯从我，便杀了你的父母兄弟！’\\n\\n提起狼牙棒，一棒打在那叶三郎的头上，登时脑浆迸裂，一命鸣呼。\\n\\n正是：阴世新添枉死鬼，阳间不见少年人！\\n\\n“叶老汉和妈妈吓得呆了，扑将上去，搂住了儿子的死尸，放声大哭。\\n\\n那长官提起狼牙棒，一棒一个，又都了帐。\\n\\n那叶三姐却不啼哭，说道：‘长官休得凶恶，我跟你回家便了！’\\n\\n那长官大喜，将叶三姐带得回家。', metadata={'source': '/Users/tanzhehao/Downloads/第一回.txt'}),\n",
       " 'b6fccff7-baea-4415-83e3-81a928c6c541': Document(page_content='那叶三姐如何肯从？\\n\\n拚命挣扎。\\n\\n那金兵长官喝道：‘你不肯从我，便杀了你的父母兄弟！’\\n\\n提起狼牙棒，一棒打在那叶三郎的头上，登时脑浆迸裂，一命鸣呼。\\n\\n正是：阴世新添枉死鬼，阳间不见少年人！\\n\\n“叶老汉和妈妈吓得呆了，扑将上去，搂住了儿子的死尸，放声大哭。\\n\\n那长官提起狼牙棒，一棒一个，又都了帐。\\n\\n那叶三姐却不啼哭，说道：‘长官休得凶恶，我跟你回家便了！’\\n\\n那长官大喜，将叶三姐带得回家。\\n\\n不料叶三姐觑他不防，突然抢步过去，拔出那长官的腰刀，对准了他心口，一刀刺将过去，说时迟，那时快，这一刀刺去，眼见便可报得父母兄弟的大仇。\\n\\n不料那长官久经战阵，武艺精熟，顺手一推，叶三姐登时摔了出去。\\n\\n那长官刚骂得一声：‘小贱人！’\\n\\n叶三姐已举起钢刀，在脖子中一勒。\\n\\n可怜她：花容月貌无双女，惆怅芳魂赴九泉。”\\n\\n他说一段，唱一段，只听得众村民无不咬牙切齿，愤怒叹息。', metadata={'source': '/Users/tanzhehao/Downloads/第一回.txt'}),\n",
       " 'b43c1436-5157-4a96-a76f-b8bb722d02f4': Document(page_content='不料叶三姐觑他不防，突然抢步过去，拔出那长官的腰刀，对准了他心口，一刀刺将过去，说时迟，那时快，这一刀刺去，眼见便可报得父母兄弟的大仇。\\n\\n不料那长官久经战阵，武艺精熟，顺手一推，叶三姐登时摔了出去。\\n\\n那长官刚骂得一声：‘小贱人！’\\n\\n叶三姐已举起钢刀，在脖子中一勒。\\n\\n可怜她：花容月貌无双女，惆怅芳魂赴九泉。”\\n\\n他说一段，唱一段，只听得众村民无不咬牙切齿，愤怒叹息。\\n\\n那人又道：“众位看官，常言道得好：为人切莫用欺心，举头三尺有神明。\\n\\n若还作恶无报应，天下凶徒人吃人。\\n\\n“可是那金兵占了我大宋天下，杀人放火，奸淫掳掠，无恶不作，却又不见他遭到什么报应。\\n\\n只怪我大宋官家不争气，我中国本来兵多将广，可是一见到金兵到来，便远远的逃之夭夭，只剩下老百姓遭殃。\\n\\n好似那叶三姐一家的惨祸。\\n\\n江北之地，实是成千成万，便如家常便饭一般。\\n\\n诸君住在江南，当真是在天堂里了，怕只怕金兵何日到来。', metadata={'source': '/Users/tanzhehao/Downloads/第一回.txt'}),\n",
       " '6d7504b1-5f23-4d5f-a464-934770e20d06': Document(page_content='若还作恶无报应，天下凶徒人吃人。\\n\\n“可是那金兵占了我大宋天下，杀人放火，奸淫掳掠，无恶不作，却又不见他遭到什么报应。\\n\\n只怪我大宋官家不争气，我中国本来兵多将广，可是一见到金兵到来，便远远的逃之夭夭，只剩下老百姓遭殃。\\n\\n好似那叶三姐一家的惨祸。\\n\\n江北之地，实是成千成万，便如家常便饭一般。\\n\\n诸君住在江南，当真是在天堂里了，怕只怕金兵何日到来。\\n\\n正是：宁作太平犬，莫为乱世人。\\n\\n小人张十五，今日路经贵地，服侍众位看官这一段说话，叫作《叶三姐节烈记》。\\n\\n话本说彻，权作散场。”\\n\\n将两片梨花木板拍拍拍的乱敲一阵，托出一只盘子。\\n\\n众村民便有人拿出两文三文，放入木盘，霎时间得了六七十文。\\n\\n张十五谢了，将铜钱放入囊中，便欲起行。\\n\\n村民中走出一个二十来岁的大汉，说道：“张先生，你可是从北方来吗？”\\n\\n张十五见他身材魁梧，浓眉大眼，便道：“正是。”', metadata={'source': '/Users/tanzhehao/Downloads/第一回.txt'}),\n",
       " '138f0c4b-f6ab-4044-a787-d3d96e3a7474': Document(page_content='小人张十五，今日路经贵地，服侍众位看官这一段说话，叫作《叶三姐节烈记》。\\n\\n话本说彻，权作散场。”\\n\\n将两片梨花木板拍拍拍的乱敲一阵，托出一只盘子。\\n\\n众村民便有人拿出两文三文，放入木盘，霎时间得了六七十文。\\n\\n张十五谢了，将铜钱放入囊中，便欲起行。\\n\\n村民中走出一个二十来岁的大汉，说道：“张先生，你可是从北方来吗？”\\n\\n张十五见他身材魁梧，浓眉大眼，便道：“正是。”\\n\\n那大汉道：“小弟作东，请先生去饮上三杯如何？”\\n\\n张十五大喜，说道：“素不相识，怎敢叨扰？”\\n\\n那大汉笑道：“喝上三杯，那便相识了。\\n\\n我姓郭，名叫郭啸天。”\\n\\n指着身旁一个白净面皮的汉子道：“这位是杨铁心杨兄弟。\\n\\n适才我二人听先生说唱叶三姐节烈记，果然是说得好，却有几句话想要请问。”\\n\\n张十五道：“好说，好说。\\n\\n今日得遇郭杨二位，也是有缘。”\\n\\n郭啸天带着张十五来到村头一家小酒店中，在张饭桌旁坐了。', metadata={'source': '/Users/tanzhehao/Downloads/第一回.txt'}),\n",
       " 'fa54f71e-af7d-42d1-b5d0-6e805b851a10': Document(page_content='张十五大喜，说道：“素不相识，怎敢叨扰？”\\n\\n那大汉笑道：“喝上三杯，那便相识了。\\n\\n我姓郭，名叫郭啸天。”\\n\\n指着身旁一个白净面皮的汉子道：“这位是杨铁心杨兄弟。\\n\\n适才我二人听先生说唱叶三姐节烈记，果然是说得好，却有几句话想要请问。”\\n\\n张十五道：“好说，好说。\\n\\n今日得遇郭杨二位，也是有缘。”\\n\\n郭啸天带着张十五来到村头一家小酒店中，在张饭桌旁坐了。\\n\\n小酒店的主人是个跛子，撑着两根拐杖，慢慢烫了两壶黄酒，摆出一碟蚕豆、一碟咸花生，一碟豆腐干，另有三个切开的咸蛋，自行在门口板凳上坐了，抬头瞧着天边正要落山的太阳，却不更向三人望上一眼。\\n\\n郭啸天斟了酒，劝张十五喝了两杯，说道：“乡下地方，只初二、十六方有肉卖。\\n\\n没了下酒之物，先生莫怪。”\\n\\n张十五道：“有酒便好。\\n\\n听两位口音，遮莫也是北方人。”\\n\\n杨铁心道：“我两兄弟原是山东人氏。', metadata={'source': '/Users/tanzhehao/Downloads/第一回.txt'}),\n",
       " '0c550c90-a41b-4a8e-88e9-1f3643371b9e': Document(page_content='小酒店的主人是个跛子，撑着两根拐杖，慢慢烫了两壶黄酒，摆出一碟蚕豆、一碟咸花生，一碟豆腐干，另有三个切开的咸蛋，自行在门口板凳上坐了，抬头瞧着天边正要落山的太阳，却不更向三人望上一眼。\\n\\n郭啸天斟了酒，劝张十五喝了两杯，说道：“乡下地方，只初二、十六方有肉卖。\\n\\n没了下酒之物，先生莫怪。”\\n\\n张十五道：“有酒便好。\\n\\n听两位口音，遮莫也是北方人。”\\n\\n杨铁心道：“我两兄弟原是山东人氏。\\n\\n只因受不了金狗的肮脏气，三年前来到此间，爱这里人情厚，便住了下来。\\n\\n刚才听得先生说道，我们住在江南，犹似在天堂里一般，怕只怕金兵何日到来，你说金兵会不会打过江来？”\\n\\n张十五叹道：“江南花花世界，遍地皆是金银，放眼但见美女，金兵又有哪一日下想过来？\\n\\n只是他来与不来，拿主意的却不是金国，而是临安的大宋朝廷。”\\n\\n郭啸天和杨铁心齐感诧异，同声问道：“这却是怎生说？”', metadata={'source': '/Users/tanzhehao/Downloads/第一回.txt'}),\n",
       " '3ef87f3a-f4fe-4b79-ab6f-b96caae6cbde': Document(page_content='只因受不了金狗的肮脏气，三年前来到此间，爱这里人情厚，便住了下来。\\n\\n刚才听得先生说道，我们住在江南，犹似在天堂里一般，怕只怕金兵何日到来，你说金兵会不会打过江来？”\\n\\n张十五叹道：“江南花花世界，遍地皆是金银，放眼但见美女，金兵又有哪一日下想过来？\\n\\n只是他来与不来，拿主意的却不是金国，而是临安的大宋朝廷。”\\n\\n郭啸天和杨铁心齐感诧异，同声问道：“这却是怎生说？”\\n\\n张十五道：“我中国百姓，比女真人多上一百倍也还不止。\\n\\n只要朝廷肯用忠臣良将，咱们一百个打他一个，金兵如何能够抵挡？\\n\\n我大宋北方这半壁江山，是当年徽宗、钦宗、高宗他父子三人奉送给金人的。\\n\\n这三个皇帝任用奸臣，欺压百姓，把出力抵抗金兵的大将罢免的罢免，杀头的杀头。\\n\\n花花江山，双手送将过去，金人却之不恭，也只得收了。\\n\\n今后朝廷倘若仍是任用奸臣，那就是跪在地下，请金兵驾到，他又如何不来？”', metadata={'source': '/Users/tanzhehao/Downloads/第一回.txt'}),\n",
       " 'ae6b2b9d-2860-4bd9-94d1-8db34d7e23f5': Document(page_content='张十五道：“我中国百姓，比女真人多上一百倍也还不止。\\n\\n只要朝廷肯用忠臣良将，咱们一百个打他一个，金兵如何能够抵挡？\\n\\n我大宋北方这半壁江山，是当年徽宗、钦宗、高宗他父子三人奉送给金人的。\\n\\n这三个皇帝任用奸臣，欺压百姓，把出力抵抗金兵的大将罢免的罢免，杀头的杀头。\\n\\n花花江山，双手送将过去，金人却之不恭，也只得收了。\\n\\n今后朝廷倘若仍是任用奸臣，那就是跪在地下，请金兵驾到，他又如何不来？”\\n\\n郭啸天伸手在桌上重重一拍，只拍得杯儿、筷儿、碟儿都跳将起来，说道：“正是！”\\n\\n张十五道：“想当年徽宗道君皇帝一心只想长生不老，要做神仙，所用的奸臣，像蔡京、王黼，是专帮皇帝搜括的无耻之徒；像童贯、梁师成，是只会吹牛拍马的太监；像高俅、李邦彦，是陪皇帝嫖院玩耍的浪子。\\n\\n道君皇帝正事诸般不理，整日里若不是求仙学道，便是派人到处去找寻希奇古怪的花木石头。', metadata={'source': '/Users/tanzhehao/Downloads/第一回.txt'}),\n",
       " '74696cc1-9c58-4008-92f4-38810197400e': Document(page_content='郭啸天伸手在桌上重重一拍，只拍得杯儿、筷儿、碟儿都跳将起来，说道：“正是！”\\n\\n张十五道：“想当年徽宗道君皇帝一心只想长生不老，要做神仙，所用的奸臣，像蔡京、王黼，是专帮皇帝搜括的无耻之徒；像童贯、梁师成，是只会吹牛拍马的太监；像高俅、李邦彦，是陪皇帝嫖院玩耍的浪子。\\n\\n道君皇帝正事诸般不理，整日里若不是求仙学道，便是派人到处去找寻希奇古怪的花木石头。\\n\\n一旦金兵打到眼前来，他束手无策，头一缩，便将皇位传给了儿子钦宗。\\n\\n那时忠臣李纲守住了京城汴梁，各路大将率兵勤王，金兵攻打不进，只得退兵，不料想钦宗听信了奸臣的话，竟将李纲罢免了，又不用威名素著、能征惯战的宿将，却信用一个自称能请天神天将、会得呼风唤雨的骗子郭京，叫他请天将守城。\\n\\n天将不肯来，这京城又如何不破？\\n\\n终于徽宗、钦宗都给金兵掳了去。\\n\\n这两个昏君自作自受，那也罢了，可害苦了我中国千千万万百姓。”\\n\\n郭啸天、杨铁心越听越怒。', metadata={'source': '/Users/tanzhehao/Downloads/第一回.txt'}),\n",
       " '754db319-b061-4bf7-9850-7c393e593ea4': Document(page_content='那时忠臣李纲守住了京城汴梁，各路大将率兵勤王，金兵攻打不进，只得退兵，不料想钦宗听信了奸臣的话，竟将李纲罢免了，又不用威名素著、能征惯战的宿将，却信用一个自称能请天神天将、会得呼风唤雨的骗子郭京，叫他请天将守城。\\n\\n天将不肯来，这京城又如何不破？\\n\\n终于徽宗、钦宗都给金兵掳了去。\\n\\n这两个昏君自作自受，那也罢了，可害苦了我中国千千万万百姓。”\\n\\n郭啸天、杨铁心越听越怒。\\n\\n郭啸天道：“靖康年间徽钦二帝被金兵掳去这件大耻，我们听得多了。\\n\\n天神天将甚么的，倒也听见过的，只道是说说笑话，岂难道真有此事？”\\n\\n张十五道：“那还有假的？”\\n\\n杨铁心道：“后来康王在南京接位做皇帝，手下有韩世忠、岳爷爷这些天将，本来大可发兵北伐，就算不能直捣黄龙，要收复京城汴梁，却也并非难事。\\n\\n只恨秦桧这奸贼一心想议和，却把岳爷爷害死了。”', metadata={'source': '/Users/tanzhehao/Downloads/第一回.txt'}),\n",
       " '5f6fcf27-fe30-43ff-82f1-594e7ada920d': Document(page_content='郭啸天、杨铁心越听越怒。\\n\\n郭啸天道：“靖康年间徽钦二帝被金兵掳去这件大耻，我们听得多了。\\n\\n天神天将甚么的，倒也听见过的，只道是说说笑话，岂难道真有此事？”\\n\\n张十五道：“那还有假的？”\\n\\n杨铁心道：“后来康王在南京接位做皇帝，手下有韩世忠、岳爷爷这些天将，本来大可发兵北伐，就算不能直捣黄龙，要收复京城汴梁，却也并非难事。\\n\\n只恨秦桧这奸贼一心想议和，却把岳爷爷害死了。”\\n\\n张十五替郭、杨二人斟了酒，自己又斟一杯，一口饮干，说道：“岳爷爷有两句诗道：‘壮志饥餐胡虏肉，笑谈渴饮匈奴血。’\\n\\n这两句诗当真说出了中国全国百姓的心里话。\\n\\n唉，秦桧这大奸臣运气好，只可惜咱们迟生了六十年。”\\n\\n郭啸天问道：“若是早了六十年，却又如何？”\\n\\n张十五道：“那时凭两位这般英雄气概，豪杰身手，去到临安，将这奸臣一把揪住，咱三个就吃他的肉，喝他的血，却又不用在这里吃蚕豆、喝冷酒了！”\\n\\n说着三人大笑。', metadata={'source': '/Users/tanzhehao/Downloads/第一回.txt'}),\n",
       " 'c5f3bfc3-8a8d-4ee5-9bd0-87e48f4d4f18': Document(page_content='这两句诗当真说出了中国全国百姓的心里话。\\n\\n唉，秦桧这大奸臣运气好，只可惜咱们迟生了六十年。”\\n\\n郭啸天问道：“若是早了六十年，却又如何？”\\n\\n张十五道：“那时凭两位这般英雄气概，豪杰身手，去到临安，将这奸臣一把揪住，咱三个就吃他的肉，喝他的血，却又不用在这里吃蚕豆、喝冷酒了！”\\n\\n说着三人大笑。\\n\\n杨铁心见一壶酒已喝完了，又要了一壶，三人只是痛骂秦桧。\\n\\n那跛子又端上一碟蚕豆、一碟花生，听他三人骂得痛快，忽然嘿嘿两声冷笑。\\n\\n杨铁心道：“曲三，怎么了？\\n\\n你说我们骂秦桧骂得不对吗？”\\n\\n那跛子曲三道：“骂得好，骂得对，有甚么不对？\\n\\n不过我曾听得人说，想要杀岳爷爷议和的，罪魁祸首却不是秦桧。”\\n\\n三人都感诧异，问道：“不是秦桧？\\n\\n那么是谁？”\\n\\n曲三道：“秦桧做的是宰相，议和也好，不议和也好，他都做他的宰相。\\n\\n可是岳爷爷一心一意要灭了金国，迎接徽钦二帝回来。', metadata={'source': '/Users/tanzhehao/Downloads/第一回.txt'}),\n",
       " '7bf189e9-cc7e-4629-82d7-e9f3cf33e134': Document(page_content='杨铁心道：“曲三，怎么了？\\n\\n你说我们骂秦桧骂得不对吗？”\\n\\n那跛子曲三道：“骂得好，骂得对，有甚么不对？\\n\\n不过我曾听得人说，想要杀岳爷爷议和的，罪魁祸首却不是秦桧。”\\n\\n三人都感诧异，问道：“不是秦桧？\\n\\n那么是谁？”\\n\\n曲三道：“秦桧做的是宰相，议和也好，不议和也好，他都做他的宰相。\\n\\n可是岳爷爷一心一意要灭了金国，迎接徽钦二帝回来。\\n\\n这两个皇帝一回来，高宗皇帝他又做甚么呀？”\\n\\n他说了这几句话，一跷一拐的又去坐在木凳上，抬头望天，又是一动不动的出神。\\n\\n这曲三瞧他容貌也不过二十来岁年纪，可是弓腰曲背，鬓边见白，从背后瞧去，倒似是个老头子模样。\\n\\n张十五和郭杨二人相顾哑然。\\n\\n隔了半晌，张十五道：“对，对！\\n\\n这一位兄弟说得很是。\\n\\n真正害死岳爷爷的罪魁祸首，只怕不是秦桧，而是高宗皇帝。\\n\\n这个高宗皇帝，原本无耻得很，这种事情自然做得出来。”\\n\\n郭啸天问道：“他却又怎么无耻了？”', metadata={'source': '/Users/tanzhehao/Downloads/第一回.txt'}),\n",
       " 'eb62c6e4-7f40-490e-a52d-09b2a0d43039': Document(page_content='这曲三瞧他容貌也不过二十来岁年纪，可是弓腰曲背，鬓边见白，从背后瞧去，倒似是个老头子模样。\\n\\n张十五和郭杨二人相顾哑然。\\n\\n隔了半晌，张十五道：“对，对！\\n\\n这一位兄弟说得很是。\\n\\n真正害死岳爷爷的罪魁祸首，只怕不是秦桧，而是高宗皇帝。\\n\\n这个高宗皇帝，原本无耻得很，这种事情自然做得出来。”\\n\\n郭啸天问道：“他却又怎么无耻了？”\\n\\n张十五道：“当年岳爷爷几个胜仗，只杀得金兵血流成河，尸积如山，只有逃命之力，更无招架之功，而北方我中国义民，又到处起兵抄鞑子的后路。\\n\\n金人正在手忙脚乱、魂不附体的当儿，忽然高宗送到降表，说要求和。\\n\\n金人的皇帝自然大喜若狂，说道：议和倒也可以，不过先得杀了岳飞。\\n\\n于是秦桧定下奸计，在风波亭中害死了岳爷爷。\\n\\n绍兴十一年十二月，岳爷爷被害，只隔得一个月，到绍兴十二年正月，议和就成功了。\\n\\n宋金两国以淮水中流为界。', metadata={'source': '/Users/tanzhehao/Downloads/第一回.txt'}),\n",
       " 'd6f91d58-d6ef-46bf-993d-1339f40bf06c': Document(page_content='金人正在手忙脚乱、魂不附体的当儿，忽然高宗送到降表，说要求和。\\n\\n金人的皇帝自然大喜若狂，说道：议和倒也可以，不过先得杀了岳飞。\\n\\n于是秦桧定下奸计，在风波亭中害死了岳爷爷。\\n\\n绍兴十一年十二月，岳爷爷被害，只隔得一个月，到绍兴十二年正月，议和就成功了。\\n\\n宋金两国以淮水中流为界。\\n\\n高宗皇帝向金国称臣，你道他这道降表是怎生书写？”\\n\\n杨铁心道：“那定是写得很不要脸了。”\\n\\n张十五道：“可不是吗？\\n\\n这道降表，我倒也记得。\\n\\n高宗皇帝名叫赵构，他在降表中写道：‘臣构言：既蒙恩造，许备藩国，世世子孙，谨守臣节。\\n\\n每年皇帝生辰并正旦，遣使称贺不绝。\\n\\n岁贡银二十五万两，绢二十五万匹。’\\n\\n他不但自己做奴才，还叫世世子孙都做金国皇帝的奴才。\\n\\n他做奴才不打紧，咱们中国百姓可不是跟着也成了奴才？”\\n\\n砰的一声，郭啸天又在桌上重重拍了一记，震倒了一只酒杯，酒水流得满桌，怒道：“不要脸，不要脸！', metadata={'source': '/Users/tanzhehao/Downloads/第一回.txt'}),\n",
       " '77c3b4e2-2052-463a-bb2a-a2fb6e5bc81e': Document(page_content='这道降表，我倒也记得。\\n\\n高宗皇帝名叫赵构，他在降表中写道：‘臣构言：既蒙恩造，许备藩国，世世子孙，谨守臣节。\\n\\n每年皇帝生辰并正旦，遣使称贺不绝。\\n\\n岁贡银二十五万两，绢二十五万匹。’\\n\\n他不但自己做奴才，还叫世世子孙都做金国皇帝的奴才。\\n\\n他做奴才不打紧，咱们中国百姓可不是跟着也成了奴才？”\\n\\n砰的一声，郭啸天又在桌上重重拍了一记，震倒了一只酒杯，酒水流得满桌，怒道：“不要脸，不要脸！\\n\\n这鸟皇帝算是哪一门子的皇帝！”\\n\\n张十五道：“那时候全国军民听到了这个讯息，无不愤慨之极。\\n\\n淮水以北的百姓眼见河山恢复无望，更是伤心泣血。\\n\\n高宗见自己的宝座从此坐得稳若泰山，便道是秦桧的大功。\\n\\n秦桧本来已封到鲁国公，这时再加封太师，荣宠无比，权势薰天。\\n\\n高宗传孝宗，孝宗传光宗，金人占定了我大半边江山。', metadata={'source': '/Users/tanzhehao/Downloads/第一回.txt'}),\n",
       " '064f4cc3-8f99-48af-9fb3-afb60b0bf597': Document(page_content='这鸟皇帝算是哪一门子的皇帝！”\\n\\n张十五道：“那时候全国军民听到了这个讯息，无不愤慨之极。\\n\\n淮水以北的百姓眼见河山恢复无望，更是伤心泣血。\\n\\n高宗见自己的宝座从此坐得稳若泰山，便道是秦桧的大功。\\n\\n秦桧本来已封到鲁国公，这时再加封太师，荣宠无比，权势薰天。\\n\\n高宗传孝宗，孝宗传光宗，金人占定了我大半边江山。\\n\\n光宗传到当今天子庆元皇帝手里，他在临安已坐了五年龙廷，用的是这位韩胄韩宰相，今后的日子怎样？\\n\\n嘿嘿，难说，难说！”\\n\\n说着连连摇头。\\n\\n郭啸天道：“甚么难说？\\n\\n这里是乡下地方，尽说无妨，又不比临安城里，怕给人听了去惹祸。\\n\\n韩胄这贼宰相，哪一个不说他是大大的奸臣？\\n\\n说到祸国殃民的本事，跟秦桧是拜把子的兄弟。”\\n\\n张十五说到了眼前之事，却有些胆小了，不敢再那么直言无忌，喝了一杯酒，说道：“叨扰了两位一顿酒，小人却有一句话相劝，两位是血性汉子，说话行事，却还得小心，免惹祸端。', metadata={'source': '/Users/tanzhehao/Downloads/第一回.txt'}),\n",
       " '2f15ac7e-e95e-4f13-8797-98b57e181167': Document(page_content='嘿嘿，难说，难说！”\\n\\n说着连连摇头。\\n\\n郭啸天道：“甚么难说？\\n\\n这里是乡下地方，尽说无妨，又不比临安城里，怕给人听了去惹祸。\\n\\n韩胄这贼宰相，哪一个不说他是大大的奸臣？\\n\\n说到祸国殃民的本事，跟秦桧是拜把子的兄弟。”\\n\\n张十五说到了眼前之事，却有些胆小了，不敢再那么直言无忌，喝了一杯酒，说道：“叨扰了两位一顿酒，小人却有一句话相劝，两位是血性汉子，说话行事，却还得小心，免惹祸端。\\n\\n时势既是这样，咱们老百姓也只有混口苦饭吃，挨日子罢啦，\\n\\n唉！\\n\\n正是：山外青山楼外楼，西湖歌舞几时休？\\n\\n暖风薰得游人醉，直把杭州作汴州。”\\n\\n杨铁心问道：“这四句诗，说的又是甚么故事？”\\n\\n张十五道：“那倒不是故事。\\n\\n说的是我大宋君臣只顾在西湖边上饮酒作乐，观赏歌舞，打算世世代代就把杭州当作京师，再也不想收复失地、回汴梁旧京去了。”', metadata={'source': '/Users/tanzhehao/Downloads/第一回.txt'}),\n",
       " 'ff98b090-0cbd-4846-9468-d600ca9d818f': Document(page_content='时势既是这样，咱们老百姓也只有混口苦饭吃，挨日子罢啦，\\n\\n唉！\\n\\n正是：山外青山楼外楼，西湖歌舞几时休？\\n\\n暖风薰得游人醉，直把杭州作汴州。”\\n\\n杨铁心问道：“这四句诗，说的又是甚么故事？”\\n\\n张十五道：“那倒不是故事。\\n\\n说的是我大宋君臣只顾在西湖边上饮酒作乐，观赏歌舞，打算世世代代就把杭州当作京师，再也不想收复失地、回汴梁旧京去了。”\\n\\n张十五喝得醺醺大醉，这才告辞，脚步踉跄，向东往临安而去，只听他口中独自喃喃的念着岳飞那首《满江红》中的句子：“靖康耻，犹未雪；臣子恨，何时灭？\\n\\n驾长车……”郭啸天付了酒钱，和杨铁心并肩回家。\\n\\n他两人比邻而居，行得十余丈，便到了家门口。\\n\\n郭啸天的浑家李氏正在赶鸡入笼，笑道：“哥儿俩又喝饱了酒啦。\\n\\n杨叔叔，你跟嫂子一起来我家吃饭吧，咱们宰一只鸡。”\\n\\n杨铁心笑道：“好，今晚又扰嫂子了。', metadata={'source': '/Users/tanzhehao/Downloads/第一回.txt'}),\n",
       " 'd40807b4-1282-458b-a138-964b2c7d80f7': Document(page_content='张十五喝得醺醺大醉，这才告辞，脚步踉跄，向东往临安而去，只听他口中独自喃喃的念着岳飞那首《满江红》中的句子：“靖康耻，犹未雪；臣子恨，何时灭？\\n\\n驾长车……”郭啸天付了酒钱，和杨铁心并肩回家。\\n\\n他两人比邻而居，行得十余丈，便到了家门口。\\n\\n郭啸天的浑家李氏正在赶鸡入笼，笑道：“哥儿俩又喝饱了酒啦。\\n\\n杨叔叔，你跟嫂子一起来我家吃饭吧，咱们宰一只鸡。”\\n\\n杨铁心笑道：“好，今晚又扰嫂子了。\\n\\n我家里那个养了这许多鸡鸭，只是白费粮食，不舍得杀他一只两只，老是来吃你的。”\\n\\n李氏道：“你嫂子就是心好，说这些鸡鸭从小养大的，说甚么也狠不下心来杀了。”\\n\\n杨铁心笑道：“我说让我来杀，她就要哭哭啼啼的，也真好笑。\\n\\n今儿晚我去打些野味，明儿还请大哥大嫂。”\\n\\n郭啸天道：“自己兄弟，说甚么还请不还请？\\n\\n今儿晚咱哥儿一起去打。”', metadata={'source': '/Users/tanzhehao/Downloads/第一回.txt'}),\n",
       " '621d5e38-c2be-4f87-8166-3d5aee1f7057': Document(page_content='杨铁心笑道：“好，今晚又扰嫂子了。\\n\\n我家里那个养了这许多鸡鸭，只是白费粮食，不舍得杀他一只两只，老是来吃你的。”\\n\\n李氏道：“你嫂子就是心好，说这些鸡鸭从小养大的，说甚么也狠不下心来杀了。”\\n\\n杨铁心笑道：“我说让我来杀，她就要哭哭啼啼的，也真好笑。\\n\\n今儿晚我去打些野味，明儿还请大哥大嫂。”\\n\\n郭啸天道：“自己兄弟，说甚么还请不还请？\\n\\n今儿晚咱哥儿一起去打。”\\n\\n当晚三更时分，郭杨二人躲在村西七里的树林子中，手里拿着弓箭猎叉，只盼有只野猪或是黄麖夜里出来觅食。\\n\\n两人已等了一个多时辰，始终没听到有何声息。\\n\\n正有些不耐烦了，忽听得林外传来一阵铎铎铎之声，两人心中一凛，均觉奇怪：“这是甚么？”\\n\\n就在此时，忽听得远处有几人大声吆喝：“往哪里走？”\\n\\n“快给我站住！”', metadata={'source': '/Users/tanzhehao/Downloads/第一回.txt'}),\n",
       " 'c1782415-070a-43f2-a8d1-0a5489d68c13': Document(page_content='郭啸天道：“自己兄弟，说甚么还请不还请？\\n\\n今儿晚咱哥儿一起去打。”\\n\\n当晚三更时分，郭杨二人躲在村西七里的树林子中，手里拿着弓箭猎叉，只盼有只野猪或是黄麖夜里出来觅食。\\n\\n两人已等了一个多时辰，始终没听到有何声息。\\n\\n正有些不耐烦了，忽听得林外传来一阵铎铎铎之声，两人心中一凛，均觉奇怪：“这是甚么？”\\n\\n就在此时，忽听得远处有几人大声吆喝：“往哪里走？”\\n\\n“快给我站住！”\\n\\n接着黑影晃动，一人闪进林中，月光照在他身上，郭杨二人看得分明，不由得大奇，原来那人撑着两根拐杖，却是村头开小酒店的那个跛子曲三。\\n\\n只见他左拐在地下一撑，发出铎的一声，便即飞身而起，躲在树后，这一下实是高明之极的轻身功夫。\\n\\n郭杨两人不约而同的伸出一手，互握了一下，心中均是惊诧万分：“我们在牛家村住了三年，全不知这跛子曲三武功竟然如此了得！”\\n\\n当下躲在长草之中，不敢稍动。', metadata={'source': '/Users/tanzhehao/Downloads/第一回.txt'}),\n",
       " 'f6a1f28f-385a-4c1e-a67a-f3e079736cac': Document(page_content='“快给我站住！”\\n\\n接着黑影晃动，一人闪进林中，月光照在他身上，郭杨二人看得分明，不由得大奇，原来那人撑着两根拐杖，却是村头开小酒店的那个跛子曲三。\\n\\n只见他左拐在地下一撑，发出铎的一声，便即飞身而起，躲在树后，这一下实是高明之极的轻身功夫。\\n\\n郭杨两人不约而同的伸出一手，互握了一下，心中均是惊诧万分：“我们在牛家村住了三年，全不知这跛子曲三武功竟然如此了得！”\\n\\n当下躲在长草之中，不敢稍动。\\n\\n只听得脚步声响，三个人追到林边，低声商议了几句，便一步步的踏入林来。\\n\\n只见三人都是武官装束，手中青光闪烁，各握着一柄单刀。\\n\\n一人大声喝道：“兀那跛子，老子见到你了，还不跪下投降？”曲三却只是躲在树后不动。\\n\\n三名武官挥动单刀，呼呼虚劈，渐渐走近，突然间波的一声，曲三右拐从树后戳出，正中一名武官胸口，势道甚是劲急。\\n\\n那武官一下闷哼，便向后飞了出去，摔在地下。', metadata={'source': '/Users/tanzhehao/Downloads/第一回.txt'}),\n",
       " 'f29aef2b-42b4-4857-a0b7-ae329426b56d': Document(page_content='当下躲在长草之中，不敢稍动。\\n\\n只听得脚步声响，三个人追到林边，低声商议了几句，便一步步的踏入林来。\\n\\n只见三人都是武官装束，手中青光闪烁，各握着一柄单刀。\\n\\n一人大声喝道：“兀那跛子，老子见到你了，还不跪下投降？”曲三却只是躲在树后不动。\\n\\n三名武官挥动单刀，呼呼虚劈，渐渐走近，突然间波的一声，曲三右拐从树后戳出，正中一名武官胸口，势道甚是劲急。\\n\\n那武官一下闷哼，便向后飞了出去，摔在地下。\\n\\n另外两名武官挥动单刀，向曲三砍去。\\n\\n曲三右拐在地下一撑，向左跃开数尺，避开了两柄单刀，左拐向一名武官面门点去。\\n\\n那武官武功也自不弱，挺刀挡架。\\n\\n曲三不让他单刀碰到拐杖，左拐收回着地，右拐扫向另一名武官腰间。\\n\\n只见他双拐此起彼落，快速无伦，虽然一拐须得撑地支持身子，只余一拐空出来对敌，却是丝毫不落下风。', metadata={'source': '/Users/tanzhehao/Downloads/第一回.txt'}),\n",
       " '4a13799b-db28-4ff6-8db4-12e3507b84b5': Document(page_content='那武官一下闷哼，便向后飞了出去，摔在地下。\\n\\n另外两名武官挥动单刀，向曲三砍去。\\n\\n曲三右拐在地下一撑，向左跃开数尺，避开了两柄单刀，左拐向一名武官面门点去。\\n\\n那武官武功也自不弱，挺刀挡架。\\n\\n曲三不让他单刀碰到拐杖，左拐收回着地，右拐扫向另一名武官腰间。\\n\\n只见他双拐此起彼落，快速无伦，虽然一拐须得撑地支持身子，只余一拐空出来对敌，却是丝毫不落下风。\\n\\n郭杨二人见他背上负着一个包裹，甚是累赘，斗了一会，一名武官钢刀砍去，削在他包裹之上，当啷一声，包裹破裂，散出无数物事。\\n\\n曲三乘他欢喜大叫之际，右拐挥出，拍的一声，一名武官顶门中拐，扑地倒了。\\n\\n余下那人大骇，转身便逃。\\n\\n他脚步甚快，顷刻间奔出数丈。\\n\\n曲三右手往怀中一掏，跟着扬手，月光下只见一块圆盘似的黑物飞将出去，托的一下轻响，嵌入了那武官后脑。', metadata={'source': '/Users/tanzhehao/Downloads/第一回.txt'}),\n",
       " '7ed9317f-cbd4-4992-a704-c775efd80e71': Document(page_content='郭杨二人见他背上负着一个包裹，甚是累赘，斗了一会，一名武官钢刀砍去，削在他包裹之上，当啷一声，包裹破裂，散出无数物事。\\n\\n曲三乘他欢喜大叫之际，右拐挥出，拍的一声，一名武官顶门中拐，扑地倒了。\\n\\n余下那人大骇，转身便逃。\\n\\n他脚步甚快，顷刻间奔出数丈。\\n\\n曲三右手往怀中一掏，跟着扬手，月光下只见一块圆盘似的黑物飞将出去，托的一下轻响，嵌入了那武官后脑。\\n\\n那武官惨声长叫，单刀脱手飞出，双手乱舞，仰天缓缓倒下，扭转了几下，就此不动，眼见是不能活了。\\n\\n郭杨二人见跛子曲三于顷刻之间连毙三人，武功之高，生平从来未见，心中都是怦怦乱跳，大气也不敢喘上一口，均想：“这人击杀命官，犯下了滔天大罪。\\n\\n我们若是给他发觉，只怕他要杀人灭口，我兄弟俩可万万不是敌手。”\\n\\n却见曲三转过身来，缓缓说道：“郭兄，杨兄，请出来吧！”\\n\\n郭杨二人大吃一惊，只得从草丛中长身而起，手中紧紧握住了猎叉。', metadata={'source': '/Users/tanzhehao/Downloads/第一回.txt'}),\n",
       " 'da8a6eb3-e4f1-4fc4-a85a-065b26807655': Document(page_content='郭杨二人见跛子曲三于顷刻之间连毙三人，武功之高，生平从来未见，心中都是怦怦乱跳，大气也不敢喘上一口，均想：“这人击杀命官，犯下了滔天大罪。\\n\\n我们若是给他发觉，只怕他要杀人灭口，我兄弟俩可万万不是敌手。”\\n\\n却见曲三转过身来，缓缓说道：“郭兄，杨兄，请出来吧！”\\n\\n郭杨二人大吃一惊，只得从草丛中长身而起，手中紧紧握住了猎叉。\\n\\n杨铁心向郭啸天手中猎叉瞧了一眼，随即踏上两步。\\n\\n曲三微笑道：“杨兄，你使杨家枪法，这猎叉还将就用得。\\n\\n你义兄使的是一对短戟，兵刃可太不就手了，因此你挡在他身前。\\n\\n好好，有义气！”\\n\\n杨铁心给他说穿了心事，不由得有些手足无措。\\n\\n曲三又道：“郭兄，就算你有双戟在手，你们两位合力，斗得过我吗？”\\n\\n郭啸天摇头道：“斗不过！\\n\\n我兄弟俩当真有眼无珠，跟你老兄在牛家村同住了这么些年，全没瞧出你老兄是一位身怀绝技的高手。”', metadata={'source': '/Users/tanzhehao/Downloads/第一回.txt'}),\n",
       " 'a5bd333c-ae51-495f-9387-b7bb8a414d9e': Document(page_content='曲三微笑道：“杨兄，你使杨家枪法，这猎叉还将就用得。\\n\\n你义兄使的是一对短戟，兵刃可太不就手了，因此你挡在他身前。\\n\\n好好，有义气！”\\n\\n杨铁心给他说穿了心事，不由得有些手足无措。\\n\\n曲三又道：“郭兄，就算你有双戟在手，你们两位合力，斗得过我吗？”\\n\\n郭啸天摇头道：“斗不过！\\n\\n我兄弟俩当真有眼无珠，跟你老兄在牛家村同住了这么些年，全没瞧出你老兄是一位身怀绝技的高手。”\\n\\n曲三摇摇头，叹了口气，说道：“我双腿已废，还说得上甚么绝技不绝技？”\\n\\n似乎十分的意兴阑珊，又道：“若在当年，要料理这三个宫中的带刀侍卫，又怎用得着如此费事？\\n\\n唉，不中用了，不中用了。”\\n\\n郭杨二人对望一眼，不敢接口。\\n\\n曲三道：“请两位帮我跛子一个忙，将这三具尸首埋了，行不行？”\\n\\n郭杨二人又对望一眼，杨铁心道：“行！”\\n\\n二人用猎叉在地下掘了个大坑，将三具尸体搬入。', metadata={'source': '/Users/tanzhehao/Downloads/第一回.txt'}),\n",
       " 'c5a43e0f-5d62-4472-b02e-d37aa40f36ec': Document(page_content='曲三摇摇头，叹了口气，说道：“我双腿已废，还说得上甚么绝技不绝技？”\\n\\n似乎十分的意兴阑珊，又道：“若在当年，要料理这三个宫中的带刀侍卫，又怎用得着如此费事？\\n\\n唉，不中用了，不中用了。”\\n\\n郭杨二人对望一眼，不敢接口。\\n\\n曲三道：“请两位帮我跛子一个忙，将这三具尸首埋了，行不行？”\\n\\n郭杨二人又对望一眼，杨铁心道：“行！”\\n\\n二人用猎叉在地下掘了个大坑，将三具尸体搬入。\\n\\n搬到最后一具时，杨铁心见那个黑色的盘形之物兀自嵌在那武官后脑，深入数寸，于是右手运劲，拔了出来，着手重甸甸地，原来是个铁铸的八卦，在尸身上拭去了血渍，拿过去交给曲三。\\n\\n曲三道：“劳驾！”\\n\\n将铁八卦收入囊中，解下外袍摊在地下，捡起散落的各物，一一放入袍中包起。\\n\\n郭杨二人搬土掩埋尸首，斜眼看去，见有三个长长的卷轴，另有不少亮晶晶的金器玉器。', metadata={'source': '/Users/tanzhehao/Downloads/第一回.txt'}),\n",
       " 'f3917832-0cee-4688-9455-7c74bf4fd686': Document(page_content='二人用猎叉在地下掘了个大坑，将三具尸体搬入。\\n\\n搬到最后一具时，杨铁心见那个黑色的盘形之物兀自嵌在那武官后脑，深入数寸，于是右手运劲，拔了出来，着手重甸甸地，原来是个铁铸的八卦，在尸身上拭去了血渍，拿过去交给曲三。\\n\\n曲三道：“劳驾！”\\n\\n将铁八卦收入囊中，解下外袍摊在地下，捡起散落的各物，一一放入袍中包起。\\n\\n郭杨二人搬土掩埋尸首，斜眼看去，见有三个长长的卷轴，另有不少亮晶晶的金器玉器。\\n\\n曲三留下一把金壶、一只金杯不包入袍中，分别交给郭杨二人，道：“这些物事，是我去临安皇宫中盗来的。\\n\\n皇帝害苦了百姓，拿他一些从百姓身上搜刮来的金银，算不得是贼赃。\\n\\n这两件金器，转送给了两位。”\\n\\n郭杨二人听说他竟敢到皇宫中去劫盗大内财物，不由得惊呆了，都不敢伸手去接。\\n\\n曲三厉声道：“两位是不敢要呢？\\n\\n还是不肯要？”\\n\\n郭啸天道：“我们无功不受禄，不能受你的东西。', metadata={'source': '/Users/tanzhehao/Downloads/第一回.txt'}),\n",
       " 'd225ed6f-bde3-4341-a078-4ec4f96e5bbb': Document(page_content='曲三留下一把金壶、一只金杯不包入袍中，分别交给郭杨二人，道：“这些物事，是我去临安皇宫中盗来的。\\n\\n皇帝害苦了百姓，拿他一些从百姓身上搜刮来的金银，算不得是贼赃。\\n\\n这两件金器，转送给了两位。”\\n\\n郭杨二人听说他竟敢到皇宫中去劫盗大内财物，不由得惊呆了，都不敢伸手去接。\\n\\n曲三厉声道：“两位是不敢要呢？\\n\\n还是不肯要？”\\n\\n郭啸天道：“我们无功不受禄，不能受你的东西。\\n\\n至于今晚之事，我兄弟俩自然决不泄漏一字半句，老兄尽管放心。”\\n\\n曲三道：\\n\\n“哼，我怕你们泄漏了秘密？\\n\\n你二人的底细，我若非早就查得清清楚楚，今晚岂能容你二位活着离开？\\n\\n郭兄，你是梁山泊好汉地佑星赛仁贵郭盛的后代，使的是家传戟法，只不过变长为短，化单为双。\\n\\n杨兄，你祖上杨再兴是岳爷爷麾下的名将。\\n\\n你二位是忠义之后，北方沦陷，你二人流落江湖，其后八拜为交，义结金兰，一起搬到牛家村来居住。\\n\\n是也不是？”', metadata={'source': '/Users/tanzhehao/Downloads/第一回.txt'}),\n",
       " 'd10b641d-5e83-4aef-87b7-9658002860d5': Document(page_content='曲三道：\\n\\n“哼，我怕你们泄漏了秘密？\\n\\n你二人的底细，我若非早就查得清清楚楚，今晚岂能容你二位活着离开？\\n\\n郭兄，你是梁山泊好汉地佑星赛仁贵郭盛的后代，使的是家传戟法，只不过变长为短，化单为双。\\n\\n杨兄，你祖上杨再兴是岳爷爷麾下的名将。\\n\\n你二位是忠义之后，北方沦陷，你二人流落江湖，其后八拜为交，义结金兰，一起搬到牛家村来居住。\\n\\n是也不是？”\\n\\n郭杨二人听他将自己身世来历说得一清二楚，更是惊讶无比，只得点头称是。\\n\\n曲三道：“你二位的祖宗郭盛和杨再兴，本来都是绿林好汉，后来才归顺朝廷，为大宋出力。\\n\\n劫盗不义之财，你们的祖宗都干过了的。\\n\\n这两件金器，到底收是不收？”\\n\\n杨铁心寻思：“若是不收，定然得罪了他。”\\n\\n只得双手接过，说道：“如此多谢了！”\\n\\n曲三霁然色喜，提起包裹缚在背上，说道：“回家去吧！”\\n\\n当下三人并肩出林。\\n\\n曲三道：', metadata={'source': '/Users/tanzhehao/Downloads/第一回.txt'}),\n",
       " '1e7c649b-788e-4d49-b78c-5e833607af57': Document(page_content='郭杨二人听他将自己身世来历说得一清二楚，更是惊讶无比，只得点头称是。\\n\\n曲三道：“你二位的祖宗郭盛和杨再兴，本来都是绿林好汉，后来才归顺朝廷，为大宋出力。\\n\\n劫盗不义之财，你们的祖宗都干过了的。\\n\\n这两件金器，到底收是不收？”\\n\\n杨铁心寻思：“若是不收，定然得罪了他。”\\n\\n只得双手接过，说道：“如此多谢了！”\\n\\n曲三霁然色喜，提起包裹缚在背上，说道：“回家去吧！”\\n\\n当下三人并肩出林。\\n\\n曲三道：\\n\\n“今晚大有所获，得到了道君皇帝所画的两幅画，又有他写的一张字。\\n\\n这家伙做皇帝不成，翎毛丹青，瘦金体的书法，却委实是妙绝天下。”\\n\\n郭杨二人也不懂甚么叫作“翎毛丹青”与“瘦金体的书法”，只唯唯而应。\\n\\n走了一会，杨铁心道：“日间听那说话的先生言道，我大宋半壁江山，都送在这道君皇帝手里，他画的画、写的字，又是甚么好东西了？\\n\\n老兄何必甘冒大险，巴巴的到皇宫去盗了出来？”', metadata={'source': '/Users/tanzhehao/Downloads/第一回.txt'}),\n",
       " 'e25753cb-ff78-4ef6-8e52-db2c1e107e18': Document(page_content='曲三道：\\n\\n“今晚大有所获，得到了道君皇帝所画的两幅画，又有他写的一张字。\\n\\n这家伙做皇帝不成，翎毛丹青，瘦金体的书法，却委实是妙绝天下。”\\n\\n郭杨二人也不懂甚么叫作“翎毛丹青”与“瘦金体的书法”，只唯唯而应。\\n\\n走了一会，杨铁心道：“日间听那说话的先生言道，我大宋半壁江山，都送在这道君皇帝手里，他画的画、写的字，又是甚么好东西了？\\n\\n老兄何必甘冒大险，巴巴的到皇宫去盗了出来？”\\n\\n曲三微笑道：“这个你就不懂了。”\\n\\n郭啸天道：“这道君皇帝既然画得一笔好画，写得一手好字，定是聪明得很的，只可惜他不专心做皇帝。\\n\\n我小时候听爹爹说，一个人不论学文学武，只能专心做一件事，倘若东也要抓，西也要摸，到头来定然一事无成。”\\n\\n曲三道：“资质寻常之人，当然是这样，可是天下尽有聪明绝顶之人，文才武学，书画琴棋，算数韬略，以至医卜星相，奇门五行，无一不会，无一不精！\\n\\n只不过你们见不着罢了。”', metadata={'source': '/Users/tanzhehao/Downloads/第一回.txt'}),\n",
       " '27eb7e46-dde8-4f38-9d5b-8430aaede96b': Document(page_content='郭啸天道：“这道君皇帝既然画得一笔好画，写得一手好字，定是聪明得很的，只可惜他不专心做皇帝。\\n\\n我小时候听爹爹说，一个人不论学文学武，只能专心做一件事，倘若东也要抓，西也要摸，到头来定然一事无成。”\\n\\n曲三道：“资质寻常之人，当然是这样，可是天下尽有聪明绝顶之人，文才武学，书画琴棋，算数韬略，以至医卜星相，奇门五行，无一不会，无一不精！\\n\\n只不过你们见不着罢了。”\\n\\n说着抬起头来，望着天边一轮残月，长叹一声。\\n\\n月光映照下，郭杨二人见他眼角边忽然渗出了几点泪水。\\n\\n郭杨二人回到家中，将两件金器深深埋入后院地下，对自己妻室也不吐露半句。\\n\\n两人此后一如往日，耕种打猎为生，闲来习练兵器拳脚，便只两人相对之时，也决不提及此事。', metadata={'source': '/Users/tanzhehao/Downloads/第一回.txt'}),\n",
       " 'c5328950-ea2e-47f0-bc0b-5a4c77325ac6': Document(page_content='只不过你们见不着罢了。”\\n\\n说着抬起头来，望着天边一轮残月，长叹一声。\\n\\n月光映照下，郭杨二人见他眼角边忽然渗出了几点泪水。\\n\\n郭杨二人回到家中，将两件金器深深埋入后院地下，对自己妻室也不吐露半句。\\n\\n两人此后一如往日，耕种打猎为生，闲来习练兵器拳脚，便只两人相对之时，也决不提及此事。\\n\\n两人有时也仍去小酒店对饮几壶，那跛子曲三仍是烫上酒来，端来蚕豆、花生等下酒之物，然后一跷一拐的走开，坐在门边，对着大江自管默默想他的心事，那晚林中夜斗，似乎从来就不曾有过。\\n\\n但郭杨二人瞧向他的眼色，自不免带上了几分敬畏之意。\\n\\n秋尽冬来，过一天冷似一天。\\n\\n这一日晚间刮了半夜北风，便下起雪来。\\n\\n第二日下得更大，银絮飞天，琼瑶匝地，四下里都白茫茫的。\\n\\n杨铁心跟浑家包氏说了，今晚整治酒肴，请义兄夫妇过来饮酒赏雪。', metadata={'source': '/Users/tanzhehao/Downloads/第一回.txt'}),\n",
       " 'adcae34c-bf04-448a-bdb1-5ea57bda46df': Document(page_content='但郭杨二人瞧向他的眼色，自不免带上了几分敬畏之意。\\n\\n秋尽冬来，过一天冷似一天。\\n\\n这一日晚间刮了半夜北风，便下起雪来。\\n\\n第二日下得更大，银絮飞天，琼瑶匝地，四下里都白茫茫的。\\n\\n杨铁心跟浑家包氏说了，今晚整治酒肴，请义兄夫妇过来饮酒赏雪。\\n\\n吃过中饭后，他提了两个大葫芦，到村头酒店去沽酒，到得店前，却见一对板门关得紧紧地，酒帘也收了起来。\\n\\n杨铁心打了几下门，叫道：“曲三哥，跟你沽三斤酒。”\\n\\n却不听得应声。\\n\\n隔了一会，他又叫了几声，屋内仍无应声，走到窗边向内一张，只见桌上灰尘积得厚厚地，心想：“几天没到村头来，原来曲三已有几天不在家了。\\n\\n可别出了事才好。”\\n\\n当下只得冲风冒雪，到五里外的红梅村去买了酒，就便又买了一只鸡，回到家来，把鸡杀了，请浑家整治。\\n\\n他浑家包氏，闺名惜弱，便是红梅村私塾中教书先生的女儿，嫁给杨铁心还不到两年。', metadata={'source': '/Users/tanzhehao/Downloads/第一回.txt'}),\n",
       " '36b5e37d-2d58-48a2-81c0-5628d8211b06': Document(page_content='却不听得应声。\\n\\n隔了一会，他又叫了几声，屋内仍无应声，走到窗边向内一张，只见桌上灰尘积得厚厚地，心想：“几天没到村头来，原来曲三已有几天不在家了。\\n\\n可别出了事才好。”\\n\\n当下只得冲风冒雪，到五里外的红梅村去买了酒，就便又买了一只鸡，回到家来，把鸡杀了，请浑家整治。\\n\\n他浑家包氏，闺名惜弱，便是红梅村私塾中教书先生的女儿，嫁给杨铁心还不到两年。\\n\\n当晚包氏将一只鸡和着白菜、豆腐、粉丝放入一只大瓦罐中，在炭火上熬着，再切了一盘腊鱼腊肉。\\n\\n到得傍晚，到隔壁去请郭啸天夫妇饮酒。\\n\\n郭啸天欣然过来。\\n\\n他浑家李氏却因有了身孕，这几日只是呕酸，吃了东西就吐，便推辞不来。\\n\\n李氏的闺名单字一个萍字，包惜弱和她有如姊妹一般，两人在房中说了好一阵子话。\\n\\n包惜弱给她泡了一壶热茶，这才回家来张罗，却见丈夫和郭啸天把炭炉搬在桌上，烫了酒，两人早在吃喝了。\\n\\n郭啸天道：“弟妹，我们不等你了。\\n\\n快来请坐。”', metadata={'source': '/Users/tanzhehao/Downloads/第一回.txt'}),\n",
       " '046ff4c1-225b-4628-8851-468041a580ba': Document(page_content='到得傍晚，到隔壁去请郭啸天夫妇饮酒。\\n\\n郭啸天欣然过来。\\n\\n他浑家李氏却因有了身孕，这几日只是呕酸，吃了东西就吐，便推辞不来。\\n\\n李氏的闺名单字一个萍字，包惜弱和她有如姊妹一般，两人在房中说了好一阵子话。\\n\\n包惜弱给她泡了一壶热茶，这才回家来张罗，却见丈夫和郭啸天把炭炉搬在桌上，烫了酒，两人早在吃喝了。\\n\\n郭啸天道：“弟妹，我们不等你了。\\n\\n快来请坐。”\\n\\n郭杨二人交好，又都是豪杰之士，乡下人家更不讲究甚么男女避嫌的礼法。\\n\\n包惜弱微笑答应，在炭炉中添了些炭，拿一只酒杯来斟了酒，坐在丈夫下首，见两人脸上都是气忿忿地，笑问：“又有甚么事，惹得哥儿俩生气了？”\\n\\n杨铁心道：“我们正在说临安朝廷中的混帐事。”\\n\\n郭啸天道：“昨儿我在众安桥头喜雨阁茶楼，听人谈到韩胄这贼宰相的事。\\n\\n那人说得有头有尾，想来不假。', metadata={'source': '/Users/tanzhehao/Downloads/第一回.txt'}),\n",
       " '4ea20d58-8cff-4d78-b0c9-a61cbc209501': Document(page_content='快来请坐。”\\n\\n郭杨二人交好，又都是豪杰之士，乡下人家更不讲究甚么男女避嫌的礼法。\\n\\n包惜弱微笑答应，在炭炉中添了些炭，拿一只酒杯来斟了酒，坐在丈夫下首，见两人脸上都是气忿忿地，笑问：“又有甚么事，惹得哥儿俩生气了？”\\n\\n杨铁心道：“我们正在说临安朝廷中的混帐事。”\\n\\n郭啸天道：“昨儿我在众安桥头喜雨阁茶楼，听人谈到韩胄这贼宰相的事。\\n\\n那人说得有头有尾，想来不假。\\n\\n他说不论哪一个官员上书禀报，公文上要是不注明‘并献某某物’的字样，这贼宰相压根儿就不瞧他的文书。”\\n\\n杨铁心叹道：“有这样的皇帝，就有这样的宰相；有这样的宰相，就有这样的官吏。\\n\\n临安涌金门外的黄大哥跟我说，有一日他正在山边砍柴，忽然见到大批官兵拥着一群官儿们过来，却是韩宰相带了百官到郊外游乐，他自管砍柴，也不理会。\\n\\n忽听得那韩胄叹道：‘这里竹篱茅舍，真是绝妙的山野风光，就可惜少了些鸡鸣犬吠之声！’', metadata={'source': '/Users/tanzhehao/Downloads/第一回.txt'}),\n",
       " '2b868ad1-79a4-4a94-8fcb-0ea944c2dade': Document(page_content='杨铁心叹道：“有这样的皇帝，就有这样的宰相；有这样的宰相，就有这样的官吏。\\n\\n临安涌金门外的黄大哥跟我说，有一日他正在山边砍柴，忽然见到大批官兵拥着一群官儿们过来，却是韩宰相带了百官到郊外游乐，他自管砍柴，也不理会。\\n\\n忽听得那韩胄叹道：‘这里竹篱茅舍，真是绝妙的山野风光，就可惜少了些鸡鸣犬吠之声！’\\n\\n他话刚说完不久，忽然草丛里汪汪汪的叫了起来。”\\n\\n包惜弱笑道：“这狗儿倒会凑趣！”\\n\\n杨铁心道：“是啊，真会凑趣。\\n\\n那狗子叫了一会，从草里钻将出来，你道是甚么狗子？\\n\\n却原来是咱们临安府的堂堂府尹赵大人。”\\n\\n包惜弱笑弯了腰，直叫：“啊哟！”\\n\\n郭啸天道：“赵大人这一扮狗叫，指日就要高升。”\\n\\n杨铁心道：“这个自然。”\\n\\n三人喝了一会酒，只见门外雪下得更大了。\\n\\n热酒下肚，三人身上都觉得暖烘烘的，忽听得东边大路上传来一阵踏雪之声，脚步起落极快，三人转头望去，却见是个道士。', metadata={'source': '/Users/tanzhehao/Downloads/第一回.txt'}),\n",
       " '46f71db9-3eed-4499-9349-bcbac90309bf': Document(page_content='杨铁心道：“是啊，真会凑趣。\\n\\n那狗子叫了一会，从草里钻将出来，你道是甚么狗子？\\n\\n却原来是咱们临安府的堂堂府尹赵大人。”\\n\\n包惜弱笑弯了腰，直叫：“啊哟！”\\n\\n郭啸天道：“赵大人这一扮狗叫，指日就要高升。”\\n\\n杨铁心道：“这个自然。”\\n\\n三人喝了一会酒，只见门外雪下得更大了。\\n\\n热酒下肚，三人身上都觉得暖烘烘的，忽听得东边大路上传来一阵踏雪之声，脚步起落极快，三人转头望去，却见是个道士。\\n\\n那道士头戴斗笠，身披蓑衣，全身罩满了白雪，背上斜插一柄长剑，剑把上黄色丝条在风中左右飞扬，风雪满天，大步独行，实在气概非凡。\\n\\n郭啸天道：“这道士身上很有功夫，看来也是条好汉。\\n\\n只没个名堂，不好请教。”\\n\\n杨铁心道：“不错，咱们请他进来喝几杯，交交这个朋友。”\\n\\n两人都生性好客，当即离座出门，却见那道人走得好快，晃眼之间已在十余丈外，却也不是发足奔跑，如此轻功，实所罕见。', metadata={'source': '/Users/tanzhehao/Downloads/第一回.txt'}),\n",
       " '40f94b1a-da2f-446b-a846-c972654adb6e': Document(page_content='那道士头戴斗笠，身披蓑衣，全身罩满了白雪，背上斜插一柄长剑，剑把上黄色丝条在风中左右飞扬，风雪满天，大步独行，实在气概非凡。\\n\\n郭啸天道：“这道士身上很有功夫，看来也是条好汉。\\n\\n只没个名堂，不好请教。”\\n\\n杨铁心道：“不错，咱们请他进来喝几杯，交交这个朋友。”\\n\\n两人都生性好客，当即离座出门，却见那道人走得好快，晃眼之间已在十余丈外，却也不是发足奔跑，如此轻功，实所罕见。\\n\\n两人对望了一眼，都感惊异。\\n\\n杨铁心扬声大叫：“道长，请留步！”\\n\\n喊声甫歇，那道人倏地回身，点了点头。\\n\\n杨铁心道：“天冻大雪，道长何不过来饮几杯解解寒气？”\\n\\n那道人冷笑一声，健步如飞，顷刻间来到门外，脸上满是鄙夷不屑之色，冷然道：“叫我留步，是何居心？\\n\\n爽爽快快说出来罢！”\\n\\n杨铁心心想我们好意请你喝酒，你这道人却恁地无礼，当下扬头不睬。', metadata={'source': '/Users/tanzhehao/Downloads/第一回.txt'}),\n",
       " 'f018d098-8894-4d9d-8ad8-ebfec5961198': Document(page_content='两人对望了一眼，都感惊异。\\n\\n杨铁心扬声大叫：“道长，请留步！”\\n\\n喊声甫歇，那道人倏地回身，点了点头。\\n\\n杨铁心道：“天冻大雪，道长何不过来饮几杯解解寒气？”\\n\\n那道人冷笑一声，健步如飞，顷刻间来到门外，脸上满是鄙夷不屑之色，冷然道：“叫我留步，是何居心？\\n\\n爽爽快快说出来罢！”\\n\\n杨铁心心想我们好意请你喝酒，你这道人却恁地无礼，当下扬头不睬。\\n\\n郭啸天抱拳道：“我们兄弟正自烤火饮酒，见道长冒寒独行，斗胆相邀，冲撞莫怪。”\\n\\n那道人双眼一翻，朗声道：“好好好，喝酒就喝酒！”\\n\\n大踏步进来。\\n\\n杨铁心更是气恼，伸手一把抓住他左腕，往外一带，喝道：“还没请教道长法号。”\\n\\n斗然间忽觉那道人的手滑如游鱼，竟从自己手掌中溜出，知道不妙，正待退开，突然手腕上一紧，已被那道人反手抓住，霎时之间，便似被一个铁圈牢牢箍住，又疼又热，急忙运劲抵御，哪知整条右臂已然酸麻无力，腕上奇痛彻骨。', metadata={'source': '/Users/tanzhehao/Downloads/第一回.txt'}),\n",
       " 'f69d1cf8-9c16-44df-a502-9b13e2418773': Document(page_content='那道人双眼一翻，朗声道：“好好好，喝酒就喝酒！”\\n\\n大踏步进来。\\n\\n杨铁心更是气恼，伸手一把抓住他左腕，往外一带，喝道：“还没请教道长法号。”\\n\\n斗然间忽觉那道人的手滑如游鱼，竟从自己手掌中溜出，知道不妙，正待退开，突然手腕上一紧，已被那道人反手抓住，霎时之间，便似被一个铁圈牢牢箍住，又疼又热，急忙运劲抵御，哪知整条右臂已然酸麻无力，腕上奇痛彻骨。\\n\\n郭啸天见义弟忽然满脸胀得通红，知他吃亏，心想本是好意结交，倘若贸然动手，反得罪了江湖好汉，忙抢过去道：“道长请这边坐！”\\n\\n那道人又是冷笑两声，放脱了杨铁心的手腕，走到堂上，大模大样的居中而坐，说道：“你们两个明明是山东大汉，却躲在这里假扮临安乡农，只可惜满口山东话却改不了。\\n\\n庄稼汉又怎会功夫？”\\n\\n杨铁心又窘又怒，走进内室，在抽屉里取了一柄匕首，放在怀里，这才回到内堂上，筛了三杯酒，自己干了一杯，默然不语。', metadata={'source': '/Users/tanzhehao/Downloads/第一回.txt'}),\n",
       " '43cb3728-a5d0-4185-9149-32fde69f8a73': Document(page_content='那道人又是冷笑两声，放脱了杨铁心的手腕，走到堂上，大模大样的居中而坐，说道：“你们两个明明是山东大汉，却躲在这里假扮临安乡农，只可惜满口山东话却改不了。\\n\\n庄稼汉又怎会功夫？”\\n\\n杨铁心又窘又怒，走进内室，在抽屉里取了一柄匕首，放在怀里，这才回到内堂上，筛了三杯酒，自己干了一杯，默然不语。\\n\\n那道人望着门外大雪，既不饮酒，也不说话，只是微微冷笑。\\n\\n郭啸天见他满脸敌意，知他定是疑心酒中作了手脚，取过道人面前酒杯，将杯中酒一口干了，说道：“酒冷得快，给道长换一杯热的。”\\n\\n说着又斟了一杯，那道人接过一口喝了，说道：“酒里就是有蒙汗药，也迷我不倒。”\\n\\n杨铁心更是焦躁，发作道：“我们好意请你饮酒，难道起心害你？\\n\\n你这道人说话不三不四，快请出去吧。\\n\\n我们的酒不会酸了，菜又不会臭了没人吃。”\\n\\n那道人“哼”了一声，也不理会，取过酒壶，自斟自酌，连干三杯，忽地解下蓑衣斗笠，抛在地下。', metadata={'source': '/Users/tanzhehao/Downloads/第一回.txt'}),\n",
       " '31c6fd49-79cd-40d9-a813-63950922bd99': Document(page_content='说着又斟了一杯，那道人接过一口喝了，说道：“酒里就是有蒙汗药，也迷我不倒。”\\n\\n杨铁心更是焦躁，发作道：“我们好意请你饮酒，难道起心害你？\\n\\n你这道人说话不三不四，快请出去吧。\\n\\n我们的酒不会酸了，菜又不会臭了没人吃。”\\n\\n那道人“哼”了一声，也不理会，取过酒壶，自斟自酌，连干三杯，忽地解下蓑衣斗笠，抛在地下。\\n\\n杨郭两人细看时，只见他三十余岁年纪，双眉斜飞，脸色红润，方面大耳，目光炯炯照人。\\n\\n他跟着解下背上革囊，往桌上一倒，咚的一声，杨郭二人都跳起身来。\\n\\n原来革囊中滚出来的，竟是一个血肉模糊的人头。\\n\\n包惜弱惊叫：“哎唷！”\\n\\n逃进了内堂。\\n\\n杨铁心伸手去摸怀中匕首，那道人将革囊又是一抖，跌出两团血肉模糊的东西来，一个是心，一个是肝，看来不像是猪心猪肝，只怕便是人心人肝。\\n\\n杨铁心喝道：“好贼道！”\\n\\n匕首出怀，疾向那道人胸口刺去。\\n\\n道人冷笑道：“鹰爪子，动手了吗？”', metadata={'source': '/Users/tanzhehao/Downloads/第一回.txt'}),\n",
       " '623f6f0e-80ea-4ad9-8d49-8c9f9e95a0e0': Document(page_content='他跟着解下背上革囊，往桌上一倒，咚的一声，杨郭二人都跳起身来。\\n\\n原来革囊中滚出来的，竟是一个血肉模糊的人头。\\n\\n包惜弱惊叫：“哎唷！”\\n\\n逃进了内堂。\\n\\n杨铁心伸手去摸怀中匕首，那道人将革囊又是一抖，跌出两团血肉模糊的东西来，一个是心，一个是肝，看来不像是猪心猪肝，只怕便是人心人肝。\\n\\n杨铁心喝道：“好贼道！”\\n\\n匕首出怀，疾向那道人胸口刺去。\\n\\n道人冷笑道：“鹰爪子，动手了吗？”\\n\\n左手掌缘在他手腕上一击。\\n\\n杨铁心腕上一阵酸麻，五指登时无力，匕首已被他夹手夺去。\\n\\n郭啸天在旁看得大惊，心想义弟是名将之后，家传的武艺，平日较量武功，自己尚稍逊他一筹，这道人却竟视他有如无物，刚才这一手显然是江湖上相传的“空手夺白刃”绝技，这功夫只曾听闻，可从来没见过，当下惟恐义弟受伤，俯身举起板凳，只待道人匕首刺来，就举凳去挡。', metadata={'source': '/Users/tanzhehao/Downloads/第一回.txt'}),\n",
       " 'cb2cf382-f9d9-4daa-b7f0-468958802e29': Document(page_content='道人冷笑道：“鹰爪子，动手了吗？”\\n\\n左手掌缘在他手腕上一击。\\n\\n杨铁心腕上一阵酸麻，五指登时无力，匕首已被他夹手夺去。\\n\\n郭啸天在旁看得大惊，心想义弟是名将之后，家传的武艺，平日较量武功，自己尚稍逊他一筹，这道人却竟视他有如无物，刚才这一手显然是江湖上相传的“空手夺白刃”绝技，这功夫只曾听闻，可从来没见过，当下惟恐义弟受伤，俯身举起板凳，只待道人匕首刺来，就举凳去挡。\\n\\n谁知那道人并不理会，拿起匕首一阵乱剁，把人心人肝切成碎块，跟着一声长啸，声震屋瓦，提起右手，一掌劈将下来，腾的一声，桌上酒杯菜盆都震得跳了起来，看那人头时，已被他手掌击得头骨碎裂，连桌子中间也裂开一条大缝。\\n\\n两人正自惊疑不定，那道人喝道：“无耻鼠辈，道爷今日大开杀戒了！”\\n\\n杨铁心怒极，哪里还忍耐得住，抄起靠在屋角里的铁枪，抢到门外雪地里，叫道：“来来来，教你知通杨家枪法的厉害。”', metadata={'source': '/Users/tanzhehao/Downloads/第一回.txt'}),\n",
       " 'c5b61a91-f51a-4a71-b385-9d8f0b286ff0': Document(page_content='谁知那道人并不理会，拿起匕首一阵乱剁，把人心人肝切成碎块，跟着一声长啸，声震屋瓦，提起右手，一掌劈将下来，腾的一声，桌上酒杯菜盆都震得跳了起来，看那人头时，已被他手掌击得头骨碎裂，连桌子中间也裂开一条大缝。\\n\\n两人正自惊疑不定，那道人喝道：“无耻鼠辈，道爷今日大开杀戒了！”\\n\\n杨铁心怒极，哪里还忍耐得住，抄起靠在屋角里的铁枪，抢到门外雪地里，叫道：“来来来，教你知通杨家枪法的厉害。”\\n\\n那道人微微冷笑，说道：“凭你这为虎作伥的公门鼠辈也配使杨家枪！”\\n\\n纵身出门。\\n\\n郭啸天见情势不妙，奔回家去提了双戟，只见那道人也不拔剑，站在当地，袍袖在朔风里猎猎作响。\\n\\n杨铁心喝道：“拔剑吧！”\\n\\n那道人道：“你两个鼠辈一齐上来，道爷也只是空手对付。”\\n\\n杨铁心使个旗鼓，一招“毒龙出洞”，枪上红缨抖动，卷起碗大枪花，往道人心口直搠过去。\\n\\n那道人一怔，赞道：“好！”', metadata={'source': '/Users/tanzhehao/Downloads/第一回.txt'}),\n",
       " '510a1116-3728-40f3-9cc5-da3354907686': Document(page_content='那道人微微冷笑，说道：“凭你这为虎作伥的公门鼠辈也配使杨家枪！”\\n\\n纵身出门。\\n\\n郭啸天见情势不妙，奔回家去提了双戟，只见那道人也不拔剑，站在当地，袍袖在朔风里猎猎作响。\\n\\n杨铁心喝道：“拔剑吧！”\\n\\n那道人道：“你两个鼠辈一齐上来，道爷也只是空手对付。”\\n\\n杨铁心使个旗鼓，一招“毒龙出洞”，枪上红缨抖动，卷起碗大枪花，往道人心口直搠过去。\\n\\n那道人一怔，赞道：“好！”\\n\\n身随枪走，避向左侧，左掌翻转，径自来抓枪头。\\n\\n杨铁心在这杆枪上曾苦下幼功，深得祖传技艺。\\n\\n要知杨家枪非间小可，当年杨再兴凭一杆铁枪，率领三百宋兵在小商桥大战金兵四万，奋力杀死敌兵二千余名，刺杀万户长撒八孛堇、千户长、百户长一百余人，其时金兵箭来如画，他身上每中一只敌箭，随手折断箭干再战，最后马陷泥中，这才力战殉国。\\n\\n金兵焚烧他的尸身，竟烧出铁箭头二升有余。\\n\\n这一仗杀得金兵又敬又怕，杨家枪法威震中原。', metadata={'source': '/Users/tanzhehao/Downloads/第一回.txt'}),\n",
       " '5d9054ed-fa5e-48e2-a249-4d77095b8dea': Document(page_content='杨铁心在这杆枪上曾苦下幼功，深得祖传技艺。\\n\\n要知杨家枪非间小可，当年杨再兴凭一杆铁枪，率领三百宋兵在小商桥大战金兵四万，奋力杀死敌兵二千余名，刺杀万户长撒八孛堇、千户长、百户长一百余人，其时金兵箭来如画，他身上每中一只敌箭，随手折断箭干再战，最后马陷泥中，这才力战殉国。\\n\\n金兵焚烧他的尸身，竟烧出铁箭头二升有余。\\n\\n这一仗杀得金兵又敬又怕，杨家枪法威震中原。\\n\\n杨铁心虽然不及先祖威勇，却也已颇得枪法心传，只见他攒、刺、打、挑、拦、搠、架、闭，枪尖银光闪闪，枪缨红光点点，好一路枪法！\\n\\n杨铁心把那枪使发了，招数灵动，变幻巧妙。\\n\\n但那道人身随枪走，趋避进退，却哪里刺得着他半分？\\n\\n七十二路杨家枪法堪堪使完，杨铁心不禁焦躁，倒提铁枪，回身便走，那道人果然发足追来。', metadata={'source': '/Users/tanzhehao/Downloads/第一回.txt'}),\n",
       " 'b1ad3c35-ce58-4459-8330-553abe4fe5db': Document(page_content='金兵焚烧他的尸身，竟烧出铁箭头二升有余。\\n\\n这一仗杀得金兵又敬又怕，杨家枪法威震中原。\\n\\n杨铁心虽然不及先祖威勇，却也已颇得枪法心传，只见他攒、刺、打、挑、拦、搠、架、闭，枪尖银光闪闪，枪缨红光点点，好一路枪法！\\n\\n杨铁心把那枪使发了，招数灵动，变幻巧妙。\\n\\n但那道人身随枪走，趋避进退，却哪里刺得着他半分？\\n\\n七十二路杨家枪法堪堪使完，杨铁心不禁焦躁，倒提铁枪，回身便走，那道人果然发足追来。\\n\\n杨铁心大喝一声，双手抓住枪柄，斗然间拧腰纵臂，回身出枪，直刺道人面门，这一枪刚猛狠疾，正是杨家枪法中临阵破敌、屡杀大将的一招“回马枪”。\\n\\n当年杨再兴在降宋之前与岳飞对敌，曾以这一招刺杀岳飞之弟岳翻，端的厉害无比。\\n\\n那道人见一瞬间枪尖已到面门，叫声：“好枪法！”\\n\\n双掌合拢，拍的一声，已把枪尖挟在双掌之间。', metadata={'source': '/Users/tanzhehao/Downloads/第一回.txt'}),\n",
       " 'a27b603c-7cd8-436a-8bfd-f4b125c91415': Document(page_content='七十二路杨家枪法堪堪使完，杨铁心不禁焦躁，倒提铁枪，回身便走，那道人果然发足追来。\\n\\n杨铁心大喝一声，双手抓住枪柄，斗然间拧腰纵臂，回身出枪，直刺道人面门，这一枪刚猛狠疾，正是杨家枪法中临阵破敌、屡杀大将的一招“回马枪”。\\n\\n当年杨再兴在降宋之前与岳飞对敌，曾以这一招刺杀岳飞之弟岳翻，端的厉害无比。\\n\\n那道人见一瞬间枪尖已到面门，叫声：“好枪法！”\\n\\n双掌合拢，拍的一声，已把枪尖挟在双掌之间。\\n\\n杨铁心猛力挺枪往前疾送，竟是纹丝不动，不由得大惊，奋起平生之力往里夺回，枪尖却如已铸在一座铁山之中，哪里更拉得回来？\\n\\n他胀红了脸连夺三下，枪尖始终脱不出对方双掌的挟持。\\n\\n那道人哈哈大笑，右掌忽然提起，快如闪电般在枪身中间一击，格的一声，杨铁心只觉虎口剧痛，急忙撒手，铁枪已摔在雪地之中。\\n\\n那道人笑道：“你使的果然是杨家枪法，得罪了。\\n\\n请教贵姓。”', metadata={'source': '/Users/tanzhehao/Downloads/第一回.txt'}),\n",
       " 'b515f325-cbab-4460-b6d1-057f4bb8e19e': Document(page_content='双掌合拢，拍的一声，已把枪尖挟在双掌之间。\\n\\n杨铁心猛力挺枪往前疾送，竟是纹丝不动，不由得大惊，奋起平生之力往里夺回，枪尖却如已铸在一座铁山之中，哪里更拉得回来？\\n\\n他胀红了脸连夺三下，枪尖始终脱不出对方双掌的挟持。\\n\\n那道人哈哈大笑，右掌忽然提起，快如闪电般在枪身中间一击，格的一声，杨铁心只觉虎口剧痛，急忙撒手，铁枪已摔在雪地之中。\\n\\n那道人笑道：“你使的果然是杨家枪法，得罪了。\\n\\n请教贵姓。”\\n\\n杨铁心惊魂未定，随口答道：“在下姓杨，草字铁心。”\\n\\n道人道：“杨再兴杨将军是阁下祖上吗？”杨铁心道：“那是先曾祖。”\\n\\n那道人肃然起敬，抱拳道：“适才误以为两人乃是歹人，多有得罪，却原来竟是忠良之后，实是失敬，请教这位高姓。”\\n\\n郭啸天道：“在下姓郭，贱字啸天。”\\n\\n杨铁心道：“他是我的义兄，是梁山泊好汉赛仁贵郭盛头领的后人。”\\n\\n那道人道：“贫道可真鲁莽了，这里谢道。”\\n\\n说着又施了一礼。', metadata={'source': '/Users/tanzhehao/Downloads/第一回.txt'}),\n",
       " 'fdcaa1f4-27f2-461e-b520-f876b3907245': Document(page_content='杨铁心惊魂未定，随口答道：“在下姓杨，草字铁心。”\\n\\n道人道：“杨再兴杨将军是阁下祖上吗？”杨铁心道：“那是先曾祖。”\\n\\n那道人肃然起敬，抱拳道：“适才误以为两人乃是歹人，多有得罪，却原来竟是忠良之后，实是失敬，请教这位高姓。”\\n\\n郭啸天道：“在下姓郭，贱字啸天。”\\n\\n杨铁心道：“他是我的义兄，是梁山泊好汉赛仁贵郭盛头领的后人。”\\n\\n那道人道：“贫道可真鲁莽了，这里谢道。”\\n\\n说着又施了一礼。\\n\\n郭啸天与杨铁心一齐还礼，说道：“好说，好说，请道长入内再饮三杯。”\\n\\n杨铁心一面说，一面拾起铁枪。\\n\\n道人笑道：“好！\\n\\n正要与两位喝个痛快！”\\n\\n包惜弱挂念丈夫与人争斗，提心吊胆的站在门口观看，见三人释兵言欢，心中大慰，忙入内整治杯盘。\\n\\n三人坐定，郭杨二人请教道人法号。\\n\\n道人道：“贫道姓丘名处机……”\\n\\n杨铁心叫了一声：\\n\\n“啊也！”\\n\\n跳起身来。', metadata={'source': '/Users/tanzhehao/Downloads/第一回.txt'}),\n",
       " 'b3da5eb9-5db8-49b8-8cf5-b462910298c0': Document(page_content='说着又施了一礼。\\n\\n郭啸天与杨铁心一齐还礼，说道：“好说，好说，请道长入内再饮三杯。”\\n\\n杨铁心一面说，一面拾起铁枪。\\n\\n道人笑道：“好！\\n\\n正要与两位喝个痛快！”\\n\\n包惜弱挂念丈夫与人争斗，提心吊胆的站在门口观看，见三人释兵言欢，心中大慰，忙入内整治杯盘。\\n\\n三人坐定，郭杨二人请教道人法号。\\n\\n道人道：“贫道姓丘名处机……”\\n\\n杨铁心叫了一声：\\n\\n“啊也！”\\n\\n跳起身来。\\n\\n郭啸天也吃了一惊，叫道：“遮莫不是长春子吗？”\\n\\n丘处机笑道：“这是道侣相赠的贱号，贫道愧不敢当。”\\n\\n郭啸天道：“原来是全真派大侠长春子，真是有幸相见。”\\n\\n两人扑地便拜。\\n\\n丘处机急忙扶起，笑道：“今日我手刃了一个奸人，官府追得很紧，两位忽然相招饮酒，这里是帝王之都，两位又不似是寻常乡民，是以起了疑心。”\\n\\n郭啸天道：“我这兄弟性子急躁，进门时试了道长一手，那是更惹道长起疑了。”', metadata={'source': '/Users/tanzhehao/Downloads/第一回.txt'}),\n",
       " '728be394-4a17-4018-a7d4-03247d1f3caf': Document(page_content='跳起身来。\\n\\n郭啸天也吃了一惊，叫道：“遮莫不是长春子吗？”\\n\\n丘处机笑道：“这是道侣相赠的贱号，贫道愧不敢当。”\\n\\n郭啸天道：“原来是全真派大侠长春子，真是有幸相见。”\\n\\n两人扑地便拜。\\n\\n丘处机急忙扶起，笑道：“今日我手刃了一个奸人，官府追得很紧，两位忽然相招饮酒，这里是帝王之都，两位又不似是寻常乡民，是以起了疑心。”\\n\\n郭啸天道：“我这兄弟性子急躁，进门时试了道长一手，那是更惹道长起疑了。”\\n\\n丘处机道：“常人手上哪有如此劲力？\\n\\n我只道两位必是官府的鹰犬，乔装改扮，在此等候，要捉拿贫道。\\n\\n适才言语无礼，实是鲁莽得紧。”\\n\\n杨铁心笑道：“不知不怪。”\\n\\n三人哈哈大笑。\\n\\n三人喝了几杯酒。\\n\\n丘处机指着地下碎裂的人头，说道：“这人名叫王道乾，是个大大的汉奸。\\n\\n去年皇帝派他去向金主庆贺生辰，他竟与金人勾结，图谋侵犯江南。\\n\\n贫道追了他十多天，才把他干了。”', metadata={'source': '/Users/tanzhehao/Downloads/第一回.txt'}),\n",
       " 'dc3157f4-0ba9-49a3-85c2-d7bd6c424bc5': Document(page_content='丘处机道：“常人手上哪有如此劲力？\\n\\n我只道两位必是官府的鹰犬，乔装改扮，在此等候，要捉拿贫道。\\n\\n适才言语无礼，实是鲁莽得紧。”\\n\\n杨铁心笑道：“不知不怪。”\\n\\n三人哈哈大笑。\\n\\n三人喝了几杯酒。\\n\\n丘处机指着地下碎裂的人头，说道：“这人名叫王道乾，是个大大的汉奸。\\n\\n去年皇帝派他去向金主庆贺生辰，他竟与金人勾结，图谋侵犯江南。\\n\\n贫道追了他十多天，才把他干了。”\\n\\n杨郭二人久闻江湖上言道，长春子丘处机武功卓绝，为人侠义，这时见他一片热肠，为国除奸，更是敬仰。\\n\\n两人乘机向他讨教些功夫，丘处机详为点拨。\\n\\n杨家枪法虽是兵家绝技，用于战场上冲锋陷阵，固是所向无敌，当者披靡，但以之与武学高手对敌，毕竟颇为不足。\\n\\n丘处机内外兼修，武功虽然尚未登峰造极，却也已臻甚高境界，杨铁心又如何能与他拆上数十招之多？', metadata={'source': '/Users/tanzhehao/Downloads/第一回.txt'}),\n",
       " '16d460b8-f8cf-41bb-8373-1db018948bcc': Document(page_content='贫道追了他十多天，才把他干了。”\\n\\n杨郭二人久闻江湖上言道，长春子丘处机武功卓绝，为人侠义，这时见他一片热肠，为国除奸，更是敬仰。\\n\\n两人乘机向他讨教些功夫，丘处机详为点拨。\\n\\n杨家枪法虽是兵家绝技，用于战场上冲锋陷阵，固是所向无敌，当者披靡，但以之与武学高手对敌，毕竟颇为不足。\\n\\n丘处机内外兼修，武功虽然尚未登峰造极，却也已臻甚高境界，杨铁心又如何能与他拆上数十招之多？\\n\\n却是丘处机见他出手不凡，心中暗暗称奇，有意引得他把七十二路枪法使完，以便确知他是否杨家嫡传，要是真的对敌，数招之间就已把他铁枪震飞了；当下说明这路枪法的招数本意用于马上，若是步战，须当更求变化，不可拘泥成法。\\n\\n杨郭二人听得不住点头称是。\\n\\n杨家枪是传子不传女的绝艺，丘处机所知虽博，却也不明枪法中的精奥，当下也向杨铁心请教了几招。\\n\\n三人酒酣耳热，言谈甚是投机。\\n\\n杨铁心道：“我们兄弟两人得遇道长，真是平生幸事。', metadata={'source': '/Users/tanzhehao/Downloads/第一回.txt'}),\n",
       " '9d11862e-9752-4442-9bf1-84109b5c84b8': Document(page_content='杨郭二人听得不住点头称是。\\n\\n杨家枪是传子不传女的绝艺，丘处机所知虽博，却也不明枪法中的精奥，当下也向杨铁心请教了几招。\\n\\n三人酒酣耳热，言谈甚是投机。\\n\\n杨铁心道：“我们兄弟两人得遇道长，真是平生幸事。\\n\\n道长可能在舍下多盘桓几日吗？”\\n\\n丘处机正待答话，忽然脸色一变，说道：“有人来找我了。\\n\\n不管遇上甚么事，你们无论如何不可出来，知道吗？”\\n\\n郭杨二人点头答应。\\n\\n丘处机俯身拾起人头，开门出外，飞身上树，躲在枝叶之间。\\n\\n郭杨二人见他举动奇特，茫然不解。\\n\\n这时万籁无声，只听得门外朔风虎虎，过了一阵，西面传来隐隐的马蹄之声，杨铁心道：“道长的耳朵好灵。”\\n\\n又想：“这位道长的武功果然是高得很了，但若与那跛子曲三相比，却不知是谁高谁下？”\\n\\n又过一会，马蹄声越来越近，只见风雪中十余骑急奔而来，乘客都是黑衣黑帽，直冲到门前。\\n\\n当先一人突然勒马，叫道：“足迹到此为止。', metadata={'source': '/Users/tanzhehao/Downloads/第一回.txt'}),\n",
       " '36743861-d201-4f31-ac36-e3c659716590': Document(page_content='郭杨二人见他举动奇特，茫然不解。\\n\\n这时万籁无声，只听得门外朔风虎虎，过了一阵，西面传来隐隐的马蹄之声，杨铁心道：“道长的耳朵好灵。”\\n\\n又想：“这位道长的武功果然是高得很了，但若与那跛子曲三相比，却不知是谁高谁下？”\\n\\n又过一会，马蹄声越来越近，只见风雪中十余骑急奔而来，乘客都是黑衣黑帽，直冲到门前。\\n\\n当先一人突然勒马，叫道：“足迹到此为止。\\n\\n刚才有人在这里动过手。”\\n\\n后面数人翻身下马，察看雪地上的足迹。\\n\\n为首那人叫道：“进屋去搜！”\\n\\n便有两人下马，来拍杨家大门。\\n\\n突然间树上掷下一物，砰的一声，正打在那人头上。\\n\\n这一掷劲力奇大，那人竟被此物撞得脑浆迸裂而死。\\n\\n众人一阵大哗，几个人围住了大树。\\n\\n一人拾起掷下之物，惊叫：“王大人的头！”\\n\\n为首的那人抽出长刀，大声吆喝，十余人把大树团团围住。\\n\\n他又是一声口令，五个人弯弓搭箭，五枝羽箭齐向丘处机射去。', metadata={'source': '/Users/tanzhehao/Downloads/第一回.txt'}),\n",
       " 'bdfcfbcd-86c2-495d-8dfe-258eff31ffea': Document(page_content='后面数人翻身下马，察看雪地上的足迹。\\n\\n为首那人叫道：“进屋去搜！”\\n\\n便有两人下马，来拍杨家大门。\\n\\n突然间树上掷下一物，砰的一声，正打在那人头上。\\n\\n这一掷劲力奇大，那人竟被此物撞得脑浆迸裂而死。\\n\\n众人一阵大哗，几个人围住了大树。\\n\\n一人拾起掷下之物，惊叫：“王大人的头！”\\n\\n为首的那人抽出长刀，大声吆喝，十余人把大树团团围住。\\n\\n他又是一声口令，五个人弯弓搭箭，五枝羽箭齐向丘处机射去。\\n\\n杨铁心提起铁枪要出屋助战，郭啸天一把拉住，低声道：“道长叫咱们别出去。\\n\\n要是他寡不敌众，咱们再出手不迟。”\\n\\n话声甫毕，只见树上一枝羽箭飞将下来，却是丘处机闪开四箭，接住了最后一箭，以甩手箭手法投掷下来，只听得“啊”的一声，一名黑衣人中箭落马，滚入了草丛之中。\\n\\n丘处机拔剑跃下，剑光起处，两名黑衣人已然中剑。\\n\\n为首的黑衣人叫道：“好贼道，原来是你！”', metadata={'source': '/Users/tanzhehao/Downloads/第一回.txt'}),\n",
       " 'ade62864-24d9-4c90-9e90-9f2b36bf797d': Document(page_content='杨铁心提起铁枪要出屋助战，郭啸天一把拉住，低声道：“道长叫咱们别出去。\\n\\n要是他寡不敌众，咱们再出手不迟。”\\n\\n话声甫毕，只见树上一枝羽箭飞将下来，却是丘处机闪开四箭，接住了最后一箭，以甩手箭手法投掷下来，只听得“啊”的一声，一名黑衣人中箭落马，滚入了草丛之中。\\n\\n丘处机拔剑跃下，剑光起处，两名黑衣人已然中剑。\\n\\n为首的黑衣人叫道：“好贼道，原来是你！”\\n\\n刷刷刷三枝短弩随手打出，长刀劈风，勒马冲来。\\n\\n丘处机剑光连闪，又是两人中剑落马。\\n\\n杨铁心只看得张大了口合不拢来，心想自己也练得十年武艺。\\n\\n但这位道爷出剑如此快法，别说抵挡，连瞧也没能瞧清楚，刚才如不是他手下容情，自己早就死于非命了。\\n\\n但见丘处机来去如风，正和骑马使刀那人相斗，那使刀的也甚了得，一柄刀遮架砍劈，甚为威猛。', metadata={'source': '/Users/tanzhehao/Downloads/第一回.txt'}),\n",
       " 'd4eca9f6-e116-4f65-9a8a-625a5e01fd09': Document(page_content='为首的黑衣人叫道：“好贼道，原来是你！”\\n\\n刷刷刷三枝短弩随手打出，长刀劈风，勒马冲来。\\n\\n丘处机剑光连闪，又是两人中剑落马。\\n\\n杨铁心只看得张大了口合不拢来，心想自己也练得十年武艺。\\n\\n但这位道爷出剑如此快法，别说抵挡，连瞧也没能瞧清楚，刚才如不是他手下容情，自己早就死于非命了。\\n\\n但见丘处机来去如风，正和骑马使刀那人相斗，那使刀的也甚了得，一柄刀遮架砍劈，甚为威猛。\\n\\n再斗一阵，郭杨两人已看出丘处机存心与他缠斗，捉空儿或出掌击、或以剑刺，杀伤对方一人，用意似要把全部来敌一鼓歼灭，生怕伤了为头之人，余党一哄而散，那就不易追杀了。\\n\\n只过半顿饭时间，来敌已只剩下六七名。\\n\\n那使刀的知道不敌，一声呼哨，双腿一夹，拨转马头就逃。\\n\\n丘处机左掌前探，已拉住他的马尾，手上一用劲，身子倏地飞起，还未跃上马背，一剑已从他后心插进，前胸穿出。', metadata={'source': '/Users/tanzhehao/Downloads/第一回.txt'}),\n",
       " '612202df-e00c-46b7-b529-d4b13679d249': Document(page_content='再斗一阵，郭杨两人已看出丘处机存心与他缠斗，捉空儿或出掌击、或以剑刺，杀伤对方一人，用意似要把全部来敌一鼓歼灭，生怕伤了为头之人，余党一哄而散，那就不易追杀了。\\n\\n只过半顿饭时间，来敌已只剩下六七名。\\n\\n那使刀的知道不敌，一声呼哨，双腿一夹，拨转马头就逃。\\n\\n丘处机左掌前探，已拉住他的马尾，手上一用劲，身子倏地飞起，还未跃上马背，一剑已从他后心插进，前胸穿出。\\n\\n丘处机抛下敌尸，勒缰控马，四下兜截赶杀，只见铁蹄翻飞，剑光闪烁，惊呼骇叫声中，一个个尸首倒下，鲜血把白雪皑皑的大地片片染红。\\n\\n丘处机提剑四顾，惟见一匹匹空马四散狂奔，再无一名敌人剩下，他哈哈大笑，向郭杨二人招手道：“杀得痛快吗？”\\n\\n郭杨二人开门出来，神色间惊魂未定。\\n\\n郭啸天道：“道长，那是些甚么人？”\\n\\n丘处机道：“你在他们身上搜搜。”', metadata={'source': '/Users/tanzhehao/Downloads/第一回.txt'}),\n",
       " '78929040-17c1-4574-813e-de50eedc2321': Document(page_content='丘处机抛下敌尸，勒缰控马，四下兜截赶杀，只见铁蹄翻飞，剑光闪烁，惊呼骇叫声中，一个个尸首倒下，鲜血把白雪皑皑的大地片片染红。\\n\\n丘处机提剑四顾，惟见一匹匹空马四散狂奔，再无一名敌人剩下，他哈哈大笑，向郭杨二人招手道：“杀得痛快吗？”\\n\\n郭杨二人开门出来，神色间惊魂未定。\\n\\n郭啸天道：“道长，那是些甚么人？”\\n\\n丘处机道：“你在他们身上搜搜。”\\n\\n郭啸天往那持刀人身上抄摸，掏出一件公文来，抽出来看时，却是那装狗叫的临安府赵知府所发的密令，内称大金国使者在临安府坐索杀害王道乾的凶手，着令捕快会同大金国人员，克日拿捕凶手归案。\\n\\n郭啸天正自看得愤怒，那边杨铁心也叫了起来，手里拿着几块从尸身上检出来的腰牌，上面刻着金国文字，却原来这批黑衣人中，有好几人竟是金兵。\\n\\n郭啸天道：“敌兵到咱们国境内任意逮人杀人，我大宋官府竟要听他们使者的号令，那还成甚么世界？”', metadata={'source': '/Users/tanzhehao/Downloads/第一回.txt'}),\n",
       " 'f295b820-4835-48c0-b34e-c26ee5014d79': Document(page_content='郭啸天正自看得愤怒，那边杨铁心也叫了起来，手里拿着几块从尸身上检出来的腰牌，上面刻着金国文字，却原来这批黑衣人中，有好几人竟是金兵。\\n\\n郭啸天道：“敌兵到咱们国境内任意逮人杀人，我大宋官府竟要听他们使者的号令，那还成甚么世界？”\\n\\n杨铁心叹道：“大宋皇帝既向金国称臣，我文武百官还不都成了金人的奴才吗？”\\n\\n丘处机恨恨的道：“出家人本应慈悲为怀，可是一见了害民奸贼、敌国仇寇，贫道竟是不能手下留情。”\\n\\n郭杨二人齐声道：“杀得好，杀得好！”\\n\\n小村中居民本少，天寒大雪，更是无人外出，就算有人瞧见，也早逃回家去闭户不出，谁敢过来察看询问？\\n\\n杨铁心取出锄头铁锹，三人把十余具尸首埋入一个大坑之中。\\n\\n包惜弱拿了扫帚扫除雪上血迹，扫了一会，突觉血腥之气直冲胸臆，眼前一阵金星乱冒，呀的一声，坐倒在雪地之中。\\n\\n杨铁心吃了一惊，忙抢过扶起，连声问道：“怎么？”\\n\\n包惜弱闭目不答。', metadata={'source': '/Users/tanzhehao/Downloads/第一回.txt'}),\n",
       " 'ae1966b1-224d-4096-a6e6-64e1228a8598': Document(page_content='郭杨二人齐声道：“杀得好，杀得好！”\\n\\n小村中居民本少，天寒大雪，更是无人外出，就算有人瞧见，也早逃回家去闭户不出，谁敢过来察看询问？\\n\\n杨铁心取出锄头铁锹，三人把十余具尸首埋入一个大坑之中。\\n\\n包惜弱拿了扫帚扫除雪上血迹，扫了一会，突觉血腥之气直冲胸臆，眼前一阵金星乱冒，呀的一声，坐倒在雪地之中。\\n\\n杨铁心吃了一惊，忙抢过扶起，连声问道：“怎么？”\\n\\n包惜弱闭目不答。\\n\\n杨铁心见她脸如白纸，手足冰冷，心里十分惊惶。\\n\\n丘处机过来拿住包惜弱右手手腕，一搭脉搏，大声笑道：“恭喜，恭喜！”\\n\\n杨铁心愕然道：“甚么？”\\n\\n这时包惜弱“嘤”了一声，醒了过来，见三个男人站在周身，不禁害羞，忙回进屋内。\\n\\n丘处机微笑道：“尊夫人有喜啦！”\\n\\n杨铁心喜道：“当真？”\\n\\n丘处机笑道：“贫道平生所学，稍足自慰的只有三件。\\n\\n第一是医道，炼丹不成，于药石倒因此所知不少。', metadata={'source': '/Users/tanzhehao/Downloads/第一回.txt'}),\n",
       " 'e20bd2fe-66b7-48b8-bae2-7cfb981289d8': Document(page_content='杨铁心见她脸如白纸，手足冰冷，心里十分惊惶。\\n\\n丘处机过来拿住包惜弱右手手腕，一搭脉搏，大声笑道：“恭喜，恭喜！”\\n\\n杨铁心愕然道：“甚么？”\\n\\n这时包惜弱“嘤”了一声，醒了过来，见三个男人站在周身，不禁害羞，忙回进屋内。\\n\\n丘处机微笑道：“尊夫人有喜啦！”\\n\\n杨铁心喜道：“当真？”\\n\\n丘处机笑道：“贫道平生所学，稍足自慰的只有三件。\\n\\n第一是医道，炼丹不成，于药石倒因此所知不少。\\n\\n第二是做几首歪诗，第三才是这几手三脚猫的武艺。”\\n\\n郭啸天道：“道长这般惊人的武功若是三脚猫，我兄弟俩只好说是独脚老鼠了！”\\n\\n三人一面说笑，一面掩埋尸首。\\n\\n掩埋完毕后入屋重整杯盘。\\n\\n丘处机今日一举杀了不少金人，大畅心怀，意兴甚豪。\\n\\n杨铁心想到妻子有了身孕，笑吟吟的合不拢口来，心想：“这位道长会做诗，那是文武双全了。”\\n\\n说道：“郭大嫂也怀了孩子，就烦道长给取两个名字好吗？”', metadata={'source': '/Users/tanzhehao/Downloads/第一回.txt'}),\n",
       " 'b3f250a5-d8a8-4e71-9a75-fa66f3911a7c': Document(page_content='第二是做几首歪诗，第三才是这几手三脚猫的武艺。”\\n\\n郭啸天道：“道长这般惊人的武功若是三脚猫，我兄弟俩只好说是独脚老鼠了！”\\n\\n三人一面说笑，一面掩埋尸首。\\n\\n掩埋完毕后入屋重整杯盘。\\n\\n丘处机今日一举杀了不少金人，大畅心怀，意兴甚豪。\\n\\n杨铁心想到妻子有了身孕，笑吟吟的合不拢口来，心想：“这位道长会做诗，那是文武双全了。”\\n\\n说道：“郭大嫂也怀了孩子，就烦道长给取两个名字好吗？”\\n\\n丘处机微一沉吟，说道：“郭大哥的孩子就叫郭靖，杨二哥的孩子叫作杨康，不论男女，都可用这两个名字。”\\n\\n郭啸天道：“好，道长的意思是叫他们不忘靖康之耻，要记得二帝被虏之辱。”\\n\\n丘处机道：“正是！”伸手入怀，摸出两柄短剑来，放在桌上。\\n\\n这对剑长短形状完全相同，都是绿皮鞘、金吞口、乌木的剑柄。\\n\\n他拿起杨铁心的那柄匕首，在一把短剑的剑柄上刻了“郭靖”两字，在另一把短剑上刻了“杨康”两字。', metadata={'source': '/Users/tanzhehao/Downloads/第一回.txt'}),\n",
       " '3c1f0ffa-efcc-4cfe-9bac-8b996c843dfe': Document(page_content='丘处机微一沉吟，说道：“郭大哥的孩子就叫郭靖，杨二哥的孩子叫作杨康，不论男女，都可用这两个名字。”\\n\\n郭啸天道：“好，道长的意思是叫他们不忘靖康之耻，要记得二帝被虏之辱。”\\n\\n丘处机道：“正是！”伸手入怀，摸出两柄短剑来，放在桌上。\\n\\n这对剑长短形状完全相同，都是绿皮鞘、金吞口、乌木的剑柄。\\n\\n他拿起杨铁心的那柄匕首，在一把短剑的剑柄上刻了“郭靖”两字，在另一把短剑上刻了“杨康”两字。\\n\\n郭杨二人见他运剑如飞，比常人写字还要迅速，刚刚明白他的意思，丘处机已刻完了字，笑道：“客中没带甚么东西，这对短剑，就留给两个还没出世的孩子吧。”\\n\\n郭杨两人谢了接过，抽剑出鞘，只觉冷气森森，剑刃锋利之极。\\n\\n丘处机道：“这对短剑是我无意之中得来的，虽然锋锐，但剑刃短了，贫道不合使，将来孩子们倒可用来杀敌防身。\\n\\n十年之后，贫道如尚苟活人世，必当再来，传授孩子们几手功夫，如何？”\\n\\n郭杨二人大喜，连声称谢。', metadata={'source': '/Users/tanzhehao/Downloads/第一回.txt'}),\n",
       " '2cd1d146-bd4d-4289-a7b9-89e778c77392': Document(page_content='郭杨两人谢了接过，抽剑出鞘，只觉冷气森森，剑刃锋利之极。\\n\\n丘处机道：“这对短剑是我无意之中得来的，虽然锋锐，但剑刃短了，贫道不合使，将来孩子们倒可用来杀敌防身。\\n\\n十年之后，贫道如尚苟活人世，必当再来，传授孩子们几手功夫，如何？”\\n\\n郭杨二人大喜，连声称谢。\\n\\n丘处机道：“金人窃据北方，对百姓暴虐之极，其势必不可久。\\n\\n两位好自为之吧。”\\n\\n举起酒杯，一饮而尽，开门走出。\\n\\n郭杨二人待要相留，却见他迈步如飞，在雪地里早已去得远了。\\n\\n郭啸天叹道：“高人侠士总是这样来去飘忽，咱们今日虽有幸会见，想多讨教一点，却是无缘。”\\n\\n杨铁心笑道：“大哥，道长今日杀得好痛快，也给咱们出了一口闷气。”\\n\\n拿着短剑，拔出鞘来摩挲剑刃，忽道：“大哥，我有个傻主意，你瞧成不成？”\\n\\n郭啸天道：“怎么？”\\n\\n杨铁心', metadata={'source': '/Users/tanzhehao/Downloads/第一回.txt'})}"
      ]
     },
     "execution_count": 14,
     "metadata": {},
     "output_type": "execute_result"
    }
   ],
   "source": [
    "db.docstore._dict"
   ]
  },
  {
   "cell_type": "code",
   "execution_count": 10,
   "metadata": {},
   "outputs": [
    {
     "data": {
      "text/plain": [
       "[{'role': 'user',\n",
       "  'content': '你的指令是为我提供一个基于《射雕英雄传》剧情的在线RPG游戏体验。在这个游戏中，玩家将扮演《射雕英雄传》剧情关键角色，游戏情景将基于《射雕英雄传》剧情。这个游戏的玩法是互动式的，并遵循以下特定格式：\\n\\n<场景描述>：根据玩家的选择，故事情节将按照《射雕英雄传》剧情的线索发展。你将描述角色所处的环境和情况。\\n\\n<场景图片>：对于每个场景，你将创造一个概括该情况的图像。这些图像的风格将类似于1980年代RPG游戏对话，16:9宽屏比例。在这个步骤你需要调用画图工具(ImageTool)。\\n\\n<选择>：在每次互动中，你将为玩家提供三个行动选项，分别标为1、2、3，以及第四个选项“输入玩家自定义的选择”。故事情节将根据玩家选择的行动进展。如果一个选择不是直接来自《射雕英雄传》剧情，你将创造性地适应故事，最终引导它回归原始情节。\\n\\n整个故事将围绕《射雕英雄传》丰富而复杂的世界展开。每次互动必须包括<场景描述>、<场景图片>和<选择>。所有内容将以中文呈现。你的重点将仅仅放在提供场景描述，场景图片和选择上，不包含其他游戏指导。场景尽量不要重复，要丰富一些。\\n\\n当我说游戏开始的时候，开始游戏。每次只要输出一组互动，不要自己生成互动。'},\n",
       " {'role': 'assistant', 'content': '好的，我将为你提供《射雕英雄传》沉浸式图文RPG场景体验。'},\n",
       " {'role': 'user', 'content': [['开始游戏', None]]}]"
      ]
     },
     "execution_count": 10,
     "metadata": {},
     "output_type": "execute_result"
    }
   ],
   "source": [
    "my_bot.chat_history"
   ]
  },
  {
   "cell_type": "code",
   "execution_count": 26,
   "metadata": {},
   "outputs": [],
   "source": [
    "my_bot.chat_history = []"
   ]
  },
  {
   "cell_type": "code",
   "execution_count": 23,
   "metadata": {},
   "outputs": [
    {
     "data": {
      "text/plain": [
       "[{'role': 'user', 'content': [['你好', None], ['你好', None]]}]"
      ]
     },
     "execution_count": 23,
     "metadata": {},
     "output_type": "execute_result"
    }
   ],
   "source": [
    "my_bot.chat_history"
   ]
  },
  {
   "cell_type": "code",
   "execution_count": 21,
   "metadata": {},
   "outputs": [
    {
     "data": {
      "text/plain": [
       "[{'role': 'user', 'content': '开始游戏'},\n",
       " {'role': 'assistant',\n",
       "  'content': '很抱歉，我无法直接与您进行游戏互动。但我可以为您提供关于游戏的信息、策略或帮助您解决游戏相关的问题。请告诉我您想了解的游戏的具体信息，我会尽量为您提供帮助。'}]"
      ]
     },
     "execution_count": 21,
     "metadata": {},
     "output_type": "execute_result"
    }
   ],
   "source": [
    "my_bot.chat_history"
   ]
  },
  {
   "cell_type": "code",
   "execution_count": 20,
   "metadata": {},
   "outputs": [
    {
     "name": "stdout",
     "output_type": "stream",
     "text": [
      "很抱歉，我无法直接与您\n",
      "很抱歉，我无法直接与您进行游戏互动。\n",
      "很抱歉，我无法直接与您进行游戏互动。但我可以为您提供关于游戏的信息、策略或帮助您解决游戏相关的问题。\n",
      "很抱歉，我无法直接与您进行游戏互动。但我可以为您提供关于游戏的信息、策略或帮助您解决游戏相关的问题。请告诉我您想了解的游戏的具体信息，我会尽量为您提供帮助。\n",
      "很抱歉，我无法直接与您进行游戏互动。但我可以为您提供关于游戏的信息、策略或帮助您解决游戏相关的问题。请告诉我您想了解的游戏的具体信息，我会尽量为您提供帮助。\n"
     ]
    }
   ],
   "source": [
    "for item in my_bot.chat_stream('开始游戏'):\n",
    "    print(item)"
   ]
  },
  {
   "cell_type": "code",
   "execution_count": 33,
   "metadata": {},
   "outputs": [
    {
     "name": "stdout",
     "output_type": "stream",
     "text": [
      "Running on local URL:  http://127.0.0.1:7867\n",
      "\n",
      "To create a public link, set `share=True` in `launch()`.\n"
     ]
    },
    {
     "data": {
      "text/html": [
       "<div><iframe src=\"http://127.0.0.1:7867/\" width=\"100%\" height=\"500\" allow=\"autoplay; camera; microphone; clipboard-read; clipboard-write;\" frameborder=\"0\" allowfullscreen></iframe></div>"
      ],
      "text/plain": [
       "<IPython.core.display.HTML object>"
      ]
     },
     "metadata": {},
     "output_type": "display_data"
    },
    {
     "data": {
      "text/plain": []
     },
     "execution_count": 33,
     "metadata": {},
     "output_type": "execute_result"
    },
    {
     "name": "stdout",
     "output_type": "stream",
     "text": [
      "深圳，简称“深\n",
      "深圳，简称“深”，别称鹏城，是广东省辖地级市，也是国家计划单列市和超大城市。\n",
      "深圳，简称“深”，别称鹏城，是广东省辖地级市，也是国家计划单列市和超大城市。它位于中国华南地区，广东南部，珠江口东岸，东临大亚湾和大鹏湾，西濒珠江口和伶仃洋，南隔深圳河与香港相连。\n",
      "深圳，简称“深”，别称鹏城，是广东省辖地级市，也是国家计划单列市和超大城市。它位于中国华南地区，广东南部，珠江口东岸，东临大亚湾和大鹏湾，西濒珠江口和伶仃洋，南隔深圳河与香港相连。深圳属南亚热带季风气候，长夏短冬，气候温和，日照充足，雨量充沛。\n",
      "深圳，简称“深”，别称鹏城，是广东省辖地级市，也是国家计划单列市和超大城市。它位于中国华南地区，广东南部，珠江口东岸，东临大亚湾和大鹏湾，西濒珠江口和伶仃洋，南隔深圳河与香港相连。深圳属南亚热带季风气候，长夏短冬，气候温和，日照充足，雨量充沛。\n",
      "\n",
      "深圳是中国经济特区、全国性经济中心城市、国际化城市、科技创新中心、区域金融中心、商贸物流中心。\n",
      "深圳，简称“深”，别称鹏城，是广东省辖地级市，也是国家计划单列市和超大城市。它位于中国华南地区，广东南部，珠江口东岸，东临大亚湾和大鹏湾，西濒珠江口和伶仃洋，南隔深圳河与香港相连。深圳属南亚热带季风气候，长夏短冬，气候温和，日照充足，雨量充沛。\n",
      "\n",
      "深圳是中国经济特区、全国性经济中心城市、国际化城市、科技创新中心、区域金融中心、商贸物流中心。深圳最早的前身为广州府宝安县，有本地客家文化和岭南文化。\n",
      "深圳，简称“深”，别称鹏城，是广东省辖地级市，也是国家计划单列市和超大城市。它位于中国华南地区，广东南部，珠江口东岸，东临大亚湾和大鹏湾，西濒珠江口和伶仃洋，南隔深圳河与香港相连。深圳属南亚热带季风气候，长夏短冬，气候温和，日照充足，雨量充沛。\n",
      "\n",
      "深圳是中国经济特区、全国性经济中心城市、国际化城市、科技创新中心、区域金融中心、商贸物流中心。深圳最早的前身为广州府宝安县，有本地客家文化和岭南文化。深圳之名始见史籍于明朝永乐八年（1410年），1979年成立深圳市，1980年成为中国设立的第一个经济特区。\n",
      "深圳，简称“深”，别称鹏城，是广东省辖地级市，也是国家计划单列市和超大城市。它位于中国华南地区，广东南部，珠江口东岸，东临大亚湾和大鹏湾，西濒珠江口和伶仃洋，南隔深圳河与香港相连。深圳属南亚热带季风气候，长夏短冬，气候温和，日照充足，雨量充沛。\n",
      "\n",
      "深圳是中国经济特区、全国性经济中心城市、国际化城市、科技创新中心、区域金融中心、商贸物流中心。深圳最早的前身为广州府宝安县，有本地客家文化和岭南文化。深圳之名始见史籍于明朝永乐八年（1410年），1979年成立深圳市，1980年成为中国设立的第一个经济特区。\n",
      "\n",
      "深圳是粤港澳大湾区四大中心城市之一、国家物流枢纽、国际性综合交通枢纽、国际科技产业创新中心、中国三大全国性金融中心之一，并全力建设中国特色社会主义先行示范区、综合性国家科学中心、全球海洋中心城市。\n",
      "深圳，简称“深”，别称鹏城，是广东省辖地级市，也是国家计划单列市和超大城市。它位于中国华南地区，广东南部，珠江口东岸，东临大亚湾和大鹏湾，西濒珠江口和伶仃洋，南隔深圳河与香港相连。深圳属南亚热带季风气候，长夏短冬，气候温和，日照充足，雨量充沛。\n",
      "\n",
      "深圳是中国经济特区、全国性经济中心城市、国际化城市、科技创新中心、区域金融中心、商贸物流中心。深圳最早的前身为广州府宝安县，有本地客家文化和岭南文化。深圳之名始见史籍于明朝永乐八年（1410年），1979年成立深圳市，1980年成为中国设立的第一个经济特区。\n",
      "\n",
      "深圳是粤港澳大湾区四大中心城市之一、国家物流枢纽、国际性综合交通枢纽、国际科技产业创新中心、中国三大全国性金融中心之一，并全力建设中国特色社会主义先行示范区、综合性国家科学中心、全球海洋中心城市。\n",
      "\n",
      "深圳的水产资源丰富，沙井蚝是深圳最著名特产。\n",
      "深圳，简称“深”，别称鹏城，是广东省辖地级市，也是国家计划单列市和超大城市。它位于中国华南地区，广东南部，珠江口东岸，东临大亚湾和大鹏湾，西濒珠江口和伶仃洋，南隔深圳河与香港相连。深圳属南亚热带季风气候，长夏短冬，气候温和，日照充足，雨量充沛。\n",
      "\n",
      "深圳是中国经济特区、全国性经济中心城市、国际化城市、科技创新中心、区域金融中心、商贸物流中心。深圳最早的前身为广州府宝安县，有本地客家文化和岭南文化。深圳之名始见史籍于明朝永乐八年（1410年），1979年成立深圳市，1980年成为中国设立的第一个经济特区。\n",
      "\n",
      "深圳是粤港澳大湾区四大中心城市之一、国家物流枢纽、国际性综合交通枢纽、国际科技产业创新中心、中国三大全国性金融中心之一，并全力建设中国特色社会主义先行示范区、综合性国家科学中心、全球海洋中心城市。\n",
      "\n",
      "深圳的水产资源丰富，沙井蚝是深圳最著名特产。深圳市已形成一个具有地方特色、自然特色、文化特色的旅游景点体系，主要景点（景区）有深圳西部海上田园旅游区、野生动物园、华侨城旅游度假区、观澜湖高尔夫球会、明思克航母世界等。\n",
      "深圳，简称“深”，别称鹏城，是广东省辖地级市，也是国家计划单列市和超大城市。它位于中国华南地区，广东南部，珠江口东岸，东临大亚湾和大鹏湾，西濒珠江口和伶仃洋，南隔深圳河与香港相连。深圳属南亚热带季风气候，长夏短冬，气候温和，日照充足，雨量充沛。\n",
      "\n",
      "深圳是中国经济特区、全国性经济中心城市、国际化城市、科技创新中心、区域金融中心、商贸物流中心。深圳最早的前身为广州府宝安县，有本地客家文化和岭南文化。深圳之名始见史籍于明朝永乐八年（1410年），1979年成立深圳市，1980年成为中国设立的第一个经济特区。\n",
      "\n",
      "深圳是粤港澳大湾区四大中心城市之一、国家物流枢纽、国际性综合交通枢纽、国际科技产业创新中心、中国三大全国性金融中心之一，并全力建设中国特色社会主义先行示范区、综合性国家科学中心、全球海洋中心城市。\n",
      "\n",
      "深圳的水产资源丰富，沙井蚝是深圳最著名特产。深圳市已形成一个具有地方特色、自然特色、文化特色的旅游景点体系，主要景点（景区）有深圳西部海上田园旅游区、野生动物园、华侨城旅游度假区、观澜湖高尔夫球会、明思克航母世界等。\n",
      "\n",
      "此外，深圳还是中国重要的高新技术研发和制造基地，拥有华为、腾讯等众多知名企业。\n",
      "深圳，简称“深”，别称鹏城，是广东省辖地级市，也是国家计划单列市和超大城市。它位于中国华南地区，广东南部，珠江口东岸，东临大亚湾和大鹏湾，西濒珠江口和伶仃洋，南隔深圳河与香港相连。深圳属南亚热带季风气候，长夏短冬，气候温和，日照充足，雨量充沛。\n",
      "\n",
      "深圳是中国经济特区、全国性经济中心城市、国际化城市、科技创新中心、区域金融中心、商贸物流中心。深圳最早的前身为广州府宝安县，有本地客家文化和岭南文化。深圳之名始见史籍于明朝永乐八年（1410年），1979年成立深圳市，1980年成为中国设立的第一个经济特区。\n",
      "\n",
      "深圳是粤港澳大湾区四大中心城市之一、国家物流枢纽、国际性综合交通枢纽、国际科技产业创新中心、中国三大全国性金融中心之一，并全力建设中国特色社会主义先行示范区、综合性国家科学中心、全球海洋中心城市。\n",
      "\n",
      "深圳的水产资源丰富，沙井蚝是深圳最著名特产。深圳市已形成一个具有地方特色、自然特色、文化特色的旅游景点体系，主要景点（景区）有深圳西部海上田园旅游区、野生动物园、华侨城旅游度假区、观澜湖高尔夫球会、明思克航母世界等。\n",
      "\n",
      "此外，深圳还是中国重要的高新技术研发和制造基地，拥有华为、腾讯等众多知名企业。深圳的科技创新能力在全球范围内都具有重要地位。\n",
      "深圳，简称“深”，别称鹏城，是广东省辖地级市，也是国家计划单列市和超大城市。它位于中国华南地区，广东南部，珠江口东岸，东临大亚湾和大鹏湾，西濒珠江口和伶仃洋，南隔深圳河与香港相连。深圳属南亚热带季风气候，长夏短冬，气候温和，日照充足，雨量充沛。\n",
      "\n",
      "深圳是中国经济特区、全国性经济中心城市、国际化城市、科技创新中心、区域金融中心、商贸物流中心。深圳最早的前身为广州府宝安县，有本地客家文化和岭南文化。深圳之名始见史籍于明朝永乐八年（1410年），1979年成立深圳市，1980年成为中国设立的第一个经济特区。\n",
      "\n",
      "深圳是粤港澳大湾区四大中心城市之一、国家物流枢纽、国际性综合交通枢纽、国际科技产业创新中心、中国三大全国性金融中心之一，并全力建设中国特色社会主义先行示范区、综合性国家科学中心、全球海洋中心城市。\n",
      "\n",
      "深圳的水产资源丰富，沙井蚝是深圳最著名特产。深圳市已形成一个具有地方特色、自然特色、文化特色的旅游景点体系，主要景点（景区）有深圳西部海上田园旅游区、野生动物园、华侨城旅游度假区、观澜湖高尔夫球会、明思克航母世界等。\n",
      "\n",
      "此外，深圳还是中国重要的高新技术研发和制造基地，拥有华为、腾讯等众多知名企业。深圳的科技创新能力在全球范围内都具有重要地位。\n",
      "\n",
      "总的来说，深圳是中国的一座重要城市，具有独特的地理位置、丰富的自然和文化资源以及强大的经济实力和科技创新能力。\n",
      "深圳，简称“深”，别称鹏城，是广东省辖地级市，也是国家计划单列市和超大城市。它位于中国华南地区，广东南部，珠江口东岸，东临大亚湾和大鹏湾，西濒珠江口和伶仃洋，南隔深圳河与香港相连。深圳属南亚热带季风气候，长夏短冬，气候温和，日照充足，雨量充沛。\n",
      "\n",
      "深圳是中国经济特区、全国性经济中心城市、国际化城市、科技创新中心、区域金融中心、商贸物流中心。深圳最早的前身为广州府宝安县，有本地客家文化和岭南文化。深圳之名始见史籍于明朝永乐八年（1410年），1979年成立深圳市，1980年成为中国设立的第一个经济特区。\n",
      "\n",
      "深圳是粤港澳大湾区四大中心城市之一、国家物流枢纽、国际性综合交通枢纽、国际科技产业创新中心、中国三大全国性金融中心之一，并全力建设中国特色社会主义先行示范区、综合性国家科学中心、全球海洋中心城市。\n",
      "\n",
      "深圳的水产资源丰富，沙井蚝是深圳最著名特产。深圳市已形成一个具有地方特色、自然特色、文化特色的旅游景点体系，主要景点（景区）有深圳西部海上田园旅游区、野生动物园、华侨城旅游度假区、观澜湖高尔夫球会、明思克航母世界等。\n",
      "\n",
      "此外，深圳还是中国重要的高新技术研发和制造基地，拥有华为、腾讯等众多知名企业。深圳的科技创新能力在全球范围内都具有重要地位。\n",
      "\n",
      "总的来说，深圳是中国的一座重要城市，具有独特的地理位置、丰富的自然和文化资源以及强大的经济实力和科技创新能力。\n"
     ]
    }
   ],
   "source": [
    "import gradio as gr\n",
    "import random\n",
    "import time\n",
    "\n",
    "my_bot.chat_history = []\n",
    "\n",
    "with gr.Blocks() as demo:\n",
    "    chatbot = gr.Chatbot()\n",
    "    msg = gr.Textbox()\n",
    "    clear = gr.Button(\"清除\")\n",
    "\n",
    "    def user(user_message, history):\n",
    "        return \"\", history + [[user_message, None]]\n",
    "\n",
    "    def bot(history):\n",
    "        bot_message = my_bot.chat_stream(history[-1][0])\n",
    "\n",
    "        for temp_mes in bot_message:\n",
    "            history[-1][1] = temp_mes\n",
    "            print(history[-1][1])\n",
    "            yield history\n",
    "\n",
    "    msg.submit(user, [msg, chatbot], [msg, chatbot], queue=False).then(\n",
    "        bot, chatbot, chatbot\n",
    "    )\n",
    "    clear.click(lambda: None, None, chatbot, queue=False)\n",
    "\n",
    "# demo.queue()\n",
    "demo.launch()\n"
   ]
  },
  {
   "cell_type": "code",
   "execution_count": 71,
   "metadata": {},
   "outputs": [
    {
     "name": "stdout",
     "output_type": "stream",
     "text": [
      "<h3>References (Click to Expand)</h3>\n",
      "\n",
      "<details style=\"border: 1px solid #ccc; padding: 10px; border-radius: 4px; margin-bottom: 4px\">\n",
      "    <summary style=\"display: flex; align-items: center; font-weight: bold;\">\n",
      "        <span style=\"margin-right: 10px;\">[1] Reference1</span>\n",
      "        <a style=\"text-decoration: none; background: none !important;\" target=\"_blank\">\n",
      "            <!--[Here should be a link icon]-->\n",
      "            <i style=\"border: solid #000; border-width: 0 2px 2px 0; display: inline-block; padding: 3px;\n",
      "            transform:rotate(-45deg);-webkit-transform(-45deg)\">\n",
      "            </i>\n",
      "        </a>\n",
      "    </summary>\n",
      "    <p style=\"margin-top: 10px;\">[0]</p>\n",
      "    <img src='file=/private/var/folders/gw/lbw__qt16dl3sdh_5cgv_jl00000gn/T/gradio/git.png' alt='Example Image'>\n",
      "</details>\n",
      "\n",
      "\n",
      "\n",
      "\n",
      "<details style=\"border: 1px solid #ccc; padding: 10px; border-radius: 4px; margin-bottom: 4px\">\n",
      "    <summary style=\"display: flex; align-items: center; font-weight: bold;\">\n",
      "        <span style=\"margin-right: 10px;\">[2] Reference2</span>\n",
      "        <a style=\"text-decoration: none; background: none !important;\" target=\"_blank\">\n",
      "            <!--[Here should be a link icon]-->\n",
      "            <i style=\"border: solid #000; border-width: 0 2px 2px 0; display: inline-block; padding: 3px;\n",
      "            transform:rotate(-45deg);-webkit-transform(-45deg)\">\n",
      "            </i>\n",
      "        </a>\n",
      "    </summary>\n",
      "    <p style=\"margin-top: 10px;\">[1]</p>\n",
      "    <img src='file=/private/var/folders/gw/lbw__qt16dl3sdh_5cgv_jl00000gn/T/gradio/git.png' alt='Example Image'>\n",
      "</details>\n",
      "\n",
      "\n"
     ]
    }
   ],
   "source": [
    "refs = []\n",
    "for i in range(2):\n",
    "    temp_dict = {\n",
    "        \"title\": f\"Reference{i+1}\",\n",
    "        \"text\": [i],\n",
    "    }\n",
    "    refs.append(temp_dict)\n",
    "\n",
    "REF_HTML = \"\"\"\n",
    "\n",
    "<details style=\"border: 1px solid #ccc; padding: 10px; border-radius: 4px; margin-bottom: 4px\">\n",
    "    <summary style=\"display: flex; align-items: center; font-weight: bold;\">\n",
    "        <span style=\"margin-right: 10px;\">[{index}] {title}</span>\n",
    "        <a style=\"text-decoration: none; background: none !important;\" target=\"_blank\">\n",
    "            <!--[Here should be a link icon]-->\n",
    "            <i style=\"border: solid #000; border-width: 0 2px 2px 0; display: inline-block; padding: 3px;\n",
    "            transform:rotate(-45deg);-webkit-transform(-45deg)\">\n",
    "            </i>\n",
    "        </a>\n",
    "    </summary>\n",
    "    <p style=\"margin-top: 10px;\">{text}</p>\n",
    "    <img src='file=/private/var/folders/gw/lbw__qt16dl3sdh_5cgv_jl00000gn/T/gradio/git.png' alt='Example Image'>\n",
    "</details>\n",
    "\n",
    "\"\"\"\n",
    "\n",
    "print(\"<h3>References (Click to Expand)</h3>\" + \"\\n\".join(\n",
    "            [REF_HTML.format(**item, index=idx + 1) for idx, item in enumerate(refs)]\n",
    "        ))"
   ]
  },
  {
   "cell_type": "code",
   "execution_count": 74,
   "metadata": {},
   "outputs": [
    {
     "data": {
      "text/plain": [
       "['Image(abssjhbf)']"
      ]
     },
     "execution_count": 74,
     "metadata": {},
     "output_type": "execute_result"
    }
   ],
   "source": [
    "import re\n",
    "pattern = r\"Image\\([^)]*\\)\"\n",
    "re.findall(pattern, 'i need a Image(abssjhbf)')"
   ]
  },
  {
   "cell_type": "code",
   "execution_count": 72,
   "metadata": {},
   "outputs": [
    {
     "name": "stdout",
     "output_type": "stream",
     "text": [
      "Running on local URL:  http://127.0.0.1:7892\n",
      "\n",
      "To create a public link, set `share=True` in `launch()`.\n"
     ]
    },
    {
     "data": {
      "text/html": [
       "<div><iframe src=\"http://127.0.0.1:7892/\" width=\"100%\" height=\"500\" allow=\"autoplay; camera; microphone; clipboard-read; clipboard-write;\" frameborder=\"0\" allowfullscreen></iframe></div>"
      ],
      "text/plain": [
       "<IPython.core.display.HTML object>"
      ]
     },
     "metadata": {},
     "output_type": "display_data"
    },
    {
     "data": {
      "text/plain": []
     },
     "execution_count": 72,
     "metadata": {},
     "output_type": "execute_result"
    }
   ],
   "source": [
    "import gradio as gr\n",
    "\n",
    "def chatbot_function(input_text, history):\n",
    "    # Your chatbot logic goes here\n",
    "    response_text = \"Your chatbot response\"\n",
    "    \n",
    "    # You can use HTML tags in the response\n",
    "    # response_html = f\"<p>{response_text}</p><img src='/Users/tanzhehao/Downloads/43.png' alt='Example Image'>\"\n",
    "    response_html = \"<h3>References (Click to Expand)</h3>\" + \"\\n\".join(\n",
    "            [REF_HTML.format(**item, index=idx + 1) for idx, item in enumerate(refs)]\n",
    "        )\n",
    "    return '',[(input_text,response_html)]\n",
    "\n",
    "def img_function(path):\n",
    "    return path\n",
    "\n",
    "with gr.Blocks() as demo:\n",
    "    chatbot = gr.Chatbot()\n",
    "    msg = gr.Textbox()\n",
    "    clear = gr.Button(\"清除\")\n",
    "    img = gr.Image(type='filepath')\n",
    "    \n",
    "    img.upload(img_function,img,msg)\n",
    "    msg.submit(chatbot_function, [msg, chatbot], [msg, chatbot], queue=False)\n",
    "    clear.click(lambda: None, None, chatbot, queue=False)\n",
    "\n",
    "demo.queue()\n",
    "demo.launch()\n"
   ]
  },
  {
   "cell_type": "code",
   "execution_count": 41,
   "metadata": {},
   "outputs": [
    {
     "name": "stdout",
     "output_type": "stream",
     "text": [
      "Running on local URL:  http://127.0.0.1:7876\n",
      "\n",
      "To create a public link, set `share=True` in `launch()`.\n"
     ]
    },
    {
     "data": {
      "text/html": [
       "<div><iframe src=\"http://127.0.0.1:7876/\" width=\"100%\" height=\"500\" allow=\"autoplay; camera; microphone; clipboard-read; clipboard-write;\" frameborder=\"0\" allowfullscreen></iframe></div>"
      ],
      "text/plain": [
       "<IPython.core.display.HTML object>"
      ]
     },
     "metadata": {},
     "output_type": "display_data"
    },
    {
     "data": {
      "text/plain": []
     },
     "execution_count": 41,
     "metadata": {},
     "output_type": "execute_result"
    }
   ],
   "source": [
    "import gradio as gr\n",
    "import random\n",
    "import time\n",
    "from spacy import displacy\n",
    "\n",
    "def chatbot_function(input_text):\n",
    "    # Your chatbot logic goes here\n",
    "    # response_text = \"Your chatbot response\"\n",
    "    \n",
    "    # You can use HTML tags in the response\n",
    "    response_html = f\"<p>{input_text}</p><img src='https://example.com/image.jpg' alt='Example Image'>\"\n",
    "    \n",
    "    return response_html\n",
    "\n",
    "with gr.Blocks() as demo:\n",
    "    chatbot = gr.Chatbot()\n",
    "    msg = gr.Textbox()\n",
    "    clear = gr.Button(\"清除\")\n",
    "\n",
    "    def user(user_message, history):\n",
    "        return \"\", history + [[user_message, None]]\n",
    "\n",
    "    def bot(history):\n",
    "        bot_message = random.choice([\"![你好吗](/Users/tanzhehao/Downloads/43.png)\", html, \"![我很饿](/Users/tanzhehao/Downloads/43.png)\"])\n",
    "        history[-1][1] = \"\"\n",
    "        for character in bot_message:\n",
    "            history[-1][1] += character\n",
    "            # time.sleep(0.05)\n",
    "            yield history\n",
    "\n",
    "    msg.submit(user, [msg, chatbot], [msg, chatbot], queue=False).then(\n",
    "        bot, chatbot, chatbot\n",
    "    )\n",
    "    clear.click(lambda: None, None, chatbot, queue=False)\n",
    "\n",
    "demo.queue()\n",
    "demo.launch()"
   ]
  },
  {
   "cell_type": "code",
   "execution_count": null,
   "metadata": {},
   "outputs": [],
   "source": []
  }
 ],
 "metadata": {
  "kernelspec": {
   "display_name": "ernie",
   "language": "python",
   "name": "python3"
  },
  "language_info": {
   "codemirror_mode": {
    "name": "ipython",
    "version": 3
   },
   "file_extension": ".py",
   "mimetype": "text/x-python",
   "name": "python",
   "nbconvert_exporter": "python",
   "pygments_lexer": "ipython3",
   "version": "3.10.13"
  }
 },
 "nbformat": 4,
 "nbformat_minor": 2
}
